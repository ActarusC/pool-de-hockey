{
 "metadata": {
  "language_info": {
   "codemirror_mode": {
    "name": "ipython",
    "version": 3
   },
   "file_extension": ".py",
   "mimetype": "text/x-python",
   "name": "python",
   "nbconvert_exporter": "python",
   "pygments_lexer": "ipython3",
   "version": "3.8.2-final"
  },
  "orig_nbformat": 2,
  "kernelspec": {
   "name": "python3",
   "display_name": "Python 3",
   "language": "python"
  }
 },
 "nbformat": 4,
 "nbformat_minor": 2,
 "cells": [
  {
   "cell_type": "code",
   "execution_count": 30,
   "metadata": {},
   "outputs": [
    {
     "output_type": "execute_result",
     "data": {
      "text/plain": [
       "[{'index': 0,\n",
       "  'Id': 'gab',\n",
       "  'Nom': 'Gabriel',\n",
       "  'Équipe': 'Tropics',\n",
       "  'Abbréviation': 'TRO',\n",
       "  'Score': 0},\n",
       " {'index': 1,\n",
       "  'Id': 'cle',\n",
       "  'Nom': 'Clément',\n",
       "  'Équipe': 'Rocket',\n",
       "  'Abbréviation': 'ROC',\n",
       "  'Score': 0},\n",
       " {'index': 2,\n",
       "  'Id': 'hub',\n",
       "  'Nom': 'Hubert',\n",
       "  'Équipe': 'Patriotes',\n",
       "  'Abbréviation': 'PAT',\n",
       "  'Score': 0}]"
      ]
     },
     "metadata": {},
     "execution_count": 30
    }
   ],
   "source": [
    "json.loads(jsonPoolers)[\"data\"]"
   ]
  },
  {
   "cell_type": "code",
   "execution_count": 7,
   "metadata": {},
   "outputs": [],
   "source": [
    "conn = sqlite3.connect('C:/Users/huber/OneDrive/NHL/DbMatchs.db')"
   ]
  },
  {
   "cell_type": "code",
   "execution_count": 8,
   "metadata": {},
   "outputs": [],
   "source": [
    "dfPoolers = pd.read_sql(\"SELECT * FROM POOLERS\", conn)"
   ]
  },
  {
   "cell_type": "code",
   "execution_count": 9,
   "metadata": {},
   "outputs": [
    {
     "output_type": "execute_result",
     "data": {
      "text/plain": [
       "    Id      Nom     Équipe Abbréviation  Score\n",
       "0  gab  Gabriel    Tropics          TRO      0\n",
       "1  cle  Clément     Rocket          ROC      0\n",
       "2  hub   Hubert  Patriotes          PAT      0"
      ],
      "text/html": "<div>\n<style scoped>\n    .dataframe tbody tr th:only-of-type {\n        vertical-align: middle;\n    }\n\n    .dataframe tbody tr th {\n        vertical-align: top;\n    }\n\n    .dataframe thead th {\n        text-align: right;\n    }\n</style>\n<table border=\"1\" class=\"dataframe\">\n  <thead>\n    <tr style=\"text-align: right;\">\n      <th></th>\n      <th>Id</th>\n      <th>Nom</th>\n      <th>Équipe</th>\n      <th>Abbréviation</th>\n      <th>Score</th>\n    </tr>\n  </thead>\n  <tbody>\n    <tr>\n      <th>0</th>\n      <td>gab</td>\n      <td>Gabriel</td>\n      <td>Tropics</td>\n      <td>TRO</td>\n      <td>0</td>\n    </tr>\n    <tr>\n      <th>1</th>\n      <td>cle</td>\n      <td>Clément</td>\n      <td>Rocket</td>\n      <td>ROC</td>\n      <td>0</td>\n    </tr>\n    <tr>\n      <th>2</th>\n      <td>hub</td>\n      <td>Hubert</td>\n      <td>Patriotes</td>\n      <td>PAT</td>\n      <td>0</td>\n    </tr>\n  </tbody>\n</table>\n</div>"
     },
     "metadata": {},
     "execution_count": 9
    }
   ],
   "source": [
    "dfPoolers"
   ]
  },
  {
   "cell_type": "code",
   "execution_count": 59,
   "metadata": {},
   "outputs": [],
   "source": [
    "jsonPoolers = dfPoolers.to_json(\"C:/dev/pool-de-hockey/src/data/poolers.json\", orient = \"table\")"
   ]
  },
  {
   "cell_type": "code",
   "execution_count": 1,
   "metadata": {},
   "outputs": [],
   "source": [
    "#code de backup\n",
    "#\"C:/dev/pool-de-hockey/src/data/poolers.json\"\n",
    "#parsed.to_json(, orient = \"table\")\n",
    "#parsed = json.loads(jsonPoolers)[\"data\"]\n",
    "#parsed"
   ]
  }
 ]
}