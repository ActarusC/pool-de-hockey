{
 "metadata": {
  "language_info": {
   "codemirror_mode": {
    "name": "ipython",
    "version": 3
   },
   "file_extension": ".py",
   "mimetype": "text/x-python",
   "name": "python",
   "nbconvert_exporter": "python",
   "pygments_lexer": "ipython3",
   "version": "3.8.2-final"
  },
  "orig_nbformat": 2,
  "kernelspec": {
   "name": "python3",
   "display_name": "Python 3.8.2 64-bit",
   "metadata": {
    "interpreter": {
     "hash": "0615a32d0f90882bf77138c32478eb8908c709afc396b4b2f3cba3d11fb2d0df"
    }
   }
  }
 },
 "nbformat": 4,
 "nbformat_minor": 2,
 "cells": [
  {
   "cell_type": "code",
   "execution_count": 2,
   "metadata": {},
   "outputs": [],
   "source": [
    "conn = sqlite3.connect('C:/Users/huber/OneDrive/NHL/DbMatchs.db')\n",
    "\n",
    "#maj Poolers\n",
    "dfPoolers = pd.read_sql(\"SELECT * FROM POOLERS\", conn)\n",
    "jsonPoolers = dfPoolers.to_json(\"C:/dev/pool-de-hockey/src/data/poolers.json\", orient = \"table\", index = False, indent = 4)\n",
    "\n",
    "#maj Alignements\n",
    "requete = \"SELECT idAlignement, idPooler, JOUEURS.idNHL, idHockeyRef, prenomJoueur, nomJoueur, position, statutJoueur, dateDebut, dateFin, pointsActuels, salaireActuel FROM ALIGNEMENTS INNER JOIN JOUEURS ON JOUEURS.idNHL = ALIGNEMENTS.idNHL\"\n",
    "dfAlignements = pd.read_sql(requete, conn)\n",
    "jsonAlignements = dfAlignements.to_json(\"C:/dev/pool-de-hockey/src/data/alignements.json\", orient = \"table\", index = False, indent = 4)"
   ]
  },
  {
   "cell_type": "code",
   "execution_count": 1,
   "metadata": {},
   "outputs": [],
   "source": [
    "#code de backup\n",
    "#\"C:/dev/pool-de-hockey/src/data/poolers.json\"\n",
    "#parsed.to_json(, orient = \"table\")\n",
    "#parsed = json.loads(jsonPoolers)[\"data\"]\n",
    "#parsed"
   ]
  }
 ]
}