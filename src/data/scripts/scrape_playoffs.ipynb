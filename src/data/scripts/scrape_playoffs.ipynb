{
 "cells": [
  {
   "cell_type": "code",
   "execution_count": 1,
   "metadata": {},
   "outputs": [],
   "source": [
    "import pandas as pd, sqlite3, requests\n",
    "import hockey_scraper as hs\n",
    "import numpy as np\n",
    "from datetime import date, timedelta, datetime\n",
    "\n",
    "conn = sqlite3.connect('C:/Users/huber/OneDrive/NHL/DbMatchs.db')"
   ]
  },
  {
   "cell_type": "code",
   "execution_count": 2,
   "metadata": {},
   "outputs": [
    {
     "data": {
      "text/plain": [
       "'2022-07-04'"
      ]
     },
     "execution_count": 2,
     "metadata": {},
     "output_type": "execute_result"
    }
   ],
   "source": [
    "ajd = date.today()\n",
    "ajd = ajd.strftime(\"%Y-%m-%d\")\n",
    "ajd"
   ]
  },
  {
   "cell_type": "code",
   "execution_count": null,
   "metadata": {},
   "outputs": [],
   "source": [
    "# Scraping 2015 playoffs ####\n",
    "scrape = hs.nhl.scrape_functions.scrape_date_range(\"2016-04-13\", \"2016-06-12\",\n",
    "                                if_scrape_shifts=True, data_format='pandas', preseason=False, rescrape=False, docs_dir=True)\n",
    "        \n",
    "#pbp\n",
    "dfPBP = scrape[\"pbp\"]\n",
    "#dfPBP.to_sql('PBP', conn, if_exists='append', index = False\n",
    "#shifts\n",
    "dfshifts = scrape[\"shifts\"]\n",
    "#dfshifts.to_sql('SHIFTS', conn, if_exists='append', index = False)\n",
    "dfshifts.head()"
   ]
  }
 ],
 "metadata": {
  "interpreter": {
   "hash": "52634da84371cba311ea128a5ea7cdc41ff074b781779e754b270ff9f8153cee"
  },
  "kernelspec": {
   "display_name": "Python 3.9.7 64-bit",
   "language": "python",
   "name": "python3"
  },
  "language_info": {
   "codemirror_mode": {
    "name": "ipython",
    "version": 3
   },
   "file_extension": ".py",
   "mimetype": "text/x-python",
   "name": "python",
   "nbconvert_exporter": "python",
   "pygments_lexer": "ipython3",
   "version": "3.9.7"
  },
  "orig_nbformat": 4
 },
 "nbformat": 4,
 "nbformat_minor": 2
}
