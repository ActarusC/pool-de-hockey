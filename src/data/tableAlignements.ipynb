{
 "metadata": {
  "language_info": {
   "codemirror_mode": {
    "name": "ipython",
    "version": 3
   },
   "file_extension": ".py",
   "mimetype": "text/x-python",
   "name": "python",
   "nbconvert_exporter": "python",
   "pygments_lexer": "ipython3",
   "version": "3.8.2-final"
  },
  "orig_nbformat": 2,
  "kernelspec": {
   "name": "python3",
   "display_name": "Python 3",
   "language": "python"
  }
 },
 "nbformat": 4,
 "nbformat_minor": 2,
 "cells": [
  {
   "cell_type": "code",
   "execution_count": 19,
   "metadata": {},
   "outputs": [
    {
     "output_type": "execute_result",
     "data": {
      "text/plain": [
       "dtype('<M8[ns]')"
      ]
     },
     "metadata": {},
     "execution_count": 19
    }
   ],
   "source": [
    "df1 = pd.read_csv('alignementsEx.csv', ';')\n",
    "AlignementsEx = pd.to_datetime(df1['dateDebut'])\n",
    "AlignementsEx.dtypes"
   ]
  },
  {
   "source": [
    "## Commentaires de Pierre\n",
    "\n",
    "Bonne idée de partir d'un csv pour populer la table initiale. Par contre, je vois les champs dans le csv et y a des corrections.\n",
    "\n",
    "En gros, l'idée des BD SQL est de ne pas doubler l'info. Après, c'est en code qu'on va aller chercher l'info qu'il faut.\n",
    "\n",
    "Donc\n",
    "\n",
    "* pas besoin du champ IdHockeyRef, nom joueur, prénom joueur dans la table Alignement. La table alignement doit contenir l'info qui a trait aux alignements, donc, à l'association d'un joueur avec un pooler (et donc les 2 premiers champs sont les plus importants, soient idPooler et idJoueur). Après, en SQL, on va joindre les 2 tables pour aller chercher l'info qu'il faut.\n",
    "* comme j'ai écrit dans [/afaire.md], on ne devrait pas faire 2 tables pour les alignements, on devrait plutôt ajouter un champ status dans cette table, et filtrer au besoin en code. Je vais vous montrer comment."
   ],
   "cell_type": "markdown",
   "metadata": {}
  },
  {
   "cell_type": "code",
   "execution_count": null,
   "metadata": {},
   "outputs": [],
   "source": []
  }
 ]
}