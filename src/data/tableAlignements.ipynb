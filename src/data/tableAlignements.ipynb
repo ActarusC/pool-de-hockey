{
 "metadata": {
  "language_info": {
   "codemirror_mode": {
    "name": "ipython",
    "version": 3
   },
   "file_extension": ".py",
   "mimetype": "text/x-python",
   "name": "python",
   "nbconvert_exporter": "python",
   "pygments_lexer": "ipython3",
   "version": "3.8.2-final"
  },
  "orig_nbformat": 2,
  "kernelspec": {
   "name": "python3",
   "display_name": "Python 3",
   "language": "python"
  }
 },
 "nbformat": 4,
 "nbformat_minor": 2,
 "cells": [
  {
   "cell_type": "code",
   "execution_count": 2,
   "metadata": {},
   "outputs": [
    {
     "output_type": "execute_result",
     "data": {
      "text/plain": [
       "   idAlignement idPooler    idNHL idHockeyRef prenomJoueur  nomJoueur  \\\n",
       "0             1      gab  8471675   crosbsi01       Sidney     Crosby   \n",
       "1             2      gab  8478445   barzama01         Matt     Barzal   \n",
       "2             3      hub  8477492   mackina01       Nathan  Mackinnon   \n",
       "3             4      hub  8480800   hughequ01        Quinn     Hughes   \n",
       "4             5      hub  8479394    hartca01       Carter       Hart   \n",
       "5             6      cle  8478403   eicheja01         Jack     Eichel   \n",
       "6             7      cle  8470966   giordma01         Mark   Giordano   \n",
       "7             8      cle  8479496   rittida01        David    Rittich   \n",
       "\n",
       "  position   dateDebut     dateFin  pointsActuels  \n",
       "0        A  2020-11-26  2020-12-07              0  \n",
       "1        A  2020-10-28  2020-11-14              0  \n",
       "2        A  2020-09-28  2020-11-23              0  \n",
       "3        D  2020-11-28  2020-12-27              0  \n",
       "4        G  2019-11-25  2020-01-04              0  \n",
       "5        A  2019-09-25  2019-11-20              0  \n",
       "6        D  2020-10-26  2020-11-22              0  \n",
       "7        G  2020-10-30  2020-11-24              0  "
      ],
      "text/html": "<div>\n<style scoped>\n    .dataframe tbody tr th:only-of-type {\n        vertical-align: middle;\n    }\n\n    .dataframe tbody tr th {\n        vertical-align: top;\n    }\n\n    .dataframe thead th {\n        text-align: right;\n    }\n</style>\n<table border=\"1\" class=\"dataframe\">\n  <thead>\n    <tr style=\"text-align: right;\">\n      <th></th>\n      <th>idAlignement</th>\n      <th>idPooler</th>\n      <th>idNHL</th>\n      <th>idHockeyRef</th>\n      <th>prenomJoueur</th>\n      <th>nomJoueur</th>\n      <th>position</th>\n      <th>dateDebut</th>\n      <th>dateFin</th>\n      <th>pointsActuels</th>\n    </tr>\n  </thead>\n  <tbody>\n    <tr>\n      <th>0</th>\n      <td>1</td>\n      <td>gab</td>\n      <td>8471675</td>\n      <td>crosbsi01</td>\n      <td>Sidney</td>\n      <td>Crosby</td>\n      <td>A</td>\n      <td>2020-11-26</td>\n      <td>2020-12-07</td>\n      <td>0</td>\n    </tr>\n    <tr>\n      <th>1</th>\n      <td>2</td>\n      <td>gab</td>\n      <td>8478445</td>\n      <td>barzama01</td>\n      <td>Matt</td>\n      <td>Barzal</td>\n      <td>A</td>\n      <td>2020-10-28</td>\n      <td>2020-11-14</td>\n      <td>0</td>\n    </tr>\n    <tr>\n      <th>2</th>\n      <td>3</td>\n      <td>hub</td>\n      <td>8477492</td>\n      <td>mackina01</td>\n      <td>Nathan</td>\n      <td>Mackinnon</td>\n      <td>A</td>\n      <td>2020-09-28</td>\n      <td>2020-11-23</td>\n      <td>0</td>\n    </tr>\n    <tr>\n      <th>3</th>\n      <td>4</td>\n      <td>hub</td>\n      <td>8480800</td>\n      <td>hughequ01</td>\n      <td>Quinn</td>\n      <td>Hughes</td>\n      <td>D</td>\n      <td>2020-11-28</td>\n      <td>2020-12-27</td>\n      <td>0</td>\n    </tr>\n    <tr>\n      <th>4</th>\n      <td>5</td>\n      <td>hub</td>\n      <td>8479394</td>\n      <td>hartca01</td>\n      <td>Carter</td>\n      <td>Hart</td>\n      <td>G</td>\n      <td>2019-11-25</td>\n      <td>2020-01-04</td>\n      <td>0</td>\n    </tr>\n    <tr>\n      <th>5</th>\n      <td>6</td>\n      <td>cle</td>\n      <td>8478403</td>\n      <td>eicheja01</td>\n      <td>Jack</td>\n      <td>Eichel</td>\n      <td>A</td>\n      <td>2019-09-25</td>\n      <td>2019-11-20</td>\n      <td>0</td>\n    </tr>\n    <tr>\n      <th>6</th>\n      <td>7</td>\n      <td>cle</td>\n      <td>8470966</td>\n      <td>giordma01</td>\n      <td>Mark</td>\n      <td>Giordano</td>\n      <td>D</td>\n      <td>2020-10-26</td>\n      <td>2020-11-22</td>\n      <td>0</td>\n    </tr>\n    <tr>\n      <th>7</th>\n      <td>8</td>\n      <td>cle</td>\n      <td>8479496</td>\n      <td>rittida01</td>\n      <td>David</td>\n      <td>Rittich</td>\n      <td>G</td>\n      <td>2020-10-30</td>\n      <td>2020-11-24</td>\n      <td>0</td>\n    </tr>\n  </tbody>\n</table>\n</div>"
     },
     "metadata": {},
     "execution_count": 2
    }
   ],
   "source": [
    "conn = sqlite3.connect('C:/Users/huber/OneDrive/NHL/DbMatchs.db')\n",
    "dfAlignements = pd.read_sql(\"SELECT * FROM ALIGNEMENTS\", conn)\n",
    "dfAlignements"
   ]
  }
 ]
}