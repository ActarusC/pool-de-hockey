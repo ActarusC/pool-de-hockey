{
 "metadata": {
  "language_info": {
   "codemirror_mode": {
    "name": "ipython",
    "version": 3
   },
   "file_extension": ".py",
   "mimetype": "text/x-python",
   "name": "python",
   "nbconvert_exporter": "python",
   "pygments_lexer": "ipython3",
   "version": "3.8.2-final"
  },
  "orig_nbformat": 2,
  "kernelspec": {
   "name": "python3",
   "display_name": "Python 3.8.2 64-bit",
   "metadata": {
    "interpreter": {
     "hash": "0615a32d0f90882bf77138c32478eb8908c709afc396b4b2f3cba3d11fb2d0df"
    }
   }
  }
 },
 "nbformat": 4,
 "nbformat_minor": 2,
 "cells": [
  {
   "cell_type": "code",
   "execution_count": 27,
   "metadata": {},
   "outputs": [
    {
     "output_type": "execute_result",
     "data": {
      "text/plain": [
       "  idPooler    idNHL statutJoueur position  salaireActuel\n",
       "0      hub  8480871      Réserve        D       894167.0\n",
       "1      hub  8480036   Alignement        D       894166.0\n",
       "2      hub  8481524      Réserve        D       894167.0\n",
       "3      hub  8478492      Réserve        G       925000.0\n",
       "4      hub  8477934   Alignement        A      8500000.0"
      ],
      "text/html": "<div>\n<style scoped>\n    .dataframe tbody tr th:only-of-type {\n        vertical-align: middle;\n    }\n\n    .dataframe tbody tr th {\n        vertical-align: top;\n    }\n\n    .dataframe thead th {\n        text-align: right;\n    }\n</style>\n<table border=\"1\" class=\"dataframe\">\n  <thead>\n    <tr style=\"text-align: right;\">\n      <th></th>\n      <th>idPooler</th>\n      <th>idNHL</th>\n      <th>statutJoueur</th>\n      <th>position</th>\n      <th>salaireActuel</th>\n    </tr>\n  </thead>\n  <tbody>\n    <tr>\n      <th>0</th>\n      <td>hub</td>\n      <td>8480871</td>\n      <td>Réserve</td>\n      <td>D</td>\n      <td>894167.0</td>\n    </tr>\n    <tr>\n      <th>1</th>\n      <td>hub</td>\n      <td>8480036</td>\n      <td>Alignement</td>\n      <td>D</td>\n      <td>894166.0</td>\n    </tr>\n    <tr>\n      <th>2</th>\n      <td>hub</td>\n      <td>8481524</td>\n      <td>Réserve</td>\n      <td>D</td>\n      <td>894167.0</td>\n    </tr>\n    <tr>\n      <th>3</th>\n      <td>hub</td>\n      <td>8478492</td>\n      <td>Réserve</td>\n      <td>G</td>\n      <td>925000.0</td>\n    </tr>\n    <tr>\n      <th>4</th>\n      <td>hub</td>\n      <td>8477934</td>\n      <td>Alignement</td>\n      <td>A</td>\n      <td>8500000.0</td>\n    </tr>\n  </tbody>\n</table>\n</div>"
     },
     "metadata": {},
     "execution_count": 27
    }
   ],
   "source": [
    "#fonctions de base\n",
    "\n",
    "#créer la table DRAFT en SQL avec les choix au repêchage\n",
    "conn = sqlite3.connect('C:/Users/huber/OneDrive/NHL/DbMatchs.db')\n",
    "#choix = pd.read_csv(\"C:\\dev\\pool-de-hockey\\src\\data\\listeChoix.csv\", sep=\";\")\n",
    "#choix.to_sql('DRAFT', conn, if_exists='replace', index = False)\n",
    "def execSQL(sql, conn, write=False):\n",
    "    c = conn.cursor()\n",
    "    print(c.execute(sql))\n",
    "    if write:\n",
    "        conn.commit()\n",
    "    else:\n",
    "        print(c.fetchall())\n",
    "    c.close()\n",
    "\n",
    "df = pd.read_sql(\"SELECT * FROM ALIGNEMENTS WHERE dateFin == '2100-01-01'\", conn)\n",
    "jou = pd.read_sql(\"SELECT * FROM JOUEURS\", conn)\n",
    "df = df.merge(jou, how=\"inner\", on=\"idNHL\")\n",
    "df = df[[\"idPooler\", \"idNHL\", \"statutJoueur\", \"position\", \"salaireActuel\"]]\n",
    "df.head()"
   ]
  },
  {
   "cell_type": "code",
   "execution_count": 32,
   "metadata": {},
   "outputs": [
    {
     "output_type": "execute_result",
     "data": {
      "text/plain": [
       "   idPooler statutJoueur position  idNHL\n",
       "0       cle   Alignement        A      9\n",
       "1       cle   Alignement        D      4\n",
       "2       cle   Alignement        G      1\n",
       "10      gab   Alignement        A      9\n",
       "11      gab   Alignement        D      4\n",
       "12      gab   Alignement        G      1\n",
       "18      hub   Alignement        A      9\n",
       "19      hub   Alignement        D      4\n",
       "20      hub   Alignement        G      1"
      ],
      "text/html": "<div>\n<style scoped>\n    .dataframe tbody tr th:only-of-type {\n        vertical-align: middle;\n    }\n\n    .dataframe tbody tr th {\n        vertical-align: top;\n    }\n\n    .dataframe thead th {\n        text-align: right;\n    }\n</style>\n<table border=\"1\" class=\"dataframe\">\n  <thead>\n    <tr style=\"text-align: right;\">\n      <th></th>\n      <th>idPooler</th>\n      <th>statutJoueur</th>\n      <th>position</th>\n      <th>idNHL</th>\n    </tr>\n  </thead>\n  <tbody>\n    <tr>\n      <th>0</th>\n      <td>cle</td>\n      <td>Alignement</td>\n      <td>A</td>\n      <td>9</td>\n    </tr>\n    <tr>\n      <th>1</th>\n      <td>cle</td>\n      <td>Alignement</td>\n      <td>D</td>\n      <td>4</td>\n    </tr>\n    <tr>\n      <th>2</th>\n      <td>cle</td>\n      <td>Alignement</td>\n      <td>G</td>\n      <td>1</td>\n    </tr>\n    <tr>\n      <th>10</th>\n      <td>gab</td>\n      <td>Alignement</td>\n      <td>A</td>\n      <td>9</td>\n    </tr>\n    <tr>\n      <th>11</th>\n      <td>gab</td>\n      <td>Alignement</td>\n      <td>D</td>\n      <td>4</td>\n    </tr>\n    <tr>\n      <th>12</th>\n      <td>gab</td>\n      <td>Alignement</td>\n      <td>G</td>\n      <td>1</td>\n    </tr>\n    <tr>\n      <th>18</th>\n      <td>hub</td>\n      <td>Alignement</td>\n      <td>A</td>\n      <td>9</td>\n    </tr>\n    <tr>\n      <th>19</th>\n      <td>hub</td>\n      <td>Alignement</td>\n      <td>D</td>\n      <td>4</td>\n    </tr>\n    <tr>\n      <th>20</th>\n      <td>hub</td>\n      <td>Alignement</td>\n      <td>G</td>\n      <td>1</td>\n    </tr>\n  </tbody>\n</table>\n</div>"
     },
     "metadata": {},
     "execution_count": 32
    }
   ],
   "source": [
    "#pour vérif si les équipes respectent les conditions d'alignement par position\n",
    "verAlign = df.groupby([\"idPooler\", \"statutJoueur\", \"position\"], as_index=False)[\"idNHL\"].count()\n",
    "is_alignement = verAlign[\"statutJoueur\"] == \"Alignement\"\n",
    "verAlign = verAlign[is_alignement]\n",
    "verAlign"
   ]
  },
  {
   "cell_type": "code",
   "execution_count": 40,
   "metadata": {},
   "outputs": [
    {
     "output_type": "execute_result",
     "data": {
      "text/plain": [
       "   idPooler statutJoueur  idNHL\n",
       "0       cle   Alignement     14\n",
       "3       cle      Réserve      4\n",
       "4       gab   Alignement     14\n",
       "7       gab      Réserve      6\n",
       "8       hub   Alignement     14\n",
       "10      hub      Réserve      5"
      ],
      "text/html": "<div>\n<style scoped>\n    .dataframe tbody tr th:only-of-type {\n        vertical-align: middle;\n    }\n\n    .dataframe tbody tr th {\n        vertical-align: top;\n    }\n\n    .dataframe thead th {\n        text-align: right;\n    }\n</style>\n<table border=\"1\" class=\"dataframe\">\n  <thead>\n    <tr style=\"text-align: right;\">\n      <th></th>\n      <th>idPooler</th>\n      <th>statutJoueur</th>\n      <th>idNHL</th>\n    </tr>\n  </thead>\n  <tbody>\n    <tr>\n      <th>0</th>\n      <td>cle</td>\n      <td>Alignement</td>\n      <td>14</td>\n    </tr>\n    <tr>\n      <th>3</th>\n      <td>cle</td>\n      <td>Réserve</td>\n      <td>4</td>\n    </tr>\n    <tr>\n      <th>4</th>\n      <td>gab</td>\n      <td>Alignement</td>\n      <td>14</td>\n    </tr>\n    <tr>\n      <th>7</th>\n      <td>gab</td>\n      <td>Réserve</td>\n      <td>6</td>\n    </tr>\n    <tr>\n      <th>8</th>\n      <td>hub</td>\n      <td>Alignement</td>\n      <td>14</td>\n    </tr>\n    <tr>\n      <th>10</th>\n      <td>hub</td>\n      <td>Réserve</td>\n      <td>5</td>\n    </tr>\n  </tbody>\n</table>\n</div>"
     },
     "metadata": {},
     "execution_count": 40
    }
   ],
   "source": [
    "verActif = df.groupby([\"idPooler\", \"statutJoueur\"], as_index=False)[\"idNHL\"].count()\n",
    "verActif = verActif[(verActif.statutJoueur==\"Alignement\") | (verActif.statutJoueur==\"Réserve\")]\n",
    "verActif"
   ]
  },
  {
   "cell_type": "code",
   "execution_count": null,
   "metadata": {},
   "outputs": [],
   "source": []
  }
 ]
}