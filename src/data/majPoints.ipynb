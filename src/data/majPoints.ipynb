{
 "metadata": {
  "language_info": {
   "codemirror_mode": {
    "name": "ipython",
    "version": 3
   },
   "file_extension": ".py",
   "mimetype": "text/x-python",
   "name": "python",
   "nbconvert_exporter": "python",
   "pygments_lexer": "ipython3",
   "version": "3.8.2-final"
  },
  "orig_nbformat": 2,
  "kernelspec": {
   "name": "python3",
   "display_name": "Python 3",
   "language": "python"
  }
 },
 "nbformat": 4,
 "nbformat_minor": 2,
 "cells": [
  {
   "source": [
    "### Étapes de la fonction\n",
    "\n",
    "1. \n",
    "    -obtenir la liste des joueurs actifs de l'alignement\n",
    "\n",
    "2.\n",
    "    -pour chacun d'eux, faire une requête pour savoir combien de points le joueur a eu entre la date de début de      l'alignement et maintenant, en filtrant pour la saison en cours\n",
    "\n",
    "    -itération en python sur chaque joueur, et un autre df = pd.read_sql juste pour sortir le score\n",
    "\n",
    "3.    \n",
    "    -stocker le résultat de la requête 2 dans le champs pointsActuel de la table Alignement (execSQL avec un   UPDATE de la table Alignement)     "
   ],
   "cell_type": "markdown",
   "metadata": {}
  },
  {
   "cell_type": "code",
   "execution_count": 7,
   "metadata": {},
   "outputs": [
    {
     "output_type": "execute_result",
     "data": {
      "text/plain": [
       "0    8471675\n",
       "1    8478445\n",
       "2    8477492\n",
       "3    8479394\n",
       "4    8478403\n",
       "5    8479496\n",
       "6    8478445\n",
       "Name: idNHL, dtype: int64"
      ]
     },
     "metadata": {},
     "execution_count": 7
    }
   ],
   "source": [
    "##Étape 1\n",
    "conn = sqlite3.connect('C:/Users/huber/OneDrive/NHL/DbMatchs.db')\n",
    "requete = \"SELECT idAlignement, idPooler, JOUEURS.idNHL, idHockeyRef, prenomJoueur, nomJoueur, position, statutJoueur, dateDebut, dateFin, pointsActuels, salaireActuel FROM ALIGNEMENTS INNER JOIN JOUEURS ON JOUEURS.idNHL = ALIGNEMENTS.idNHL WHERE statutJoueur='Alignement'\"\n",
    "dfJoueursActifs = pd.read_sql(requete, conn)\n",
    "listIdJoueursActifs = dfJoueursActifs[\"idNHL\"]\n",
    "listIdJoueursActifs"
   ]
  },
  {
   "cell_type": "code",
   "execution_count": null,
   "metadata": {},
   "outputs": [],
   "source": []
  }
 ]
}