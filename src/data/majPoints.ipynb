{
 "metadata": {
  "language_info": {
   "codemirror_mode": {
    "name": "ipython",
    "version": 3
   },
   "file_extension": ".py",
   "mimetype": "text/x-python",
   "name": "python",
   "nbconvert_exporter": "python",
   "pygments_lexer": "ipython3",
   "version": "3.8.2-final"
  },
  "orig_nbformat": 2,
  "kernelspec": {
   "name": "python3",
   "display_name": "Python 3",
   "language": "python"
  }
 },
 "nbformat": 4,
 "nbformat_minor": 2,
 "cells": [
  {
   "source": [
    "### Étapes de la fonction\n",
    "\n",
    "1. \n",
    "    -obtenir la liste des joueurs actifs de l'alignement\n",
    "\n",
    "2.\n",
    "    -pour chacun d'eux, faire une requête pour savoir combien de points le joueur a eu entre la date de début de      l'alignement et maintenant, en filtrant pour la saison en cours\n",
    "\n",
    "    -itération en python sur chaque joueur, et un autre df = pd.read_sql juste pour sortir le score\n",
    "\n",
    "3.    \n",
    "    -stocker le résultat de la requête 2 dans le champs pointsActuel de la table Alignement (execSQL avec un   UPDATE de la table Alignement)     "
   ],
   "cell_type": "markdown",
   "metadata": {}
  },
  {
   "cell_type": "code",
   "execution_count": 1,
   "metadata": {},
   "outputs": [
    {
     "output_type": "execute_result",
     "data": {
      "text/plain": [
       "   idAlignement idPooler    idNHL idHockeyRef prenomJoueur  nomJoueur  \\\n",
       "0             1      gab  8471675   crosbsi01       Sidney     Crosby   \n",
       "1             2      gab  8478445   barzama01         Matt     Barzal   \n",
       "2             3      hub  8477492   mackina01       Nathan  Mackinnon   \n",
       "3             5      hub  8479394    hartca01       Carter       Hart   \n",
       "4             6      cle  8478403   eicheja01         Jack     Eichel   \n",
       "5             8      cle  8479496   rittida01        David    Rittich   \n",
       "6             9      hub  8478445   barzama01         Matt     Barzal   \n",
       "\n",
       "  position statutJoueur   dateDebut     dateFin  pointsActuels  salaireActuel  \n",
       "0        A   Alignement  2020-11-26  2020-12-07              0        8700000  \n",
       "1        A   Alignement  2020-10-28  2020-11-14              0        7000000  \n",
       "2        A   Alignement  2020-09-28  2020-11-23              0        6300000  \n",
       "3        G   Alignement  2019-11-25  2020-01-04              0         790000  \n",
       "4        A   Alignement  2019-09-25  2019-11-20              0       10000000  \n",
       "5        G   Alignement  2020-10-30  2020-11-24              0        3000000  \n",
       "6        A   Alignement  2020-05-20  2020-10-27              0        7000000  "
      ],
      "text/html": "<div>\n<style scoped>\n    .dataframe tbody tr th:only-of-type {\n        vertical-align: middle;\n    }\n\n    .dataframe tbody tr th {\n        vertical-align: top;\n    }\n\n    .dataframe thead th {\n        text-align: right;\n    }\n</style>\n<table border=\"1\" class=\"dataframe\">\n  <thead>\n    <tr style=\"text-align: right;\">\n      <th></th>\n      <th>idAlignement</th>\n      <th>idPooler</th>\n      <th>idNHL</th>\n      <th>idHockeyRef</th>\n      <th>prenomJoueur</th>\n      <th>nomJoueur</th>\n      <th>position</th>\n      <th>statutJoueur</th>\n      <th>dateDebut</th>\n      <th>dateFin</th>\n      <th>pointsActuels</th>\n      <th>salaireActuel</th>\n    </tr>\n  </thead>\n  <tbody>\n    <tr>\n      <th>0</th>\n      <td>1</td>\n      <td>gab</td>\n      <td>8471675</td>\n      <td>crosbsi01</td>\n      <td>Sidney</td>\n      <td>Crosby</td>\n      <td>A</td>\n      <td>Alignement</td>\n      <td>2020-11-26</td>\n      <td>2020-12-07</td>\n      <td>0</td>\n      <td>8700000</td>\n    </tr>\n    <tr>\n      <th>1</th>\n      <td>2</td>\n      <td>gab</td>\n      <td>8478445</td>\n      <td>barzama01</td>\n      <td>Matt</td>\n      <td>Barzal</td>\n      <td>A</td>\n      <td>Alignement</td>\n      <td>2020-10-28</td>\n      <td>2020-11-14</td>\n      <td>0</td>\n      <td>7000000</td>\n    </tr>\n    <tr>\n      <th>2</th>\n      <td>3</td>\n      <td>hub</td>\n      <td>8477492</td>\n      <td>mackina01</td>\n      <td>Nathan</td>\n      <td>Mackinnon</td>\n      <td>A</td>\n      <td>Alignement</td>\n      <td>2020-09-28</td>\n      <td>2020-11-23</td>\n      <td>0</td>\n      <td>6300000</td>\n    </tr>\n    <tr>\n      <th>3</th>\n      <td>5</td>\n      <td>hub</td>\n      <td>8479394</td>\n      <td>hartca01</td>\n      <td>Carter</td>\n      <td>Hart</td>\n      <td>G</td>\n      <td>Alignement</td>\n      <td>2019-11-25</td>\n      <td>2020-01-04</td>\n      <td>0</td>\n      <td>790000</td>\n    </tr>\n    <tr>\n      <th>4</th>\n      <td>6</td>\n      <td>cle</td>\n      <td>8478403</td>\n      <td>eicheja01</td>\n      <td>Jack</td>\n      <td>Eichel</td>\n      <td>A</td>\n      <td>Alignement</td>\n      <td>2019-09-25</td>\n      <td>2019-11-20</td>\n      <td>0</td>\n      <td>10000000</td>\n    </tr>\n    <tr>\n      <th>5</th>\n      <td>8</td>\n      <td>cle</td>\n      <td>8479496</td>\n      <td>rittida01</td>\n      <td>David</td>\n      <td>Rittich</td>\n      <td>G</td>\n      <td>Alignement</td>\n      <td>2020-10-30</td>\n      <td>2020-11-24</td>\n      <td>0</td>\n      <td>3000000</td>\n    </tr>\n    <tr>\n      <th>6</th>\n      <td>9</td>\n      <td>hub</td>\n      <td>8478445</td>\n      <td>barzama01</td>\n      <td>Matt</td>\n      <td>Barzal</td>\n      <td>A</td>\n      <td>Alignement</td>\n      <td>2020-05-20</td>\n      <td>2020-10-27</td>\n      <td>0</td>\n      <td>7000000</td>\n    </tr>\n  </tbody>\n</table>\n</div>"
     },
     "metadata": {},
     "execution_count": 1
    }
   ],
   "source": [
    "##Étape 1\n",
    "conn = sqlite3.connect('C:/Users/huber/OneDrive/NHL/DbMatchs.db')\n",
    "requete = \"SELECT idAlignement, idPooler, JOUEURS.idNHL, idHockeyRef, prenomJoueur, nomJoueur, position, statutJoueur, dateDebut, dateFin, pointsActuels, salaireActuel FROM ALIGNEMENTS INNER JOIN JOUEURS ON JOUEURS.idNHL = ALIGNEMENTS.idNHL WHERE statutJoueur='Alignement'\"\n",
    "dfJoueursActifs = pd.read_sql(requete, conn)\n",
    "listIdJoueursActifs = dfJoueursActifs[\"idNHL\"]\n",
    "dfJoueursActifs"
   ]
  },
  {
   "source": [
    "``` SQL\n",
    "UPDATE ALIGNEMENTS\n",
    "SET pointsActuels = (SELECT COUNT(Event) AS NbPTS     \n",
    "  FROM PBP\n",
    "       INNER JOIN\n",
    "       ALIGNEMENTS ON (PBP.p1_ID = ALIGNEMENTS.idNHL) OR \n",
    "                      (PBP.p2_ID = ALIGNEMENTS.idNHL) OR \n",
    "                      (PBP.p3_ID = ALIGNEMENTS.idNHL) \n",
    " WHERE EVENT = \"GOAL\" AND \n",
    "       statutJoueur = \"Alignement\" AND \n",
    "       PBP.Date > ALIGNEMENTS.dateDebut AND\n",
    "       PBP.Date <= ALIGNEMENTS.dateFin\n",
    "GROUP BY idAlignement)\n",
    " ```"
   ],
   "cell_type": "markdown",
   "metadata": {}
  },
  {
   "cell_type": "code",
   "execution_count": 6,
   "metadata": {},
   "outputs": [
    {
     "output_type": "stream",
     "name": "stdout",
     "text": [
      "<sqlite3.Cursor object at 0x00000244FC5870A0>\n"
     ]
    }
   ],
   "source": [
    "majPointsAlignements()"
   ]
  },
  {
   "cell_type": "code",
   "execution_count": null,
   "metadata": {},
   "outputs": [],
   "source": [
    "conn = sqlite3.connect('C:/Users/huber/OneDrive/NHL/DbMatchs.db')\n",
    "\n",
    "def execSQL(sql, conn, write=False):\n",
    "    c = conn.cursor()\n",
    "    print(c.execute(sql))\n",
    "    if write:\n",
    "        conn.commit()\n",
    "    else:\n",
    "        print(c.fetchall())\n",
    "    c.close()\n",
    "\n",
    "def majPointsAlignements():\n",
    "    sqlUpdate = \"UPDATE ALIGNEMENTS SET pointsActuels = (SELECT NbPTS FROM ((SELECT idAlignement, COUNT(Event) AS NbPTS    FROM PBP INNER JOIN ALIGNEMENTS ON (PBP.p1_ID = ALIGNEMENTS.idNHL) OR (PBP.p2_ID = ALIGNEMENTS.idNHL) OR (PBP.p3_ID = ALIGNEMENTS.idNHL) WHERE EVENT = 'GOAL' AND PBP.Date > ALIGNEMENTS.dateDebut AND PBP.Date <= ALIGNEMENTS.dateFin AND PBP.Date > '2019-08-25' GROUP BY idAlignement)) WHERE idAlignement = ALIGNEMENTS.idAlignement)\"\n",
    "    execSQL(sqlUpdate, conn, write = True)"
   ]
  },
  {
   "source": [
    "Une cellule qui:\n",
    "\n",
    "    - (DONE) (majPoints) qui met à jour les buts, passes et PJ des joueurs selon la période donnée dans Alignements\n",
    "    - qui met à jour le nombre de points de chaque pooler\n",
    "    - qui met à jour la masse salariale de chaque pooler\n",
    "    - (majJson) qui met à jour les json\n",
    "    - exécute le sync avec GitHub"
   ],
   "cell_type": "markdown",
   "metadata": {}
  },
  {
   "cell_type": "code",
   "execution_count": 2,
   "metadata": {},
   "outputs": [],
   "source": [
    "#conn\n",
    "conn = sqlite3.connect('C:/Users/huber/OneDrive/NHL/DbMatchs.db')\n",
    "\n",
    "#execSQL\n",
    "def execSQL(sql, conn, write=False):\n",
    "    c = conn.cursor()\n",
    "    print(c.execute(sql))\n",
    "    if write:\n",
    "        conn.commit()\n",
    "    else:\n",
    "        print(c.fetchall())\n",
    "    c.close()\n",
    "\n",
    "#mettre à jour les buts\n",
    "def majButsAlignements():\n",
    "    sqlUpdate = \"UPDATE ALIGNEMENTS SET butsActuels = (SELECT NbBUTS FROM ((SELECT idAlignement, COUNT(Event) AS NbBUTS    FROM PBP INNER JOIN ALIGNEMENTS ON (PBP.p1_ID = ALIGNEMENTS.idNHL) WHERE EVENT = 'GOAL' AND PBP.Date > ALIGNEMENTS.dateDebut AND PBP.Date <= ALIGNEMENTS.dateFin AND PBP.Date > '2019-08-25' GROUP BY idAlignement)) WHERE idAlignement = ALIGNEMENTS.idAlignement)\"\n",
    "    execSQL(sqlUpdate, conn, write = True)\n",
    "\n",
    "#mettre à jour les assist\n",
    "def majAssistAlignements():\n",
    "    sqlUpdate = \"UPDATE ALIGNEMENTS SET assistActuels = (SELECT NbASSIST FROM ((SELECT idAlignement, COUNT(Event) AS NbASSIST    FROM PBP INNER JOIN ALIGNEMENTS ON (PBP.p2_ID = ALIGNEMENTS.idNHL) OR (PBP.p3_ID = ALIGNEMENTS.idNHL) WHERE EVENT = 'GOAL' AND PBP.Date > ALIGNEMENTS.dateDebut AND PBP.Date <= ALIGNEMENTS.dateFin AND PBP.Date > '2019-08-25' GROUP BY idAlignement)) WHERE idAlignement = ALIGNEMENTS.idAlignement)\"\n",
    "    execSQL(sqlUpdate, conn, write = True)\n",
    "\n",
    "#mettre à jour les points\n",
    "def majPointsAlignements():\n",
    "    sqlUpdate = \"UPDATE ALIGNEMENTS SET pointsActuels = (butsActuels + assistActuels)\"\n",
    "    execSQL(sqlUpdate, conn, write = True)"
   ]
  }
 ]
}