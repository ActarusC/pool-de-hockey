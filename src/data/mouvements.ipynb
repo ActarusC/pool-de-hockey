{
 "metadata": {
  "language_info": {
   "codemirror_mode": {
    "name": "ipython",
    "version": 3
   },
   "file_extension": ".py",
   "mimetype": "text/x-python",
   "name": "python",
   "nbconvert_exporter": "python",
   "pygments_lexer": "ipython3",
   "version": "3.8.2-final"
  },
  "orig_nbformat": 2,
  "kernelspec": {
   "name": "python3",
   "display_name": "Python 3",
   "language": "python"
  }
 },
 "nbformat": 4,
 "nbformat_minor": 2,
 "cells": [
  {
   "cell_type": "code",
   "execution_count": 31,
   "metadata": {},
   "outputs": [],
   "source": [
    "from datetime import date, datetime, timedelta"
   ]
  },
  {
   "source": [
    "#### liste des fonctions à créer\n",
    "- Échange\n",
    "- Ballotage/Libérer joueur\n",
    "- Commutations\n",
    "    - Blessures\n",
    "- Repêchages"
   ],
   "cell_type": "markdown",
   "metadata": {}
  },
  {
   "cell_type": "code",
   "execution_count": 3,
   "metadata": {},
   "outputs": [],
   "source": [
    "#créer la table DRAFT en SQL avec les choix au repêchage\n",
    "conn = sqlite3.connect('C:/Users/huber/OneDrive/NHL/DbMatchs.db')\n",
    "#choix = pd.read_csv(\"C:\\dev\\pool-de-hockey\\src\\data\\listeChoix.csv\", sep=\";\")\n",
    "#choix.to_sql('DRAFT', conn, if_exists='replace', index = False)\n",
    "def execSQL(sql, conn, write=False):\n",
    "    c = conn.cursor()\n",
    "    print(c.execute(sql))\n",
    "    if write:\n",
    "        conn.commit()\n",
    "    else:\n",
    "        print(c.fetchall())\n",
    "    c.close()"
   ]
  },
  {
   "cell_type": "code",
   "execution_count": 3,
   "metadata": {},
   "outputs": [],
   "source": [
    "#DO NOT EXECUTE créer une fausse table ALIGNEMENTS POUR FAIRE LES TESTS\n",
    "#alignements = pd.read_csv(\"alignements.csv\", sep=\";\")\n",
    "#alignements.to_sql('copALIGN', conn, if_exists='replace', index = False)"
   ]
  },
  {
   "cell_type": "code",
   "execution_count": 1,
   "metadata": {},
   "outputs": [],
   "source": [
    "#Donc pour les choix:\n",
    "    # - faire la fonction qui update la colonne 'Appartient à' dans la table DRAFT et l'ajouter dans la fonction échange\n",
    "    # - ajouter les choix dans la fonction ajouterRegistre\n",
    "\n",
    "\n",
    "#Ensuite:\n",
    "    # - fonction getId(prénom, nom):\n",
    "            #fonction qui retourne l'id d'un joueur dans la table JOUEURS\n",
    "    # - fonction undoÉchange(idTrade):\n",
    "            #fonction qui annule un échange\n",
    "    # - optimiser la fonction générale:\n",
    "            #-faire qu'on rentre le prénom/nom d'un joueur et les choix dans *1* csv\n",
    "            #-le csv est uploadé en code\n",
    "            #-le code sépare joueurs et choix et envoient les ids (grâce à getId) dans les csvs TradeChoix et                       TradeJoueurs (qui seraient probablement pus des csv rendu là)\n",
    "            #-le reste de la fonction s'effectue\n",
    "    # - vérificateur de lineup:\n",
    "        #-serait intéressant d'être capable de le jumeler à la fonction échange et que dans le cas où un échange                rend un lineup non-conforme, un paramètre indique si on continue l'échange quand même (exemple l'équipe             en défaut compte mettre un joueur au ballotage immédiatement après) où on le break (et donc l'annule                avec undoÉchange)"
   ]
  },
  {
   "cell_type": "code",
   "execution_count": 3,
   "metadata": {},
   "outputs": [],
   "source": [
    "#importer les éléments joueurs de l'échange\n",
    "tradeJoueurs = pd.read_csv(\"TradeJoueurs.csv\", sep=\";\")\n",
    "ids = tradeJoueurs[\"idNHL\"]\n",
    "\n",
    "#importer les éléments choix de l'échange\n",
    "tradeChoix = pd.read_csv(\"TradeChoix.csv\", sep=\";\")\n",
    "idChoix = tradeChoix[\"idChoix\"]\n",
    "\n",
    "\n",
    "#requête qui va chercher la ligne actuelle d'un joueur dans ALIGNEMENTS\n",
    "def joueurLive(id):\n",
    "    requete = \"SELECT * FROM copALIGN WHERE idNHL == \" + id + \" AND dateFin == '2100-01-01'\"\n",
    "    df = pd.read_sql(requete, conn)\n",
    "    return df\n",
    "\n",
    "#fonction qui termine la période actuelle des joueurs de l'échange\n",
    "def finirPeriode(joueurs, dat):\n",
    "    dat = datetime.strptime(dat, \"%Y-%m-%d\")\n",
    "    dat = dat - timedelta(days=1)\n",
    "    dat = dat.strftime(\"%Y-%m-%d\")\n",
    "    dat = str(dat)\n",
    "    for i in joueurs:\n",
    "        str_i = str(i)\n",
    "        df = joueurLive(str_i)\n",
    "        idAlign = df.iloc[0][\"idAlignement\"]\n",
    "        idAlign = str(idAlign)\n",
    "        req = \"UPDATE copALIGN SET dateFin = '\" + dat + \"' WHERE idAlignement == \" + idAlign\n",
    "        execSQL(req, conn, write=True)\n",
    "\n",
    "\n",
    "#écrire la nouvelle ligne du joueur\n",
    "def nouvellePeriode(id, dat):\n",
    "    strId = str(id)\n",
    "        # idAlignement : max de idAlignement + 1\n",
    "    reqIdAlign = \"SELECT MAX(idAlignement) FROM copALIGN\"\n",
    "    W_idAlign = pd.read_sql(reqIdAlign, conn)\n",
    "    W_idAlign = W_idAlign.iloc[0][\"MAX(idAlignement)\"] + 1\n",
    "        # idPooler : aller le chercher dans TradeJoueurs.csv avec idNHL\n",
    "    is_idNHL = tradeJoueurs[\"idNHL\"] == id\n",
    "    joueurTrade = tradeJoueurs[is_idNHL]\n",
    "    W_idPooler = joueurTrade.iloc[0][\"equipeRecoit\"]\n",
    "        # prenomJoueur : aller le chercher dans JOUEURS avec idNHL\n",
    "    reqPrenom = \"SELECT prenomJoueur FROM JOUEURS WHERE idNHL = \" + strId\n",
    "    W_prenom = pd.read_sql(reqPrenom, conn)\n",
    "    W_prenom = W_prenom.iloc[0][\"prenomJoueur\"]\n",
    "        # nomJoueur : aller le chercher dans JOUEURS avec idNHL\n",
    "    reqNom = \"SELECT nomJoueur FROM JOUEURS WHERE idNHL = \" + strId\n",
    "    W_nom = pd.read_sql(reqNom, conn)\n",
    "    W_nom = W_nom.iloc[0][\"nomJoueur\"]\n",
    "        # idNHL : paramètre de la fonction\n",
    "        # statutJoueur : aller le chercher dans joueurLive(id)\n",
    "    df = joueurLive(strId)\n",
    "    W_statut = df.iloc[0][\"statutJoueur\"]\n",
    "        # dateDebut : paramètre de la fonction\n",
    "        # dateFin : '2100-01-01'\n",
    "    W_dateFin = \"2100-01-01\"\n",
    "\n",
    "    d = {\"idAlignement\" : [W_idAlign], \"idPooler\" : [W_idPooler], \"prenomJoueur\" : [W_prenom], \"nomJoueur\" : [W_nom], \"idNHL\" : [id], \"statutJoueur\" : [W_statut], \"dateDebut\" : [dat], \"dateFin\" : [W_dateFin], \"pjActuels\" : [0], \"butsActuels\" : [0], \"assistActuels\" : [0], \"pointsActuels\": [0]}\n",
    "    periode = pd.DataFrame(data=d)\n",
    "    periode.to_sql(\"copALIGN\", conn, if_exists=\"append\", index=False)\n",
    "    ok = W_prenom + \" \" + W_nom\n",
    "    return ok\n",
    "\n",
    "#fonction get noms de joueur\n",
    "def getNom(id):\n",
    "    strId = str(id)\n",
    "    reqPrenom = \"SELECT prenomJoueur FROM JOUEURS WHERE idNHL = \" + strId\n",
    "    W_prenom = pd.read_sql(reqPrenom, conn)\n",
    "    W_prenom = W_prenom.iloc[0][\"prenomJoueur\"]\n",
    "    reqNom = \"SELECT nomJoueur FROM JOUEURS WHERE idNHL = \" + strId\n",
    "    W_nom = pd.read_sql(reqNom, conn)\n",
    "    W_nom = W_nom.iloc[0][\"nomJoueur\"]\n",
    "    return W_prenom + \" \" + W_nom\n",
    "\n",
    "#ajouter l'échange au registre\n",
    "def ajouterRegistre(dat, condition):\n",
    "    #générer le idTrade\n",
    "    req = \"SELECT MAX(idTrade) FROM ÉCHANGES\"\n",
    "    m = pd.read_sql(req, conn)\n",
    "    W_idTrade = m.iloc[0][\"MAX(idTrade)\"] + 1\n",
    "    #générer EquipeA\n",
    "    equipes = tradeJoueurs[\"equipeRecoit\"].unique()\n",
    "    equipeA = equipes[0]\n",
    "    #générer JoueursA\n",
    "    is_equA = tradeJoueurs[\"equipeRecoit\"] == equipeA\n",
    "    joueursA = tradeJoueurs[is_equA]\n",
    "    joueursA = joueursA[\"idNHL\"]\n",
    "    a = []\n",
    "    for i in joueursA:\n",
    "        nom = getNom(i)\n",
    "        a.__iadd__([nom])\n",
    "    str_a = ', '.join([str(elem) for elem in a])\n",
    "    #générer EquipeB\n",
    "    equipeB = equipes[1]\n",
    "    #générer JoueursB\n",
    "    is_equB = tradeJoueurs[\"equipeRecoit\"] == equipeB\n",
    "    joueursB = tradeJoueurs[is_equB]\n",
    "    joueursB = joueursB[\"idNHL\"]\n",
    "    b = []\n",
    "    for i in joueursB:\n",
    "        nom = getNom(i)\n",
    "        b.__iadd__([nom])\n",
    "    str_b = ', '.join([str(elem) for elem in b])\n",
    "    #générer ChoixA\n",
    "\n",
    "\n",
    "    #générer ChoixB\n",
    "\n",
    "\n",
    "\n",
    "    d = {\"idTrade\" : [W_idTrade], \"DateTrade\" : [dat], \"EquipeA\" : [equipeA], \"JoueursA\" : [str_a], \"EquipeB\" : [equipeB], \"JoueursB\" : [str_b], \"Condition\" : [condition]}\n",
    "    echange = pd.DataFrame(data=d)\n",
    "    echange.to_sql(\"ÉCHANGES\", conn, if_exists=\"append\", index=False)\n",
    "    ok = \"ok\"\n",
    "    return echange\n",
    "\n",
    "def echange(joueurs, dat, condition=\"vide\"):\n",
    "    for i in joueurs:\n",
    "        nouvellePeriode(i, dat)\n",
    "    finirPeriode(joueurs, dat)\n",
    "    #fonction pour faire le switch des choix\n",
    "    done = \"done\"\n",
    "    ajouterRegistre(dat, condition)\n",
    "    return done\n",
    "\n",
    "#pour les choix:\n",
    "    #fonction pour les choix va être inclue dans echange() et dans ajouterRegistre."
   ]
  },
  {
   "cell_type": "code",
   "execution_count": 149,
   "metadata": {},
   "outputs": [
    {
     "output_type": "stream",
     "name": "stdout",
     "text": [
      "<sqlite3.Cursor object at 0x0000019A61FD4DC0>\n<sqlite3.Cursor object at 0x0000019A61FD4DC0>\n<sqlite3.Cursor object at 0x0000019A61FD4DC0>\n<sqlite3.Cursor object at 0x0000019A61FD4DC0>\n"
     ]
    },
    {
     "output_type": "execute_result",
     "data": {
      "text/plain": [
       "'done'"
      ]
     },
     "metadata": {},
     "execution_count": 149
    }
   ],
   "source": [
    "dat = \"2021-02-19\"\n",
    "\n",
    "#echange(ids, dat)"
   ]
  }
 ]
}