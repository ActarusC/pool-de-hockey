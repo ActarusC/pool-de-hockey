{
 "metadata": {
  "language_info": {
   "codemirror_mode": {
    "name": "ipython",
    "version": 3
   },
   "file_extension": ".py",
   "mimetype": "text/x-python",
   "name": "python",
   "nbconvert_exporter": "python",
   "pygments_lexer": "ipython3",
   "version": "3.8.2-final"
  },
  "orig_nbformat": 2,
  "kernelspec": {
   "name": "python3",
   "display_name": "Python 3",
   "language": "python"
  }
 },
 "nbformat": 4,
 "nbformat_minor": 2,
 "cells": [
  {
   "cell_type": "code",
   "execution_count": 31,
   "metadata": {},
   "outputs": [],
   "source": [
    "from datetime import date, datetime, timedelta"
   ]
  },
  {
   "source": [
    "#### liste des fonctions à créer\n",
    "- Échange\n",
    "- Ballotage/Libérer joueur\n",
    "- Commutations\n",
    "    - Blessures\n",
    "- Repêchages"
   ],
   "cell_type": "markdown",
   "metadata": {}
  },
  {
   "cell_type": "code",
   "execution_count": 3,
   "metadata": {},
   "outputs": [],
   "source": [
    "#créer la table DRAFT en SQL avec les choix au repêchage\n",
    "conn = sqlite3.connect('C:/Users/huber/OneDrive/NHL/DbMatchs.db')\n",
    "#choix = pd.read_csv(\"C:\\dev\\pool-de-hockey\\src\\data\\listeChoix.csv\", sep=\";\")\n",
    "#choix.to_sql('DRAFT', conn, if_exists='replace', index = False)\n",
    "def execSQL(sql, conn, write=False):\n",
    "    c = conn.cursor()\n",
    "    print(c.execute(sql))\n",
    "    if write:\n",
    "        conn.commit()\n",
    "    else:\n",
    "        print(c.fetchall())\n",
    "    c.close()"
   ]
  },
  {
   "cell_type": "code",
   "execution_count": 3,
   "metadata": {},
   "outputs": [],
   "source": [
    "#DO NOT EXECUTE créer une fausse table ALIGNEMENTS POUR FAIRE LES TESTS\n",
    "#alignements = pd.read_csv(\"alignements.csv\", sep=\";\")\n",
    "#alignements.to_sql('copALIGN', conn, if_exists='replace', index = False)"
   ]
  },
  {
   "cell_type": "code",
   "execution_count": 148,
   "metadata": {},
   "outputs": [],
   "source": [
    "# créer la fonction qui effectue l'échange pour un élément JOUEUR de l'échange\n",
    "\n",
    "# la fonction doit faire deux choses:\n",
    "        # 1. DONE terminer l'ancienne période du joueur en changeant simplement dateFin\n",
    "        # 2. DONE ajouter la nouvelle période du joueur dans sa nouvelle équipe\n",
    "\n",
    "#requête qui va chercher la ligne actuelle d'un joueur dans ALIGNEMENTS\n",
    "def joueurLive(id):\n",
    "    requete = \"SELECT * FROM copALIGN WHERE idNHL == \" + id + \" AND dateFin == '2100-01-01'\"\n",
    "    df = pd.read_sql(requete, conn)\n",
    "    return df\n",
    "\n",
    "#fonction qui termine la période actuelle des joueurs de l'échange\n",
    "def finirPeriode(joueurs, dat):\n",
    "    dat = datetime.strptime(dat, \"%Y-%m-%d\")\n",
    "    dat = dat - timedelta(days=1)\n",
    "    dat = dat.strftime(\"%Y-%m-%d\")\n",
    "    dat = str(dat)\n",
    "    for i in joueurs:\n",
    "        str_i = str(i)\n",
    "        df = joueurLive(str_i)\n",
    "        idAlign = df.iloc[0][\"idAlignement\"]\n",
    "        idAlign = str(idAlign)\n",
    "        req = \"UPDATE copALIGN SET dateFin = '\" + dat + \"' WHERE idAlignement == \" + idAlign\n",
    "        execSQL(req, conn, write=True)\n",
    "\n",
    "\n",
    "#écrire la nouvelle ligne du joueur\n",
    "def nouvellePeriode(id, dat):\n",
    "    strId = str(id)\n",
    "        # idAlignement : max de idAlignement + 1\n",
    "    reqIdAlign = \"SELECT MAX(idAlignement) FROM copALIGN\"\n",
    "    W_idAlign = pd.read_sql(reqIdAlign, conn)\n",
    "    W_idAlign = W_idAlign.iloc[0][\"MAX(idAlignement)\"] + 1\n",
    "        # idPooler : aller le chercher dans testTrade.csv avec idNHL\n",
    "    is_idNHL = trade[\"idNHL\"] == id\n",
    "    joueurTrade = trade[is_idNHL]\n",
    "    W_idPooler = joueurTrade.iloc[0][\"equipeRecoit\"]\n",
    "        # prenomJoueur : aller le chercher dans JOUEURS avec idNHL\n",
    "    reqPrenom = \"SELECT prenomJoueur FROM JOUEURS WHERE idNHL = \" + strId\n",
    "    W_prenom = pd.read_sql(reqPrenom, conn)\n",
    "    W_prenom = W_prenom.iloc[0][\"prenomJoueur\"]\n",
    "        # nomJoueur : aller le chercher dans JOUEURS avec idNHL\n",
    "    reqNom = \"SELECT nomJoueur FROM JOUEURS WHERE idNHL = \" + strId\n",
    "    W_nom = pd.read_sql(reqNom, conn)\n",
    "    W_nom = W_nom.iloc[0][\"nomJoueur\"]\n",
    "        # idNHL : paramètre de la fonction\n",
    "        # statutJoueur : aller le chercher dans joueurLive(id)\n",
    "    df = joueurLive(strId)\n",
    "    W_statut = df.iloc[0][\"statutJoueur\"]\n",
    "        # dateDebut : paramètre de la fonction\n",
    "        # dateFin : '2100-01-01'\n",
    "    W_dateFin = \"2100-01-01\"\n",
    "\n",
    "    d = {\"idAlignement\" : [W_idAlign], \"idPooler\" : [W_idPooler], \"prenomJoueur\" : [W_prenom], \"nomJoueur\" : [W_nom], \"idNHL\" : [id], \"statutJoueur\" : [W_statut], \"dateDebut\" : [dat], \"dateFin\" : [W_dateFin], \"pjActuels\" : [0], \"butsActuels\" : [0], \"assistActuels\" : [0], \"pointsActuels\": [0]}\n",
    "    periode = pd.DataFrame(data=d)\n",
    "    periode.to_sql(\"copALIGN\", conn, if_exists=\"append\", index=False)\n",
    "    ok = W_prenom + \" \" + W_nom\n",
    "    return ok\n",
    "\n",
    "#fonction get noms de joueur\n",
    "def getNom(id):\n",
    "    strId = str(id)\n",
    "    reqPrenom = \"SELECT prenomJoueur FROM JOUEURS WHERE idNHL = \" + strId\n",
    "    W_prenom = pd.read_sql(reqPrenom, conn)\n",
    "    W_prenom = W_prenom.iloc[0][\"prenomJoueur\"]\n",
    "    reqNom = \"SELECT nomJoueur FROM JOUEURS WHERE idNHL = \" + strId\n",
    "    W_nom = pd.read_sql(reqNom, conn)\n",
    "    W_nom = W_nom.iloc[0][\"nomJoueur\"]\n",
    "    return W_prenom + \" \" + W_nom\n",
    "\n",
    "#ajouter l'échange au registre\n",
    "def ajouterRegistre(dat, condition):\n",
    "    #générer le idTrade\n",
    "    req = \"SELECT MAX(idTrade) FROM ÉCHANGES\"\n",
    "    m = pd.read_sql(req, conn)\n",
    "    W_idTrade = m.iloc[0][\"MAX(idTrade)\"] + 1\n",
    "    #générer EquipeA\n",
    "    equipes = trade[\"equipeRecoit\"].unique()\n",
    "    equipeA = equipes[0]\n",
    "    #générer JoueursA\n",
    "    is_equA = trade[\"equipeRecoit\"] == equipeA\n",
    "    joueursA = trade[is_equA]\n",
    "    joueursA = joueursA[\"idNHL\"]\n",
    "    a = []\n",
    "    for i in joueursA:\n",
    "        nom = getNom(i)\n",
    "        a.__iadd__([nom])\n",
    "    str_a = ', '.join([str(elem) for elem in a])\n",
    "    #générer EquipeB\n",
    "    equipeB = equipes[1]\n",
    "    #générer JoueursB\n",
    "    is_equB = trade[\"equipeRecoit\"] == equipeB\n",
    "    joueursB = trade[is_equB]\n",
    "    joueursB = joueursB[\"idNHL\"]\n",
    "    b = []\n",
    "    for i in joueursB:\n",
    "        nom = getNom(i)\n",
    "        b.__iadd__([nom])\n",
    "    str_b = ', '.join([str(elem) for elem in b])\n",
    "    d = {\"idTrade\" : [W_idTrade], \"DateTrade\" : [dat], \"EquipeA\" : [equipeA], \"JoueursA\" : [str_a], \"EquipeB\" : [equipeB], \"JoueursB\" : [str_b], \"Condition\" : [condition]}\n",
    "    echange = pd.DataFrame(data=d)\n",
    "    echange.to_sql(\"ÉCHANGES\", conn, if_exists=\"append\", index=False)\n",
    "    ok = \"ok\"\n",
    "    return echange\n",
    "\n",
    "def echange(joueurs, dat, condition=\"vide\"):\n",
    "    for i in joueurs:\n",
    "        nouvellePeriode(i, dat)\n",
    "    finirPeriode(joueurs, dat)\n",
    "    done = \"done\"\n",
    "    ajouterRegistre(dat, condition)\n",
    "    return done"
   ]
  },
  {
   "cell_type": "code",
   "execution_count": 149,
   "metadata": {},
   "outputs": [
    {
     "output_type": "stream",
     "name": "stdout",
     "text": [
      "<sqlite3.Cursor object at 0x0000019A61FD4DC0>\n<sqlite3.Cursor object at 0x0000019A61FD4DC0>\n<sqlite3.Cursor object at 0x0000019A61FD4DC0>\n<sqlite3.Cursor object at 0x0000019A61FD4DC0>\n"
     ]
    },
    {
     "output_type": "execute_result",
     "data": {
      "text/plain": [
       "'done'"
      ]
     },
     "metadata": {},
     "execution_count": 149
    }
   ],
   "source": [
    "trade = pd.read_csv(\"testTrade.csv\", sep=\";\")\n",
    "ids = trade[\"idNHL\"]\n",
    "dat = \"2021-02-19\"\n",
    "\n",
    "echange(ids, dat)"
   ]
  }
 ]
}