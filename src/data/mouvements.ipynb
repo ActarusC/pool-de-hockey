{
 "metadata": {
  "language_info": {
   "codemirror_mode": {
    "name": "ipython",
    "version": 3
   },
   "file_extension": ".py",
   "mimetype": "text/x-python",
   "name": "python",
   "nbconvert_exporter": "python",
   "pygments_lexer": "ipython3",
   "version": "3.8.2-final"
  },
  "orig_nbformat": 2,
  "kernelspec": {
   "name": "python3",
   "display_name": "Python 3",
   "language": "python"
  }
 },
 "nbformat": 4,
 "nbformat_minor": 2,
 "cells": [
  {
   "cell_type": "code",
   "execution_count": 18,
   "metadata": {},
   "outputs": [],
   "source": [
    "from datetime import date, timedelta"
   ]
  },
  {
   "source": [
    "#### liste des fonctions à créer\n",
    "- Échange\n",
    "- Ballotage/Libérer joueur\n",
    "- Commutations\n",
    "    - Blessures\n",
    "- Repêchages"
   ],
   "cell_type": "markdown",
   "metadata": {}
  },
  {
   "cell_type": "code",
   "execution_count": 21,
   "metadata": {},
   "outputs": [],
   "source": [
    "#créer la table DRAFT en SQL avec les choix au repêchage\n",
    "conn = sqlite3.connect('C:/Users/huber/OneDrive/NHL/DbMatchs.db')\n",
    "#choix = pd.read_csv(\"C:\\dev\\pool-de-hockey\\src\\data\\listeChoix.csv\", sep=\";\")\n",
    "#choix.to_sql('DRAFT', conn, if_exists='replace', index = False)\n",
    "def execSQL(sql, conn, write=False):\n",
    "    c = conn.cursor()\n",
    "    print(c.execute(sql))\n",
    "    if write:\n",
    "        conn.commit()\n",
    "    else:\n",
    "        print(c.fetchall())\n",
    "    c.close()"
   ]
  },
  {
   "cell_type": "code",
   "execution_count": 13,
   "metadata": {},
   "outputs": [],
   "source": [
    "#créer une fausse table ALIGNEMENTS POUR FAIRE LES TESTS\n",
    "#alignements = pd.read_csv(\"alignements.csv\", sep=\";\")\n",
    "#alignements.to_sql('copALIGN', conn, if_exists='replace', index = False)"
   ]
  },
  {
   "cell_type": "code",
   "execution_count": 24,
   "metadata": {},
   "outputs": [],
   "source": [
    "# créer la fonction qui effectue l'échange pour un élément JOUEUR de l'échange\n",
    "\n",
    "# la fonction doit faire deux choses:\n",
    "        # 1. DONE terminer l'ancienne période du joueur en changeant simplement dateFin\n",
    "        # 2. ajouter la nouvelle période du joueur dans sa nouvelle équipe\n",
    "\n",
    "trade = pd.read_csv(\"testTrade.csv\", sep=\";\")\n",
    "ids = trade[\"idNHL\"].apply(str)\n",
    "\n",
    "#requête qui va chercher la ligne actuelle d'un joueur dans ALIGNEMENTS\n",
    "def joueurLive(id):\n",
    "    requete = \"SELECT * FROM copALIGN WHERE idNHL == \" + id + \" AND dateFin == '2100-01-01'\"\n",
    "    df = pd.read_sql(requete, conn)\n",
    "    return df\n",
    "\n",
    "#fonction qui termine la période actuelle des joueurs de l'échange\n",
    "def finirPeriode(joueurs, dat):\n",
    "    dat = str(dat)\n",
    "    for i in joueurs:\n",
    "        df = joueurLive(i)\n",
    "        idAlign = df.iloc[0][\"idAlignement\"]\n",
    "        idAlign = str(idAlign)\n",
    "        req = \"UPDATE copALIGN SET dateFin = '\" + dat + \"' WHERE idAlignement == \" + idAlign\n",
    "        execSQL(req, conn, write=True)\n",
    "\n",
    "def "
   ]
  }
 ]
}