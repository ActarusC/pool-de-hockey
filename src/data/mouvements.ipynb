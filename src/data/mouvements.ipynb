{
 "metadata": {
  "language_info": {
   "codemirror_mode": {
    "name": "ipython",
    "version": 3
   },
   "file_extension": ".py",
   "mimetype": "text/x-python",
   "name": "python",
   "nbconvert_exporter": "python",
   "pygments_lexer": "ipython3",
   "version": "3.8.2-final"
  },
  "orig_nbformat": 2,
  "kernelspec": {
   "name": "python3",
   "display_name": "Python 3",
   "language": "python"
  }
 },
 "nbformat": 4,
 "nbformat_minor": 2,
 "cells": [
  {
   "source": [
    "#### liste des fonctions à créer\n",
    "- Échange\n",
    "- Ballotage/Libérer joueur\n",
    "- Commutations\n",
    "    - Blessures\n",
    "- Repêchages"
   ],
   "cell_type": "markdown",
   "metadata": {}
  },
  {
   "cell_type": "code",
   "execution_count": 3,
   "metadata": {},
   "outputs": [],
   "source": [
    "#créer la table DRAFT en SQL avec les choix au repêchage\n",
    "conn = sqlite3.connect('C:/Users/huber/OneDrive/NHL/DbMatchs.db')\n",
    "#choix = pd.read_csv(\"C:\\dev\\pool-de-hockey\\src\\data\\listeChoix.csv\", sep=\";\")\n",
    "#choix.to_sql('DRAFT', conn, if_exists='replace', index = False)"
   ]
  },
  {
   "cell_type": "code",
   "execution_count": 13,
   "metadata": {},
   "outputs": [],
   "source": [
    "#créer une fausse table ALIGNEMENTS POUR FAIRE LES TESTS\n",
    "#alignements = pd.read_csv(\"alignements.csv\", sep=\";\")\n",
    "#alignements.to_sql('copALIGN', conn, if_exists='replace', index = False)"
   ]
  },
  {
   "cell_type": "code",
   "execution_count": 14,
   "metadata": {},
   "outputs": [
    {
     "output_type": "execute_result",
     "data": {
      "text/plain": [
       "   idAlignement idPooler prenomJoueur  nomJoueur    idNHL statutJoueur  \\\n",
       "0            10      hub         Miro  Heiskanen  8480036   Alignement   \n",
       "\n",
       "    dateDebut     dateFin pjActuels butsActuels assistActuels pointsActuels  \n",
       "0  2021-01-22  2100-01-01      None        None          None          None  "
      ],
      "text/html": "<div>\n<style scoped>\n    .dataframe tbody tr th:only-of-type {\n        vertical-align: middle;\n    }\n\n    .dataframe tbody tr th {\n        vertical-align: top;\n    }\n\n    .dataframe thead th {\n        text-align: right;\n    }\n</style>\n<table border=\"1\" class=\"dataframe\">\n  <thead>\n    <tr style=\"text-align: right;\">\n      <th></th>\n      <th>idAlignement</th>\n      <th>idPooler</th>\n      <th>prenomJoueur</th>\n      <th>nomJoueur</th>\n      <th>idNHL</th>\n      <th>statutJoueur</th>\n      <th>dateDebut</th>\n      <th>dateFin</th>\n      <th>pjActuels</th>\n      <th>butsActuels</th>\n      <th>assistActuels</th>\n      <th>pointsActuels</th>\n    </tr>\n  </thead>\n  <tbody>\n    <tr>\n      <th>0</th>\n      <td>10</td>\n      <td>hub</td>\n      <td>Miro</td>\n      <td>Heiskanen</td>\n      <td>8480036</td>\n      <td>Alignement</td>\n      <td>2021-01-22</td>\n      <td>2100-01-01</td>\n      <td>None</td>\n      <td>None</td>\n      <td>None</td>\n      <td>None</td>\n    </tr>\n  </tbody>\n</table>\n</div>"
     },
     "metadata": {},
     "execution_count": 14
    }
   ],
   "source": [
    "# créer la fonction qui effectue l'échange pour un élément JOUEUR de l'échange\n",
    "\n",
    "# la fonction doit faire deux choses:\n",
    "        # 1. terminer l'ancienne période du joueur en changeant simplement dateFin\n",
    "        # 2. ajouter la nouvelle période du joueur dans sa nouvelle équipe\n",
    "\n",
    "trade = pd.read_csv(\"testTrade.csv\", sep=\";\")\n",
    "ids = trade[\"idNHL\"].apply(str)\n",
    "\n",
    "    #requête qui va chercher la ligne actuelle d'un joueur dans ALIGNEMENTS\n",
    "def joueurLive(id):\n",
    "    requete = \"SELECT * FROM copALIGN WHERE idNHL == \" + id + \" AND dateFin == '2100-01-01'\"\n",
    "    df = pd.read_sql(requete, conn)\n",
    "    return df    \n",
    "\n",
    "for i in ids:\n",
    "    dfjoueurLive(\"8480036\")"
   ]
  },
  {
   "cell_type": "code",
   "execution_count": null,
   "metadata": {},
   "outputs": [],
   "source": []
  }
 ]
}