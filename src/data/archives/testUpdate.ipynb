{
 "metadata": {
  "language_info": {
   "codemirror_mode": {
    "name": "ipython",
    "version": 3
   },
   "file_extension": ".py",
   "mimetype": "text/x-python",
   "name": "python",
   "nbconvert_exporter": "python",
   "pygments_lexer": "ipython3",
   "version": "3.8.2-final"
  },
  "orig_nbformat": 2,
  "kernelspec": {
   "name": "python3",
   "display_name": "Python 3.8.2 64-bit",
   "metadata": {
    "interpreter": {
     "hash": "0615a32d0f90882bf77138c32478eb8908c709afc396b4b2f3cba3d11fb2d0df"
    }
   }
  }
 },
 "nbformat": 4,
 "nbformat_minor": 2,
 "cells": [
  {
   "cell_type": "code",
   "execution_count": 2,
   "metadata": {},
   "outputs": [],
   "source": [
    "def execSQL(sql, conn, write=False):\n",
    "    c = conn.cursor()\n",
    "    print(c.execute(sql))\n",
    "    if write:\n",
    "        conn.commit()\n",
    "    else:\n",
    "        print(c.fetchall())\n",
    "    c.close()"
   ]
  },
  {
   "cell_type": "code",
   "execution_count": 2,
   "metadata": {},
   "outputs": [
    {
     "output_type": "execute_result",
     "data": {
      "text/plain": [
       "  idPooler  NbPTS\n",
       "0      cle     26\n",
       "1      hub     17"
      ],
      "text/html": "<div>\n<style scoped>\n    .dataframe tbody tr th:only-of-type {\n        vertical-align: middle;\n    }\n\n    .dataframe tbody tr th {\n        vertical-align: top;\n    }\n\n    .dataframe thead th {\n        text-align: right;\n    }\n</style>\n<table border=\"1\" class=\"dataframe\">\n  <thead>\n    <tr style=\"text-align: right;\">\n      <th></th>\n      <th>idPooler</th>\n      <th>NbPTS</th>\n    </tr>\n  </thead>\n  <tbody>\n    <tr>\n      <th>0</th>\n      <td>cle</td>\n      <td>26</td>\n    </tr>\n    <tr>\n      <th>1</th>\n      <td>hub</td>\n      <td>17</td>\n    </tr>\n  </tbody>\n</table>\n</div>"
     },
     "metadata": {},
     "execution_count": 2
    }
   ],
   "source": [
    "requete = \"SELECT idPooler, COUNT(Event) AS NbPTS FROM PBP INNER JOIN ALIGNEMENTS ON (PBP.p1_ID = ALIGNEMENTS.idNHL) OR (PBP.p2_ID = ALIGNEMENTS.idNHL) OR (PBP.p3_ID = ALIGNEMENTS.idNHL) WHERE EVENT = 'GOAL' AND statutJoueur = 'Alignement' AND PBP.Date > ALIGNEMENTS.dateDebut AND PBP.Date <= ALIGNEMENTS.dateFin GROUP BY idPooler\"\n",
    "conn = sqlite3.connect('C:/Users/huber/OneDrive/NHL/DbMatchs.db')\n",
    "dftest = pd.read_sql(requete, conn)\n",
    "dftest.to_sql('majScore', conn, if_exists='replace')\n",
    "dftest"
   ]
  },
  {
   "cell_type": "code",
   "execution_count": null,
   "metadata": {},
   "outputs": [],
   "source": [
    "import sqlite3\n",
    "\n",
    "def updateSqliteTable(id, salary):\n",
    "    try:\n",
    "        conn = sqlite3.connect('C:/Users/huber/OneDrive/NHL/DbMatchs.db')\n",
    "        cursor = conn.cursor()\n",
    "        print(\"Connected to SQLite\")\n",
    "\n",
    "        sql_update_query = \"\"\"Update POOLERS set Score = ? where id = ?\"\"\"\n",
    "        data = (salary, id)\n",
    "        cursor.execute(sql_update_query, data)\n",
    "        sqliteConnection.commit()\n",
    "        print(\"Record Updated successfully\")\n",
    "        cursor.close()\n",
    "\n",
    "    except sqlite3.Error as error:\n",
    "        print(\"Failed to update sqlite table\", error)\n",
    "    finally:\n",
    "        if (sqliteConnection):\n",
    "            sqliteConnection.close()\n",
    "            print(\"The sqlite connection is closed\")\n",
    "\n",
    "updateSqliteTable(3, 7500)"
   ]
  }
 ]
}