{
 "metadata": {
  "language_info": {
   "codemirror_mode": {
    "name": "ipython",
    "version": 3
   },
   "file_extension": ".py",
   "mimetype": "text/x-python",
   "name": "python",
   "nbconvert_exporter": "python",
   "pygments_lexer": "ipython3",
   "version": "3.8.2-final"
  },
  "orig_nbformat": 2,
  "kernelspec": {
   "name": "python3",
   "display_name": "Python 3",
   "language": "python"
  }
 },
 "nbformat": 4,
 "nbformat_minor": 2,
 "cells": [
  {
   "cell_type": "code",
   "execution_count": 1,
   "metadata": {},
   "outputs": [
    {
     "output_type": "error",
     "ename": "FileNotFoundError",
     "evalue": "[Errno 2] No such file or directory: 'C:\\\\dev\\\\pool-de-hockey\\\\src\\\\data\\\\scoreMatchs.csv'",
     "traceback": [
      "\u001b[1;31m---------------------------------------------------------------------------\u001b[0m",
      "\u001b[1;31mFileNotFoundError\u001b[0m                         Traceback (most recent call last)",
      "\u001b[1;32m<ipython-input-1-463600425a75>\u001b[0m in \u001b[0;36m<module>\u001b[1;34m\u001b[0m\n\u001b[0;32m     18\u001b[0m \u001b[0mdfFac\u001b[0m\u001b[1;33m[\u001b[0m\u001b[1;34m\"IdMatch\"\u001b[0m\u001b[1;33m]\u001b[0m \u001b[1;33m=\u001b[0m \u001b[0mdfFac\u001b[0m\u001b[1;33m[\u001b[0m\u001b[1;34m\"Saison\"\u001b[0m\u001b[1;33m]\u001b[0m \u001b[1;33m+\u001b[0m \u001b[1;34m\"0\"\u001b[0m \u001b[1;33m+\u001b[0m \u001b[0mdfFac\u001b[0m\u001b[1;33m[\u001b[0m\u001b[1;34m\"Game_Id\"\u001b[0m\u001b[1;33m]\u001b[0m\u001b[1;33m\u001b[0m\u001b[1;33m\u001b[0m\u001b[0m\n\u001b[0;32m     19\u001b[0m \u001b[1;33m\u001b[0m\u001b[0m\n\u001b[1;32m---> 20\u001b[1;33m \u001b[0mdf\u001b[0m \u001b[1;33m=\u001b[0m \u001b[0mpd\u001b[0m\u001b[1;33m.\u001b[0m\u001b[0mread_csv\u001b[0m\u001b[1;33m(\u001b[0m\u001b[1;34m\"C:\\dev\\pool-de-hockey\\src\\data\\scoreMatchs.csv\"\u001b[0m\u001b[1;33m,\u001b[0m \u001b[0msep\u001b[0m\u001b[1;33m=\u001b[0m\u001b[1;34m\";\"\u001b[0m\u001b[1;33m)\u001b[0m\u001b[1;33m\u001b[0m\u001b[1;33m\u001b[0m\u001b[0m\n\u001b[0m\u001b[0;32m     21\u001b[0m \u001b[0mdf\u001b[0m\u001b[1;33m[\u001b[0m\u001b[1;33m[\u001b[0m\u001b[1;34m'Année'\u001b[0m\u001b[1;33m,\u001b[0m \u001b[1;34m'Reste'\u001b[0m\u001b[1;33m,\u001b[0m \u001b[1;34m'Reste2'\u001b[0m\u001b[1;33m]\u001b[0m\u001b[1;33m]\u001b[0m \u001b[1;33m=\u001b[0m \u001b[0mdf\u001b[0m\u001b[1;33m.\u001b[0m\u001b[0mDate\u001b[0m\u001b[1;33m.\u001b[0m\u001b[0mstr\u001b[0m\u001b[1;33m.\u001b[0m\u001b[0msplit\u001b[0m\u001b[1;33m(\u001b[0m\u001b[1;34m\"-\"\u001b[0m\u001b[1;33m,\u001b[0m\u001b[0mexpand\u001b[0m\u001b[1;33m=\u001b[0m\u001b[1;32mTrue\u001b[0m\u001b[1;33m)\u001b[0m\u001b[1;33m\u001b[0m\u001b[1;33m\u001b[0m\u001b[0m\n\u001b[0;32m     22\u001b[0m \u001b[0mdf\u001b[0m \u001b[1;33m=\u001b[0m \u001b[0mdf\u001b[0m\u001b[1;33m.\u001b[0m\u001b[0mdrop\u001b[0m\u001b[1;33m(\u001b[0m\u001b[1;33m[\u001b[0m\u001b[1;34m\"Reste2\"\u001b[0m\u001b[1;33m]\u001b[0m\u001b[1;33m,\u001b[0m \u001b[0maxis\u001b[0m\u001b[1;33m=\u001b[0m\u001b[1;36m1\u001b[0m\u001b[1;33m)\u001b[0m\u001b[1;33m\u001b[0m\u001b[1;33m\u001b[0m\u001b[0m\n",
      "\u001b[1;32m~\\AppData\\Local\\Programs\\Python\\Python38\\lib\\site-packages\\pandas\\io\\parsers.py\u001b[0m in \u001b[0;36mread_csv\u001b[1;34m(filepath_or_buffer, sep, delimiter, header, names, index_col, usecols, squeeze, prefix, mangle_dupe_cols, dtype, engine, converters, true_values, false_values, skipinitialspace, skiprows, skipfooter, nrows, na_values, keep_default_na, na_filter, verbose, skip_blank_lines, parse_dates, infer_datetime_format, keep_date_col, date_parser, dayfirst, cache_dates, iterator, chunksize, compression, thousands, decimal, lineterminator, quotechar, quoting, doublequote, escapechar, comment, encoding, dialect, error_bad_lines, warn_bad_lines, delim_whitespace, low_memory, memory_map, float_precision)\u001b[0m\n\u001b[0;32m    684\u001b[0m     )\n\u001b[0;32m    685\u001b[0m \u001b[1;33m\u001b[0m\u001b[0m\n\u001b[1;32m--> 686\u001b[1;33m     \u001b[1;32mreturn\u001b[0m \u001b[0m_read\u001b[0m\u001b[1;33m(\u001b[0m\u001b[0mfilepath_or_buffer\u001b[0m\u001b[1;33m,\u001b[0m \u001b[0mkwds\u001b[0m\u001b[1;33m)\u001b[0m\u001b[1;33m\u001b[0m\u001b[1;33m\u001b[0m\u001b[0m\n\u001b[0m\u001b[0;32m    687\u001b[0m \u001b[1;33m\u001b[0m\u001b[0m\n\u001b[0;32m    688\u001b[0m \u001b[1;33m\u001b[0m\u001b[0m\n",
      "\u001b[1;32m~\\AppData\\Local\\Programs\\Python\\Python38\\lib\\site-packages\\pandas\\io\\parsers.py\u001b[0m in \u001b[0;36m_read\u001b[1;34m(filepath_or_buffer, kwds)\u001b[0m\n\u001b[0;32m    450\u001b[0m \u001b[1;33m\u001b[0m\u001b[0m\n\u001b[0;32m    451\u001b[0m     \u001b[1;31m# Create the parser.\u001b[0m\u001b[1;33m\u001b[0m\u001b[1;33m\u001b[0m\u001b[1;33m\u001b[0m\u001b[0m\n\u001b[1;32m--> 452\u001b[1;33m     \u001b[0mparser\u001b[0m \u001b[1;33m=\u001b[0m \u001b[0mTextFileReader\u001b[0m\u001b[1;33m(\u001b[0m\u001b[0mfp_or_buf\u001b[0m\u001b[1;33m,\u001b[0m \u001b[1;33m**\u001b[0m\u001b[0mkwds\u001b[0m\u001b[1;33m)\u001b[0m\u001b[1;33m\u001b[0m\u001b[1;33m\u001b[0m\u001b[0m\n\u001b[0m\u001b[0;32m    453\u001b[0m \u001b[1;33m\u001b[0m\u001b[0m\n\u001b[0;32m    454\u001b[0m     \u001b[1;32mif\u001b[0m \u001b[0mchunksize\u001b[0m \u001b[1;32mor\u001b[0m \u001b[0miterator\u001b[0m\u001b[1;33m:\u001b[0m\u001b[1;33m\u001b[0m\u001b[1;33m\u001b[0m\u001b[0m\n",
      "\u001b[1;32m~\\AppData\\Local\\Programs\\Python\\Python38\\lib\\site-packages\\pandas\\io\\parsers.py\u001b[0m in \u001b[0;36m__init__\u001b[1;34m(self, f, engine, **kwds)\u001b[0m\n\u001b[0;32m    944\u001b[0m             \u001b[0mself\u001b[0m\u001b[1;33m.\u001b[0m\u001b[0moptions\u001b[0m\u001b[1;33m[\u001b[0m\u001b[1;34m\"has_index_names\"\u001b[0m\u001b[1;33m]\u001b[0m \u001b[1;33m=\u001b[0m \u001b[0mkwds\u001b[0m\u001b[1;33m[\u001b[0m\u001b[1;34m\"has_index_names\"\u001b[0m\u001b[1;33m]\u001b[0m\u001b[1;33m\u001b[0m\u001b[1;33m\u001b[0m\u001b[0m\n\u001b[0;32m    945\u001b[0m \u001b[1;33m\u001b[0m\u001b[0m\n\u001b[1;32m--> 946\u001b[1;33m         \u001b[0mself\u001b[0m\u001b[1;33m.\u001b[0m\u001b[0m_make_engine\u001b[0m\u001b[1;33m(\u001b[0m\u001b[0mself\u001b[0m\u001b[1;33m.\u001b[0m\u001b[0mengine\u001b[0m\u001b[1;33m)\u001b[0m\u001b[1;33m\u001b[0m\u001b[1;33m\u001b[0m\u001b[0m\n\u001b[0m\u001b[0;32m    947\u001b[0m \u001b[1;33m\u001b[0m\u001b[0m\n\u001b[0;32m    948\u001b[0m     \u001b[1;32mdef\u001b[0m \u001b[0mclose\u001b[0m\u001b[1;33m(\u001b[0m\u001b[0mself\u001b[0m\u001b[1;33m)\u001b[0m\u001b[1;33m:\u001b[0m\u001b[1;33m\u001b[0m\u001b[1;33m\u001b[0m\u001b[0m\n",
      "\u001b[1;32m~\\AppData\\Local\\Programs\\Python\\Python38\\lib\\site-packages\\pandas\\io\\parsers.py\u001b[0m in \u001b[0;36m_make_engine\u001b[1;34m(self, engine)\u001b[0m\n\u001b[0;32m   1176\u001b[0m     \u001b[1;32mdef\u001b[0m \u001b[0m_make_engine\u001b[0m\u001b[1;33m(\u001b[0m\u001b[0mself\u001b[0m\u001b[1;33m,\u001b[0m \u001b[0mengine\u001b[0m\u001b[1;33m=\u001b[0m\u001b[1;34m\"c\"\u001b[0m\u001b[1;33m)\u001b[0m\u001b[1;33m:\u001b[0m\u001b[1;33m\u001b[0m\u001b[1;33m\u001b[0m\u001b[0m\n\u001b[0;32m   1177\u001b[0m         \u001b[1;32mif\u001b[0m \u001b[0mengine\u001b[0m \u001b[1;33m==\u001b[0m \u001b[1;34m\"c\"\u001b[0m\u001b[1;33m:\u001b[0m\u001b[1;33m\u001b[0m\u001b[1;33m\u001b[0m\u001b[0m\n\u001b[1;32m-> 1178\u001b[1;33m             \u001b[0mself\u001b[0m\u001b[1;33m.\u001b[0m\u001b[0m_engine\u001b[0m \u001b[1;33m=\u001b[0m \u001b[0mCParserWrapper\u001b[0m\u001b[1;33m(\u001b[0m\u001b[0mself\u001b[0m\u001b[1;33m.\u001b[0m\u001b[0mf\u001b[0m\u001b[1;33m,\u001b[0m \u001b[1;33m**\u001b[0m\u001b[0mself\u001b[0m\u001b[1;33m.\u001b[0m\u001b[0moptions\u001b[0m\u001b[1;33m)\u001b[0m\u001b[1;33m\u001b[0m\u001b[1;33m\u001b[0m\u001b[0m\n\u001b[0m\u001b[0;32m   1179\u001b[0m         \u001b[1;32melse\u001b[0m\u001b[1;33m:\u001b[0m\u001b[1;33m\u001b[0m\u001b[1;33m\u001b[0m\u001b[0m\n\u001b[0;32m   1180\u001b[0m             \u001b[1;32mif\u001b[0m \u001b[0mengine\u001b[0m \u001b[1;33m==\u001b[0m \u001b[1;34m\"python\"\u001b[0m\u001b[1;33m:\u001b[0m\u001b[1;33m\u001b[0m\u001b[1;33m\u001b[0m\u001b[0m\n",
      "\u001b[1;32m~\\AppData\\Local\\Programs\\Python\\Python38\\lib\\site-packages\\pandas\\io\\parsers.py\u001b[0m in \u001b[0;36m__init__\u001b[1;34m(self, src, **kwds)\u001b[0m\n\u001b[0;32m   2006\u001b[0m         \u001b[0mkwds\u001b[0m\u001b[1;33m[\u001b[0m\u001b[1;34m\"usecols\"\u001b[0m\u001b[1;33m]\u001b[0m \u001b[1;33m=\u001b[0m \u001b[0mself\u001b[0m\u001b[1;33m.\u001b[0m\u001b[0musecols\u001b[0m\u001b[1;33m\u001b[0m\u001b[1;33m\u001b[0m\u001b[0m\n\u001b[0;32m   2007\u001b[0m \u001b[1;33m\u001b[0m\u001b[0m\n\u001b[1;32m-> 2008\u001b[1;33m         \u001b[0mself\u001b[0m\u001b[1;33m.\u001b[0m\u001b[0m_reader\u001b[0m \u001b[1;33m=\u001b[0m \u001b[0mparsers\u001b[0m\u001b[1;33m.\u001b[0m\u001b[0mTextReader\u001b[0m\u001b[1;33m(\u001b[0m\u001b[0msrc\u001b[0m\u001b[1;33m,\u001b[0m \u001b[1;33m**\u001b[0m\u001b[0mkwds\u001b[0m\u001b[1;33m)\u001b[0m\u001b[1;33m\u001b[0m\u001b[1;33m\u001b[0m\u001b[0m\n\u001b[0m\u001b[0;32m   2009\u001b[0m         \u001b[0mself\u001b[0m\u001b[1;33m.\u001b[0m\u001b[0munnamed_cols\u001b[0m \u001b[1;33m=\u001b[0m \u001b[0mself\u001b[0m\u001b[1;33m.\u001b[0m\u001b[0m_reader\u001b[0m\u001b[1;33m.\u001b[0m\u001b[0munnamed_cols\u001b[0m\u001b[1;33m\u001b[0m\u001b[1;33m\u001b[0m\u001b[0m\n\u001b[0;32m   2010\u001b[0m \u001b[1;33m\u001b[0m\u001b[0m\n",
      "\u001b[1;32mpandas\\_libs\\parsers.pyx\u001b[0m in \u001b[0;36mpandas._libs.parsers.TextReader.__cinit__\u001b[1;34m()\u001b[0m\n",
      "\u001b[1;32mpandas\\_libs\\parsers.pyx\u001b[0m in \u001b[0;36mpandas._libs.parsers.TextReader._setup_parser_source\u001b[1;34m()\u001b[0m\n",
      "\u001b[1;31mFileNotFoundError\u001b[0m: [Errno 2] No such file or directory: 'C:\\\\dev\\\\pool-de-hockey\\\\src\\\\data\\\\scoreMatchs.csv'"
     ]
    }
   ],
   "source": [
    "conn = sqlite3.connect('C:/Users/huber/OneDrive/NHL/DbMatchs.db')\n",
    "dfFac = pd.read_sql(\"SELECT Game_Id, Date, Description FROM PBP WHERE Event == 'FAC' AND Period == '1' AND Seconds_Elapsed == '0'\", conn)\n",
    "dfFac[['gagneMAJ', 'Reste']] = dfFac.Description.str.split(\" won\",expand=True,)\n",
    "dfFac[['Année', 'Reste', 'Reste2']] = dfFac.Date.str.split(\"-\",expand=True)\n",
    "dfFac = dfFac.drop([\"Description\", \"Reste2\"], axis=1)\n",
    "s = pd.to_numeric(dfFac[\"Année\"])\n",
    "dfFac[\"Année\"] = s\n",
    "r = pd.to_numeric(dfFac[\"Reste\"])\n",
    "dfFac[\"Reste\"] = r\n",
    "dfFac[\"debutSaison\"] = r.ge(9)\n",
    "dfFac[\"SaisonTempo\"] = s * dfFac[\"debutSaison\"]\n",
    "st = dfFac[\"SaisonTempo\"]\n",
    "dfFac[\"finSaison\"] = st.eq(0)\n",
    "dfFac[\"SaisonTempo2\"] = (s - 1) * dfFac[\"finSaison\"]\n",
    "dfFac[\"Saison\"] = dfFac[\"SaisonTempo\"] + dfFac[\"SaisonTempo2\"]\n",
    "dfFac[\"Saison\"] = dfFac[\"Saison\"].apply(str)\n",
    "dfFac = dfFac.drop([\"Reste\", \"Année\", \"debutSaison\", \"SaisonTempo\", \"finSaison\", \"SaisonTempo2\"], axis=1)\n",
    "dfFac[\"IdMatch\"] = dfFac[\"Saison\"] + \"0\" + dfFac[\"Game_Id\"]\n",
    "\n",
    "df = pd.read_csv(\"C:\\dev\\pool-de-hockey\\src\\data\\scoreMatchs.csv\", sep=\";\")\n",
    "df[['Année', 'Reste', 'Reste2']] = df.Date.str.split(\"-\",expand=True)\n",
    "df = df.drop([\"Reste2\"], axis=1)\n",
    "s = pd.to_numeric(df[\"Année\"])\n",
    "df[\"Année\"] = s\n",
    "r = pd.to_numeric(df[\"Reste\"])\n",
    "df[\"Reste\"] = r\n",
    "df[\"debutSaison\"] = r.ge(9)\n",
    "df[\"SaisonTempo\"] = s * df[\"debutSaison\"]\n",
    "st = df[\"SaisonTempo\"]\n",
    "df[\"finSaison\"] = st.eq(0)\n",
    "df[\"SaisonTempo2\"] = (s - 1) * df[\"finSaison\"]\n",
    "df[\"Saison\"] = df[\"SaisonTempo\"] + df[\"SaisonTempo2\"]\n",
    "df[\"Saison\"] = df[\"Saison\"].apply(str)\n",
    "df[\"Game_Id\"] = df[\"Game_Id\"].apply(str)\n",
    "df = df.drop([\"Reste\", \"Année\", \"debutSaison\", \"SaisonTempo\", \"finSaison\", \"SaisonTempo2\"], axis=1)\n",
    "df[\"IdMatch\"] = df[\"Saison\"] + \"0\" + df[\"Game_Id\"]\n",
    "\n",
    "dfFinale = dfFac.merge(df, on = \"IdMatch\")\n",
    "dfFinale = dfFinale[[\"Date_x\", \"gagneMAJ\", \"gagnant\"]]\n",
    "#dfFinale.to_csv(\"C:\\dev\\pool-de-hockey\\src\\data\\corr.csv\")"
   ]
  },
  {
   "cell_type": "code",
   "execution_count": 4,
   "metadata": {},
   "outputs": [],
   "source": [
    "#dfVic = pd.read_sql(\"SELECT Game_Id, Date, Event, Away_Team, Home_Team, Away_Score, Home_Score FROM PBP WHERE Event == 'GEND'\", conn)\n",
    "#dfVic.to_csv(\"C:\\dev\\pool-de-hockey\\src\\data\\scoreMatchs.csv\")"
   ]
  },
  {
   "cell_type": "code",
   "execution_count": 1,
   "metadata": {},
   "outputs": [],
   "source": [
    "from math import *\n",
    "import math\n",
    "from pandas import DataFrame\n",
    "\n",
    "\n",
    "def loiBinom(p, n, x):\n",
    "    pre = math.factorial(n)/(math.factorial(x)*math.factorial(n - x))\n",
    "    mid = pow(p, x)\n",
    "    end = pow((1 - p), (n - x))\n",
    "    return pre * mid * end\n",
    "\n",
    "def probGagnerPari(p, n, gagnerAbs=False):\n",
    "    if gagnerAbs:\n",
    "        mi = floor(n/2)\n",
    "        mi = mi + 1\n",
    "    else:\n",
    "        mi = ceil(n/2)\n",
    "    tot = 0\n",
    "    for i in range (mi, n+1):\n",
    "        f = loiBinom(p, n, i)\n",
    "        tot = tot + f\n",
    "    return tot\n",
    "\n",
    "def mettreDf(p, n, gagnerAbs=False):\n",
    "    lis = list(range(1, n+1))\n",
    "    df = DataFrame (lis, columns=[\"n\"])\n",
    "    vec = []\n",
    "    p = 0.5075\n",
    "    for i in lis:\n",
    "        probGagner = probGagnerPari(p, i, gagnerAbs)\n",
    "        vec.append(probGagner)\n",
    "    df[\"probGagner\"] = vec\n",
    "    return df"
   ]
  },
  {
   "cell_type": "code",
   "execution_count": 16,
   "metadata": {},
   "outputs": [
    {
     "output_type": "execute_result",
     "data": {
      "text/plain": [
       "        n  probGagner\n",
       "1       2    0.757444\n",
       "3       4    0.698665\n",
       "999  1000    0.693609\n",
       "997   998    0.693454\n",
       "995   996    0.693298\n",
       "..    ...         ...\n",
       "8       9    0.518451\n",
       "6       7    0.516403\n",
       "4       5    0.514060\n",
       "2       3    0.511249\n",
       "0       1    0.507500\n",
       "\n",
       "[1001 rows x 2 columns]"
      ],
      "text/html": "<div>\n<style scoped>\n    .dataframe tbody tr th:only-of-type {\n        vertical-align: middle;\n    }\n\n    .dataframe tbody tr th {\n        vertical-align: top;\n    }\n\n    .dataframe thead th {\n        text-align: right;\n    }\n</style>\n<table border=\"1\" class=\"dataframe\">\n  <thead>\n    <tr style=\"text-align: right;\">\n      <th></th>\n      <th>n</th>\n      <th>probGagner</th>\n    </tr>\n  </thead>\n  <tbody>\n    <tr>\n      <th>1</th>\n      <td>2</td>\n      <td>0.757444</td>\n    </tr>\n    <tr>\n      <th>3</th>\n      <td>4</td>\n      <td>0.698665</td>\n    </tr>\n    <tr>\n      <th>999</th>\n      <td>1000</td>\n      <td>0.693609</td>\n    </tr>\n    <tr>\n      <th>997</th>\n      <td>998</td>\n      <td>0.693454</td>\n    </tr>\n    <tr>\n      <th>995</th>\n      <td>996</td>\n      <td>0.693298</td>\n    </tr>\n    <tr>\n      <th>...</th>\n      <td>...</td>\n      <td>...</td>\n    </tr>\n    <tr>\n      <th>8</th>\n      <td>9</td>\n      <td>0.518451</td>\n    </tr>\n    <tr>\n      <th>6</th>\n      <td>7</td>\n      <td>0.516403</td>\n    </tr>\n    <tr>\n      <th>4</th>\n      <td>5</td>\n      <td>0.514060</td>\n    </tr>\n    <tr>\n      <th>2</th>\n      <td>3</td>\n      <td>0.511249</td>\n    </tr>\n    <tr>\n      <th>0</th>\n      <td>1</td>\n      <td>0.507500</td>\n    </tr>\n  </tbody>\n</table>\n<p>1001 rows × 2 columns</p>\n</div>"
     },
     "metadata": {},
     "execution_count": 16
    }
   ],
   "source": [
    "lis = []\n",
    "df = mettreDf(0.5075, 1001, True)\n",
    "df = df.sort_values(by=\"probGagner\", ascending=False)\n",
    "df"
   ]
  },
  {
   "cell_type": "code",
   "execution_count": 2,
   "metadata": {},
   "outputs": [
    {
     "output_type": "execute_result",
     "data": {
      "text/plain": [
       "0.057733990380810424"
      ]
     },
     "metadata": {},
     "execution_count": 2
    }
   ],
   "source": [
    "loiBinom(0.2, 100, 24)"
   ]
  },
  {
   "cell_type": "code",
   "execution_count": 19,
   "metadata": {},
   "outputs": [],
   "source": [
    "conn = sqlite3.connect('C:/Users/huber/OneDrive/NHL/DbMatchs.db')\n",
    "master_buts = pd.read_sql(\"SELECT Game_Id, Date, Period, Seconds_Elapsed, Event, Ev_team, Away_Team, Home_Team, Away_Goalie, Home_Goalie FROM PBP WHERE Event == 'GOAL'\", conn)\n",
    "\n",
    "#ajout colonne comptéSur\n",
    "master_buts[\"comptéSur\"] = np.where(master_buts[\"Ev_Team\"]==master_buts[\"Away_Team\"], master_buts[\"Home_Goalie\"], master_buts[\"Away_Goalie\"])\n",
    "\n",
    "#obtenir la df des shifts des gardiens\n",
    "#uniq = pd.unique(master_buts[['Away_Goalie', 'Home_Goalie']].values.ravel('K'))\n",
    "#uniqueGar = uniq.tolist()\n",
    "#n = len(uniqueGar)\n",
    "#shifts = pd.DataFrame(columns=[\"Game_Id\", \"Period\", \"Team\", \"Player\", \"Player_Id\", \"Start\", \"End\", \"Duration\", \"Date\"])\n",
    "#for i in range(0, n):\n",
    " #   gardien = uniqueGar[i]\n",
    "  #  try:\n",
    "   #     sql = \"SELECT * FROM SHIFTS WHERE Player == '\" + gardien + \"'\"\n",
    "    #    tempo = pd.read_sql(sql, conn)\n",
    "     #   shifts = shifts.append(tempo)\n",
    "    #except:\n",
    "    #    print(\"vide\")"
   ]
  },
  {
   "cell_type": "code",
   "execution_count": 27,
   "metadata": {},
   "outputs": [
    {
     "output_type": "execute_result",
     "data": {
      "text/plain": [
       "  Game_Id Period Team          Player Player_Id   Start     End  Duration  \\\n",
       "0   20001      1  OTT  CRAIG ANDERSON   8467950     0.0  1200.0    1200.0   \n",
       "1   20001      2  OTT  CRAIG ANDERSON   8467950     0.0  1200.0    1200.0   \n",
       "2   20001      3  OTT  CRAIG ANDERSON   8467950     0.0  1083.0    1083.0   \n",
       "3   20001      3  OTT  CRAIG ANDERSON   8467950  1134.0  1158.0      24.0   \n",
       "4   20020      1  OTT  CRAIG ANDERSON   8467950     0.0  1200.0    1200.0   \n",
       "\n",
       "         Date Periode      matchPeriode  idShift  \n",
       "0  2019-10-02       1  1200012019-10-02        0  \n",
       "1  2019-10-02       2  2200012019-10-02        1  \n",
       "2  2019-10-02       3  3200012019-10-02        2  \n",
       "3  2019-10-02       3  3200012019-10-02        3  \n",
       "4  2019-10-05       1  1200202019-10-05        4  "
      ],
      "text/html": "<div>\n<style scoped>\n    .dataframe tbody tr th:only-of-type {\n        vertical-align: middle;\n    }\n\n    .dataframe tbody tr th {\n        vertical-align: top;\n    }\n\n    .dataframe thead th {\n        text-align: right;\n    }\n</style>\n<table border=\"1\" class=\"dataframe\">\n  <thead>\n    <tr style=\"text-align: right;\">\n      <th></th>\n      <th>Game_Id</th>\n      <th>Period</th>\n      <th>Team</th>\n      <th>Player</th>\n      <th>Player_Id</th>\n      <th>Start</th>\n      <th>End</th>\n      <th>Duration</th>\n      <th>Date</th>\n      <th>Periode</th>\n      <th>matchPeriode</th>\n      <th>idShift</th>\n    </tr>\n  </thead>\n  <tbody>\n    <tr>\n      <th>0</th>\n      <td>20001</td>\n      <td>1</td>\n      <td>OTT</td>\n      <td>CRAIG ANDERSON</td>\n      <td>8467950</td>\n      <td>0.0</td>\n      <td>1200.0</td>\n      <td>1200.0</td>\n      <td>2019-10-02</td>\n      <td>1</td>\n      <td>1200012019-10-02</td>\n      <td>0</td>\n    </tr>\n    <tr>\n      <th>1</th>\n      <td>20001</td>\n      <td>2</td>\n      <td>OTT</td>\n      <td>CRAIG ANDERSON</td>\n      <td>8467950</td>\n      <td>0.0</td>\n      <td>1200.0</td>\n      <td>1200.0</td>\n      <td>2019-10-02</td>\n      <td>2</td>\n      <td>2200012019-10-02</td>\n      <td>1</td>\n    </tr>\n    <tr>\n      <th>2</th>\n      <td>20001</td>\n      <td>3</td>\n      <td>OTT</td>\n      <td>CRAIG ANDERSON</td>\n      <td>8467950</td>\n      <td>0.0</td>\n      <td>1083.0</td>\n      <td>1083.0</td>\n      <td>2019-10-02</td>\n      <td>3</td>\n      <td>3200012019-10-02</td>\n      <td>2</td>\n    </tr>\n    <tr>\n      <th>3</th>\n      <td>20001</td>\n      <td>3</td>\n      <td>OTT</td>\n      <td>CRAIG ANDERSON</td>\n      <td>8467950</td>\n      <td>1134.0</td>\n      <td>1158.0</td>\n      <td>24.0</td>\n      <td>2019-10-02</td>\n      <td>3</td>\n      <td>3200012019-10-02</td>\n      <td>3</td>\n    </tr>\n    <tr>\n      <th>4</th>\n      <td>20020</td>\n      <td>1</td>\n      <td>OTT</td>\n      <td>CRAIG ANDERSON</td>\n      <td>8467950</td>\n      <td>0.0</td>\n      <td>1200.0</td>\n      <td>1200.0</td>\n      <td>2019-10-05</td>\n      <td>1</td>\n      <td>1200202019-10-05</td>\n      <td>4</td>\n    </tr>\n  </tbody>\n</table>\n</div>"
     },
     "metadata": {},
     "execution_count": 27
    }
   ],
   "source": [
    "shifts[\"Game_Id\"] = shifts[\"Game_Id\"].map(str)\n",
    "shifts[\"Period\"] = shifts[\"Period\"].map(str)\n",
    "shifts[\"Date\"] = shifts[\"Date\"].map(str)\n",
    "idGame = shifts[\"Game_Id\"]\n",
    "periode = shifts[\"Period\"]\n",
    "date = shifts[\"Date\"]\n",
    "shifts[\"matchPeriode\"] = periode + idGame + date\n",
    "shifts[\"idShift\"] = shifts.index\n",
    "shifts.head()"
   ]
  },
  {
   "cell_type": "code",
   "execution_count": 26,
   "metadata": {},
   "outputs": [
    {
     "output_type": "execute_result",
     "data": {
      "text/plain": [
       "  Game_Id        Date Period  Seconds_Elapsed Event Ev_Team Away_Team  \\\n",
       "0   20001  2019-10-02      1             25.0  GOAL     OTT       OTT   \n",
       "1   20001  2019-10-02      2            140.0  GOAL     TOR       OTT   \n",
       "2   20001  2019-10-02      2            282.0  GOAL     TOR       OTT   \n",
       "3   20001  2019-10-02      2            351.0  GOAL     OTT       OTT   \n",
       "4   20001  2019-10-02      2            482.0  GOAL     TOR       OTT   \n",
       "\n",
       "  Home_Team     Away_Goalie        Home_Goalie          comptéSur  \\\n",
       "0       TOR  CRAIG ANDERSON  FREDERIK ANDERSEN  FREDERIK ANDERSEN   \n",
       "1       TOR  CRAIG ANDERSON  FREDERIK ANDERSEN     CRAIG ANDERSON   \n",
       "2       TOR  CRAIG ANDERSON  FREDERIK ANDERSEN     CRAIG ANDERSON   \n",
       "3       TOR  CRAIG ANDERSON  FREDERIK ANDERSEN  FREDERIK ANDERSEN   \n",
       "4       TOR  CRAIG ANDERSON  FREDERIK ANDERSEN     CRAIG ANDERSON   \n",
       "\n",
       "       matchPeriode  \n",
       "0  1200012019-10-02  \n",
       "1  2200012019-10-02  \n",
       "2  2200012019-10-02  \n",
       "3  2200012019-10-02  \n",
       "4  2200012019-10-02  "
      ],
      "text/html": "<div>\n<style scoped>\n    .dataframe tbody tr th:only-of-type {\n        vertical-align: middle;\n    }\n\n    .dataframe tbody tr th {\n        vertical-align: top;\n    }\n\n    .dataframe thead th {\n        text-align: right;\n    }\n</style>\n<table border=\"1\" class=\"dataframe\">\n  <thead>\n    <tr style=\"text-align: right;\">\n      <th></th>\n      <th>Game_Id</th>\n      <th>Date</th>\n      <th>Period</th>\n      <th>Seconds_Elapsed</th>\n      <th>Event</th>\n      <th>Ev_Team</th>\n      <th>Away_Team</th>\n      <th>Home_Team</th>\n      <th>Away_Goalie</th>\n      <th>Home_Goalie</th>\n      <th>comptéSur</th>\n      <th>matchPeriode</th>\n    </tr>\n  </thead>\n  <tbody>\n    <tr>\n      <th>0</th>\n      <td>20001</td>\n      <td>2019-10-02</td>\n      <td>1</td>\n      <td>25.0</td>\n      <td>GOAL</td>\n      <td>OTT</td>\n      <td>OTT</td>\n      <td>TOR</td>\n      <td>CRAIG ANDERSON</td>\n      <td>FREDERIK ANDERSEN</td>\n      <td>FREDERIK ANDERSEN</td>\n      <td>1200012019-10-02</td>\n    </tr>\n    <tr>\n      <th>1</th>\n      <td>20001</td>\n      <td>2019-10-02</td>\n      <td>2</td>\n      <td>140.0</td>\n      <td>GOAL</td>\n      <td>TOR</td>\n      <td>OTT</td>\n      <td>TOR</td>\n      <td>CRAIG ANDERSON</td>\n      <td>FREDERIK ANDERSEN</td>\n      <td>CRAIG ANDERSON</td>\n      <td>2200012019-10-02</td>\n    </tr>\n    <tr>\n      <th>2</th>\n      <td>20001</td>\n      <td>2019-10-02</td>\n      <td>2</td>\n      <td>282.0</td>\n      <td>GOAL</td>\n      <td>TOR</td>\n      <td>OTT</td>\n      <td>TOR</td>\n      <td>CRAIG ANDERSON</td>\n      <td>FREDERIK ANDERSEN</td>\n      <td>CRAIG ANDERSON</td>\n      <td>2200012019-10-02</td>\n    </tr>\n    <tr>\n      <th>3</th>\n      <td>20001</td>\n      <td>2019-10-02</td>\n      <td>2</td>\n      <td>351.0</td>\n      <td>GOAL</td>\n      <td>OTT</td>\n      <td>OTT</td>\n      <td>TOR</td>\n      <td>CRAIG ANDERSON</td>\n      <td>FREDERIK ANDERSEN</td>\n      <td>FREDERIK ANDERSEN</td>\n      <td>2200012019-10-02</td>\n    </tr>\n    <tr>\n      <th>4</th>\n      <td>20001</td>\n      <td>2019-10-02</td>\n      <td>2</td>\n      <td>482.0</td>\n      <td>GOAL</td>\n      <td>TOR</td>\n      <td>OTT</td>\n      <td>TOR</td>\n      <td>CRAIG ANDERSON</td>\n      <td>FREDERIK ANDERSEN</td>\n      <td>CRAIG ANDERSON</td>\n      <td>2200012019-10-02</td>\n    </tr>\n  </tbody>\n</table>\n</div>"
     },
     "metadata": {},
     "execution_count": 26
    }
   ],
   "source": [
    "master_buts[\"Game_Id\"] = master_buts[\"Game_Id\"].map(str)\n",
    "master_buts[\"Period\"] = master_buts[\"Period\"].map(str)\n",
    "master_buts[\"Date\"] = master_buts[\"Date\"].map(str)\n",
    "idGame = master_buts[\"Game_Id\"]\n",
    "periode = master_buts[\"Period\"]\n",
    "date = master_buts[\"Date\"]\n",
    "master_buts[\"matchPeriode\"] = periode + idGame + date\n",
    "master_buts.head()"
   ]
  },
  {
   "cell_type": "code",
   "execution_count": 30,
   "metadata": {},
   "outputs": [
    {
     "output_type": "execute_result",
     "data": {
      "text/plain": [
       "  Game_Id        Date Period  Seconds_Elapsed Event Ev_Team Away_Team  \\\n",
       "1   20001  2019-10-02      2            140.0  GOAL     TOR       OTT   \n",
       "2   20001  2019-10-02      2            282.0  GOAL     TOR       OTT   \n",
       "4   20001  2019-10-02      2            482.0  GOAL     TOR       OTT   \n",
       "5   20001  2019-10-02      2            890.0  GOAL     TOR       OTT   \n",
       "\n",
       "  Home_Team     Away_Goalie        Home_Goalie       comptéSur  \\\n",
       "1       TOR  CRAIG ANDERSON  FREDERIK ANDERSEN  CRAIG ANDERSON   \n",
       "2       TOR  CRAIG ANDERSON  FREDERIK ANDERSEN  CRAIG ANDERSON   \n",
       "4       TOR  CRAIG ANDERSON  FREDERIK ANDERSEN  CRAIG ANDERSON   \n",
       "5       TOR  CRAIG ANDERSON  FREDERIK ANDERSEN  CRAIG ANDERSON   \n",
       "\n",
       "       matchPeriode  \n",
       "1  2200012019-10-02  \n",
       "2  2200012019-10-02  \n",
       "4  2200012019-10-02  \n",
       "5  2200012019-10-02  "
      ],
      "text/html": "<div>\n<style scoped>\n    .dataframe tbody tr th:only-of-type {\n        vertical-align: middle;\n    }\n\n    .dataframe tbody tr th {\n        vertical-align: top;\n    }\n\n    .dataframe thead th {\n        text-align: right;\n    }\n</style>\n<table border=\"1\" class=\"dataframe\">\n  <thead>\n    <tr style=\"text-align: right;\">\n      <th></th>\n      <th>Game_Id</th>\n      <th>Date</th>\n      <th>Period</th>\n      <th>Seconds_Elapsed</th>\n      <th>Event</th>\n      <th>Ev_Team</th>\n      <th>Away_Team</th>\n      <th>Home_Team</th>\n      <th>Away_Goalie</th>\n      <th>Home_Goalie</th>\n      <th>comptéSur</th>\n      <th>matchPeriode</th>\n    </tr>\n  </thead>\n  <tbody>\n    <tr>\n      <th>1</th>\n      <td>20001</td>\n      <td>2019-10-02</td>\n      <td>2</td>\n      <td>140.0</td>\n      <td>GOAL</td>\n      <td>TOR</td>\n      <td>OTT</td>\n      <td>TOR</td>\n      <td>CRAIG ANDERSON</td>\n      <td>FREDERIK ANDERSEN</td>\n      <td>CRAIG ANDERSON</td>\n      <td>2200012019-10-02</td>\n    </tr>\n    <tr>\n      <th>2</th>\n      <td>20001</td>\n      <td>2019-10-02</td>\n      <td>2</td>\n      <td>282.0</td>\n      <td>GOAL</td>\n      <td>TOR</td>\n      <td>OTT</td>\n      <td>TOR</td>\n      <td>CRAIG ANDERSON</td>\n      <td>FREDERIK ANDERSEN</td>\n      <td>CRAIG ANDERSON</td>\n      <td>2200012019-10-02</td>\n    </tr>\n    <tr>\n      <th>4</th>\n      <td>20001</td>\n      <td>2019-10-02</td>\n      <td>2</td>\n      <td>482.0</td>\n      <td>GOAL</td>\n      <td>TOR</td>\n      <td>OTT</td>\n      <td>TOR</td>\n      <td>CRAIG ANDERSON</td>\n      <td>FREDERIK ANDERSEN</td>\n      <td>CRAIG ANDERSON</td>\n      <td>2200012019-10-02</td>\n    </tr>\n    <tr>\n      <th>5</th>\n      <td>20001</td>\n      <td>2019-10-02</td>\n      <td>2</td>\n      <td>890.0</td>\n      <td>GOAL</td>\n      <td>TOR</td>\n      <td>OTT</td>\n      <td>TOR</td>\n      <td>CRAIG ANDERSON</td>\n      <td>FREDERIK ANDERSEN</td>\n      <td>CRAIG ANDERSON</td>\n      <td>2200012019-10-02</td>\n    </tr>\n  </tbody>\n</table>\n</div>"
     },
     "metadata": {},
     "execution_count": 30
    }
   ],
   "source": [
    "gardien = \"CRAIG ANDERSON\"\n",
    "per = \"2200012019-10-02\"\n",
    "is_period = master_buts[\"matchPeriode\"] == per\n",
    "df = master_buts[is_period]\n",
    "is_gar = df[\"comptéSur\"] == gardien\n",
    "df[is_gar]"
   ]
  },
  {
   "cell_type": "code",
   "execution_count": null,
   "metadata": {},
   "outputs": [],
   "source": []
  }
 ]
}