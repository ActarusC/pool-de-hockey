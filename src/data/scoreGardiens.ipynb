{
 "metadata": {
  "language_info": {
   "codemirror_mode": {
    "name": "ipython",
    "version": 3
   },
   "file_extension": ".py",
   "mimetype": "text/x-python",
   "name": "python",
   "nbconvert_exporter": "python",
   "pygments_lexer": "ipython3",
   "version": "3.8.2-final"
  },
  "orig_nbformat": 2,
  "kernelspec": {
   "name": "python3",
   "display_name": "Python 3",
   "language": "python"
  }
 },
 "nbformat": 4,
 "nbformat_minor": 2,
 "cells": [
  {
   "cell_type": "code",
   "execution_count": 15,
   "metadata": {},
   "outputs": [
    {
     "output_type": "stream",
     "name": "stdout",
     "text": [
      "fausse alarme (espoir) 8482137\n",
      "fausse alarme (espoir) 8481519\n"
     ]
    },
    {
     "output_type": "execute_result",
     "data": {
      "text/plain": [
       "'2021-02-02'"
      ]
     },
     "metadata": {},
     "execution_count": 15
    }
   ],
   "source": [
    "conn = sqlite3.connect('C:/Users/huber/OneDrive/NHL/DbMatchs.db')\n",
    "\n",
    "#fonction qui crée une df du game log d'un gardien\n",
    "def logGardien(idNHL):\n",
    "    jsonJoueur = requests.get(\"https://statsapi.web.nhl.com/api/v1/people/\" + idNHL + \"/stats?stats=gameLog&season=20202021\").json()\n",
    "    df = pd.json_normalize(jsonJoueur[\"stats\"][0][\"splits\"])\n",
    "    gardienLogs = df[[\"season\", \"date\", \"isWin\", \"stat.shutouts\"]]\n",
    "    gardienLogs[\"gardien\"] = idNHL\n",
    "    return gardienLogs\n",
    "\n",
    "#générer la liste de tous les gardiens de la table JOUEURS \n",
    "dfGardiens = pd.read_sql(\"SELECT idNHL FROM JOUEURS WHERE position == 'G'\", conn)\n",
    "gardiens = dfGardiens[\"idNHL\"].apply(str)\n",
    "listGardiens = gardiens.values.tolist()\n",
    "\n",
    "#créer une df vide pour plus tard append le return de logGardien(idNHL) \n",
    "vraisCol = [\"season\", \"date\", \"isWin\", \"stat.shutouts\", \"gardien\"]\n",
    "gameLogsG = pd.DataFrame(columns=vraisCol)\n",
    "gameLogsG = gameLogsG.fillna(0)\n",
    "\n",
    "#itérer logGardien(idNHL) à la liste des gardiens de la table JOUEURS et sauvegarder les résultats à gameLogsG\n",
    "for i in listGardiens:\n",
    "    try:\n",
    "        gardienLogs = logGardien(i)\n",
    "    except:\n",
    "        print(\"fausse alarme (espoir) \" + i)\n",
    "    gameLogsG = gameLogsG.append(gardienLogs)\n",
    "gameLogsG = gameLogsG.rename(columns = {\"date\" : \"dateMatch\"})\n",
    "gameLogsG[[\"dateMatch\"]] = gameLogsG.dateMatch.str.split(\" 00:\",expand=True)\n",
    "gameLogsG[\"dateMatch\"] = pd.to_datetime(gameLogsG[\"dateMatch\"])\n",
    "pbpDates = pd.read_sql(\"SELECT MAX(Date) FROM PBP\", conn)\n",
    "maxDate = pbpDates.iloc[0][\"MAX(Date)\"]\n",
    "isInRange = maxDate"
   ]
  },
  {
   "cell_type": "code",
   "execution_count": 5,
   "metadata": {},
   "outputs": [
    {
     "output_type": "error",
     "ename": "NameError",
     "evalue": "name 'gameLogsG' is not defined",
     "traceback": [
      "\u001b[1;31m---------------------------------------------------------------------------\u001b[0m",
      "\u001b[1;31mNameError\u001b[0m                                 Traceback (most recent call last)",
      "\u001b[1;32m<ipython-input-5-457ea1d4684e>\u001b[0m in \u001b[0;36m<module>\u001b[1;34m\u001b[0m\n\u001b[0;32m      1\u001b[0m \u001b[1;31m# Faire le calcul de points avant de le mettre en SQL\u001b[0m\u001b[1;33m\u001b[0m\u001b[1;33m\u001b[0m\u001b[1;33m\u001b[0m\u001b[0m\n\u001b[1;32m----> 2\u001b[1;33m \u001b[0ma\u001b[0m \u001b[1;33m=\u001b[0m \u001b[0mgameLogsG\u001b[0m\u001b[1;33m[\u001b[0m\u001b[1;34m\"isWin\"\u001b[0m\u001b[1;33m]\u001b[0m\u001b[1;33m\u001b[0m\u001b[1;33m\u001b[0m\u001b[0m\n\u001b[0m\u001b[0;32m      3\u001b[0m \u001b[0mgameLogsG\u001b[0m\u001b[1;33m[\u001b[0m\u001b[1;34m\"esWin\"\u001b[0m\u001b[1;33m]\u001b[0m \u001b[1;33m=\u001b[0m \u001b[0ma\u001b[0m \u001b[1;33m*\u001b[0m \u001b[1;36m2\u001b[0m\u001b[1;33m\u001b[0m\u001b[1;33m\u001b[0m\u001b[0m\n\u001b[0;32m      4\u001b[0m \u001b[0mgameLogsG\u001b[0m \u001b[1;33m[\u001b[0m\u001b[1;34m\"scorePool\"\u001b[0m\u001b[1;33m]\u001b[0m \u001b[1;33m=\u001b[0m \u001b[0mgameLogsG\u001b[0m\u001b[1;33m[\u001b[0m\u001b[1;34m\"esWin\"\u001b[0m\u001b[1;33m]\u001b[0m \u001b[1;33m+\u001b[0m \u001b[0mgameLogsG\u001b[0m\u001b[1;33m[\u001b[0m\u001b[1;34m\"stat.shutouts\"\u001b[0m\u001b[1;33m]\u001b[0m\u001b[1;33m\u001b[0m\u001b[1;33m\u001b[0m\u001b[0m\n\u001b[0;32m      5\u001b[0m \u001b[1;33m\u001b[0m\u001b[0m\n",
      "\u001b[1;31mNameError\u001b[0m: name 'gameLogsG' is not defined"
     ]
    }
   ],
   "source": [
    "# Faire le calcul de points avant de le mettre en SQL\n",
    "a = gameLogsG[\"isWin\"]\n",
    "gameLogsG[\"esWin\"] = a * 2\n",
    "gameLogsG [\"scorePool\"] = gameLogsG[\"esWin\"] + gameLogsG[\"stat.shutouts\"]\n",
    "\n",
    "# save la df des game logs en une table SQL\n",
    "gameLogsG.to_sql(\"GARDIENS\", conn, if_exists=\"replace\", index=False)\n",
    "\n",
    "# faire le update SQL\n",
    "def GwriteUpdate(typeScore):\n",
    "    colAl = \"\"\n",
    "    if typeScore == \"isWin\":\n",
    "        colAl = \"buts\"\n",
    "    elif typeScore == \"stat.shutouts\":\n",
    "        colAl = \"assist\"\n",
    "    elif typeScore == \"scorePool\":\n",
    "        colAl = \"points\"\n",
    "    debut = \"UPDATE ALIGNEMENTS SET \" + colAl + \"Actuels = (SELECT Nb FROM (SELECT gardien, SUM(\" + typeScore + \") AS NbV FROM GARDIENS WHERE dateMatch BETWEEN ALIGNEMENTS.dateDebut AND ALIGNEMENTS.dateFin AND gardien = ALIGNEMENTS.idNHL)) WHERE ALIGNEMENTS.idNHL IN (SELECT DISTINCT(gardien) FROM GARDIENS)\"\n",
    "    return debut"
   ]
  },
  {
   "cell_type": "code",
   "execution_count": 1,
   "metadata": {},
   "outputs": [
    {
     "output_type": "stream",
     "name": "stdout",
     "text": [
      "<sqlite3.Cursor object at 0x00000197EC466F80>\n<sqlite3.Cursor object at 0x00000197EC466F80>\n<sqlite3.Cursor object at 0x00000197EC466F80>\n"
     ]
    }
   ],
   "source": [
    "#la majG() ne doit pas être jusqu'à 2100-01-01 mais jusqu'à la date max, ou on s'arrange pour que le pbp soit tjrs à jour.\n",
    "\n",
    "conn = sqlite3.connect('C:/Users/huber/OneDrive/NHL/DbMatchs.db')\n",
    "\n",
    "def execSQL(sql, conn, write=False):\n",
    "    c = conn.cursor()\n",
    "    print(c.execute(sql))\n",
    "    if write:\n",
    "        conn.commit()\n",
    "    else:\n",
    "        print(c.fetchall())\n",
    "    c.close()\n",
    "\n",
    "def GwriteUpdate(typeScore):\n",
    "    colAl = \"\"\n",
    "    if typeScore == \"isWin\":\n",
    "        colAl = \"buts\"\n",
    "    elif typeScore == \"'stat.shutouts'\":\n",
    "        colAl = \"assist\"\n",
    "    elif typeScore == \"scorePool\":\n",
    "        colAl = \"points\"\n",
    "    debut = \"UPDATE ALIGNEMENTS SET \" + colAl + \"Actuels = (SELECT Nb FROM (SELECT gardien, SUM(\" + typeScore + \") AS Nb FROM GARDIENS WHERE dateMatch BETWEEN ALIGNEMENTS.dateDebut AND ALIGNEMENTS.dateFin AND gardien = ALIGNEMENTS.idNHL)) WHERE ALIGNEMENTS.idNHL IN (SELECT DISTINCT(gardien) FROM GARDIENS)\"\n",
    "    return debut\n",
    "\n",
    "def majG():\n",
    "    updVic = GwriteUpdate(\"isWin\")\n",
    "    updJB = GwriteUpdate(\"'stat.shutouts'\")\n",
    "    updSco = GwriteUpdate(\"scorePool\")\n",
    "    execSQL(updVic, conn, write = True)\n",
    "    execSQL(updJB, conn, write = True)\n",
    "    execSQL(updSco, conn, write = True)\n",
    "\n",
    "majG()\n"
   ]
  }
 ]
}