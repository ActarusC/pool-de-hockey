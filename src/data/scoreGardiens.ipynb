{
 "metadata": {
  "language_info": {
   "codemirror_mode": {
    "name": "ipython",
    "version": 3
   },
   "file_extension": ".py",
   "mimetype": "text/x-python",
   "name": "python",
   "nbconvert_exporter": "python",
   "pygments_lexer": "ipython3",
   "version": "3.8.2-final"
  },
  "orig_nbformat": 2,
  "kernelspec": {
   "name": "python3",
   "display_name": "Python 3",
   "language": "python"
  }
 },
 "nbformat": 4,
 "nbformat_minor": 2,
 "cells": [
  {
   "cell_type": "code",
   "execution_count": 1,
   "metadata": {},
   "outputs": [
    {
     "output_type": "stream",
     "name": "stdout",
     "text": [
      "fausse alarme (espoir) 8482137\n",
      "fausse alarme (espoir) 8481519\n"
     ]
    },
    {
     "output_type": "execute_result",
     "data": {
      "text/plain": [
       "      season        date  isWin stat.shutouts  gardien\n",
       "0   20202021  2021-02-08   True             0  8475883\n",
       "1   20202021  2021-02-06   True             0  8475883\n",
       "2   20202021  2021-02-04   True             0  8475883\n",
       "3   20202021  2021-01-30  False             0  8475883\n",
       "4   20202021  2021-01-28   True             0  8475883\n",
       "5   20202021  2021-01-26   True             0  8475883\n",
       "6   20202021  2021-01-22   True             0  8475883\n",
       "7   20202021  2021-01-20  False             0  8475883\n",
       "8   20202021  2021-01-18   True             0  8475883\n",
       "9   20202021  2021-01-15  False             0  8475883\n",
       "10  20202021  2021-01-13   True             0  8475883\n",
       "0   20202021  2021-01-17  False             0  8478492\n",
       "1   20202021  2021-01-14   True             0  8478492\n",
       "0   20202021  2021-02-07   True             0  8479394\n",
       "1   20202021  2021-02-03  False             0  8479394\n",
       "2   20202021  2021-01-30   True             0  8479394\n",
       "3   20202021  2021-01-28   True             0  8479394\n",
       "4   20202021  2021-01-23  False             0  8479394\n",
       "5   20202021  2021-01-21  False             0  8479394\n",
       "6   20202021  2021-01-18  False             0  8479394\n",
       "7   20202021  2021-01-15   True             0  8479394\n",
       "8   20202021  2021-01-13   True             0  8479394\n",
       "0   20202021  2021-02-02  False             0  8479496\n",
       "1   20202021  2021-01-28  False             0  8479496\n",
       "0   20202021  2021-02-05   True             0  8476883\n",
       "1   20202021  2021-02-03   True             0  8476883\n",
       "2   20202021  2021-02-01   True             0  8476883\n",
       "3   20202021  2021-01-30   True             0  8476883\n",
       "4   20202021  2021-01-28  False             0  8476883\n",
       "5   20202021  2021-01-23  False             0  8476883\n",
       "6   20202021  2021-01-21   True             0  8476883\n",
       "7   20202021  2021-01-15   True             0  8476883\n",
       "8   20202021  2021-01-13   True             0  8476883\n",
       "0   20202021  2021-02-08  False             0  8478048\n",
       "1   20202021  2021-02-04   True             0  8478048\n",
       "2   20202021  2021-02-01   True             0  8478048\n",
       "3   20202021  2021-01-28   True             0  8478048\n",
       "4   20202021  2021-01-24  False             0  8478048\n",
       "5   20202021  2021-01-22  False             0  8478048\n",
       "6   20202021  2021-01-19  False             0  8478048\n",
       "7   20202021  2021-01-14  False             0  8478048\n",
       "0   20202021  2021-02-08  False             0  8478048\n",
       "1   20202021  2021-02-04   True             0  8478048\n",
       "2   20202021  2021-02-01   True             0  8478048\n",
       "3   20202021  2021-01-28   True             0  8478048\n",
       "4   20202021  2021-01-24  False             0  8478048\n",
       "5   20202021  2021-01-22  False             0  8478048\n",
       "6   20202021  2021-01-19  False             0  8478048\n",
       "7   20202021  2021-01-14  False             0  8478048\n",
       "0   20202021  2021-02-08  False             0  8478048\n",
       "1   20202021  2021-02-04   True             0  8478048\n",
       "2   20202021  2021-02-01   True             0  8478048\n",
       "3   20202021  2021-01-28   True             0  8478048\n",
       "4   20202021  2021-01-24  False             0  8478048\n",
       "5   20202021  2021-01-22  False             0  8478048\n",
       "6   20202021  2021-01-19  False             0  8478048\n",
       "7   20202021  2021-01-14  False             0  8478048"
      ],
      "text/html": "<div>\n<style scoped>\n    .dataframe tbody tr th:only-of-type {\n        vertical-align: middle;\n    }\n\n    .dataframe tbody tr th {\n        vertical-align: top;\n    }\n\n    .dataframe thead th {\n        text-align: right;\n    }\n</style>\n<table border=\"1\" class=\"dataframe\">\n  <thead>\n    <tr style=\"text-align: right;\">\n      <th></th>\n      <th>season</th>\n      <th>date</th>\n      <th>isWin</th>\n      <th>stat.shutouts</th>\n      <th>gardien</th>\n    </tr>\n  </thead>\n  <tbody>\n    <tr>\n      <th>0</th>\n      <td>20202021</td>\n      <td>2021-02-08</td>\n      <td>True</td>\n      <td>0</td>\n      <td>8475883</td>\n    </tr>\n    <tr>\n      <th>1</th>\n      <td>20202021</td>\n      <td>2021-02-06</td>\n      <td>True</td>\n      <td>0</td>\n      <td>8475883</td>\n    </tr>\n    <tr>\n      <th>2</th>\n      <td>20202021</td>\n      <td>2021-02-04</td>\n      <td>True</td>\n      <td>0</td>\n      <td>8475883</td>\n    </tr>\n    <tr>\n      <th>3</th>\n      <td>20202021</td>\n      <td>2021-01-30</td>\n      <td>False</td>\n      <td>0</td>\n      <td>8475883</td>\n    </tr>\n    <tr>\n      <th>4</th>\n      <td>20202021</td>\n      <td>2021-01-28</td>\n      <td>True</td>\n      <td>0</td>\n      <td>8475883</td>\n    </tr>\n    <tr>\n      <th>5</th>\n      <td>20202021</td>\n      <td>2021-01-26</td>\n      <td>True</td>\n      <td>0</td>\n      <td>8475883</td>\n    </tr>\n    <tr>\n      <th>6</th>\n      <td>20202021</td>\n      <td>2021-01-22</td>\n      <td>True</td>\n      <td>0</td>\n      <td>8475883</td>\n    </tr>\n    <tr>\n      <th>7</th>\n      <td>20202021</td>\n      <td>2021-01-20</td>\n      <td>False</td>\n      <td>0</td>\n      <td>8475883</td>\n    </tr>\n    <tr>\n      <th>8</th>\n      <td>20202021</td>\n      <td>2021-01-18</td>\n      <td>True</td>\n      <td>0</td>\n      <td>8475883</td>\n    </tr>\n    <tr>\n      <th>9</th>\n      <td>20202021</td>\n      <td>2021-01-15</td>\n      <td>False</td>\n      <td>0</td>\n      <td>8475883</td>\n    </tr>\n    <tr>\n      <th>10</th>\n      <td>20202021</td>\n      <td>2021-01-13</td>\n      <td>True</td>\n      <td>0</td>\n      <td>8475883</td>\n    </tr>\n    <tr>\n      <th>0</th>\n      <td>20202021</td>\n      <td>2021-01-17</td>\n      <td>False</td>\n      <td>0</td>\n      <td>8478492</td>\n    </tr>\n    <tr>\n      <th>1</th>\n      <td>20202021</td>\n      <td>2021-01-14</td>\n      <td>True</td>\n      <td>0</td>\n      <td>8478492</td>\n    </tr>\n    <tr>\n      <th>0</th>\n      <td>20202021</td>\n      <td>2021-02-07</td>\n      <td>True</td>\n      <td>0</td>\n      <td>8479394</td>\n    </tr>\n    <tr>\n      <th>1</th>\n      <td>20202021</td>\n      <td>2021-02-03</td>\n      <td>False</td>\n      <td>0</td>\n      <td>8479394</td>\n    </tr>\n    <tr>\n      <th>2</th>\n      <td>20202021</td>\n      <td>2021-01-30</td>\n      <td>True</td>\n      <td>0</td>\n      <td>8479394</td>\n    </tr>\n    <tr>\n      <th>3</th>\n      <td>20202021</td>\n      <td>2021-01-28</td>\n      <td>True</td>\n      <td>0</td>\n      <td>8479394</td>\n    </tr>\n    <tr>\n      <th>4</th>\n      <td>20202021</td>\n      <td>2021-01-23</td>\n      <td>False</td>\n      <td>0</td>\n      <td>8479394</td>\n    </tr>\n    <tr>\n      <th>5</th>\n      <td>20202021</td>\n      <td>2021-01-21</td>\n      <td>False</td>\n      <td>0</td>\n      <td>8479394</td>\n    </tr>\n    <tr>\n      <th>6</th>\n      <td>20202021</td>\n      <td>2021-01-18</td>\n      <td>False</td>\n      <td>0</td>\n      <td>8479394</td>\n    </tr>\n    <tr>\n      <th>7</th>\n      <td>20202021</td>\n      <td>2021-01-15</td>\n      <td>True</td>\n      <td>0</td>\n      <td>8479394</td>\n    </tr>\n    <tr>\n      <th>8</th>\n      <td>20202021</td>\n      <td>2021-01-13</td>\n      <td>True</td>\n      <td>0</td>\n      <td>8479394</td>\n    </tr>\n    <tr>\n      <th>0</th>\n      <td>20202021</td>\n      <td>2021-02-02</td>\n      <td>False</td>\n      <td>0</td>\n      <td>8479496</td>\n    </tr>\n    <tr>\n      <th>1</th>\n      <td>20202021</td>\n      <td>2021-01-28</td>\n      <td>False</td>\n      <td>0</td>\n      <td>8479496</td>\n    </tr>\n    <tr>\n      <th>0</th>\n      <td>20202021</td>\n      <td>2021-02-05</td>\n      <td>True</td>\n      <td>0</td>\n      <td>8476883</td>\n    </tr>\n    <tr>\n      <th>1</th>\n      <td>20202021</td>\n      <td>2021-02-03</td>\n      <td>True</td>\n      <td>0</td>\n      <td>8476883</td>\n    </tr>\n    <tr>\n      <th>2</th>\n      <td>20202021</td>\n      <td>2021-02-01</td>\n      <td>True</td>\n      <td>0</td>\n      <td>8476883</td>\n    </tr>\n    <tr>\n      <th>3</th>\n      <td>20202021</td>\n      <td>2021-01-30</td>\n      <td>True</td>\n      <td>0</td>\n      <td>8476883</td>\n    </tr>\n    <tr>\n      <th>4</th>\n      <td>20202021</td>\n      <td>2021-01-28</td>\n      <td>False</td>\n      <td>0</td>\n      <td>8476883</td>\n    </tr>\n    <tr>\n      <th>5</th>\n      <td>20202021</td>\n      <td>2021-01-23</td>\n      <td>False</td>\n      <td>0</td>\n      <td>8476883</td>\n    </tr>\n    <tr>\n      <th>6</th>\n      <td>20202021</td>\n      <td>2021-01-21</td>\n      <td>True</td>\n      <td>0</td>\n      <td>8476883</td>\n    </tr>\n    <tr>\n      <th>7</th>\n      <td>20202021</td>\n      <td>2021-01-15</td>\n      <td>True</td>\n      <td>0</td>\n      <td>8476883</td>\n    </tr>\n    <tr>\n      <th>8</th>\n      <td>20202021</td>\n      <td>2021-01-13</td>\n      <td>True</td>\n      <td>0</td>\n      <td>8476883</td>\n    </tr>\n    <tr>\n      <th>0</th>\n      <td>20202021</td>\n      <td>2021-02-08</td>\n      <td>False</td>\n      <td>0</td>\n      <td>8478048</td>\n    </tr>\n    <tr>\n      <th>1</th>\n      <td>20202021</td>\n      <td>2021-02-04</td>\n      <td>True</td>\n      <td>0</td>\n      <td>8478048</td>\n    </tr>\n    <tr>\n      <th>2</th>\n      <td>20202021</td>\n      <td>2021-02-01</td>\n      <td>True</td>\n      <td>0</td>\n      <td>8478048</td>\n    </tr>\n    <tr>\n      <th>3</th>\n      <td>20202021</td>\n      <td>2021-01-28</td>\n      <td>True</td>\n      <td>0</td>\n      <td>8478048</td>\n    </tr>\n    <tr>\n      <th>4</th>\n      <td>20202021</td>\n      <td>2021-01-24</td>\n      <td>False</td>\n      <td>0</td>\n      <td>8478048</td>\n    </tr>\n    <tr>\n      <th>5</th>\n      <td>20202021</td>\n      <td>2021-01-22</td>\n      <td>False</td>\n      <td>0</td>\n      <td>8478048</td>\n    </tr>\n    <tr>\n      <th>6</th>\n      <td>20202021</td>\n      <td>2021-01-19</td>\n      <td>False</td>\n      <td>0</td>\n      <td>8478048</td>\n    </tr>\n    <tr>\n      <th>7</th>\n      <td>20202021</td>\n      <td>2021-01-14</td>\n      <td>False</td>\n      <td>0</td>\n      <td>8478048</td>\n    </tr>\n    <tr>\n      <th>0</th>\n      <td>20202021</td>\n      <td>2021-02-08</td>\n      <td>False</td>\n      <td>0</td>\n      <td>8478048</td>\n    </tr>\n    <tr>\n      <th>1</th>\n      <td>20202021</td>\n      <td>2021-02-04</td>\n      <td>True</td>\n      <td>0</td>\n      <td>8478048</td>\n    </tr>\n    <tr>\n      <th>2</th>\n      <td>20202021</td>\n      <td>2021-02-01</td>\n      <td>True</td>\n      <td>0</td>\n      <td>8478048</td>\n    </tr>\n    <tr>\n      <th>3</th>\n      <td>20202021</td>\n      <td>2021-01-28</td>\n      <td>True</td>\n      <td>0</td>\n      <td>8478048</td>\n    </tr>\n    <tr>\n      <th>4</th>\n      <td>20202021</td>\n      <td>2021-01-24</td>\n      <td>False</td>\n      <td>0</td>\n      <td>8478048</td>\n    </tr>\n    <tr>\n      <th>5</th>\n      <td>20202021</td>\n      <td>2021-01-22</td>\n      <td>False</td>\n      <td>0</td>\n      <td>8478048</td>\n    </tr>\n    <tr>\n      <th>6</th>\n      <td>20202021</td>\n      <td>2021-01-19</td>\n      <td>False</td>\n      <td>0</td>\n      <td>8478048</td>\n    </tr>\n    <tr>\n      <th>7</th>\n      <td>20202021</td>\n      <td>2021-01-14</td>\n      <td>False</td>\n      <td>0</td>\n      <td>8478048</td>\n    </tr>\n    <tr>\n      <th>0</th>\n      <td>20202021</td>\n      <td>2021-02-08</td>\n      <td>False</td>\n      <td>0</td>\n      <td>8478048</td>\n    </tr>\n    <tr>\n      <th>1</th>\n      <td>20202021</td>\n      <td>2021-02-04</td>\n      <td>True</td>\n      <td>0</td>\n      <td>8478048</td>\n    </tr>\n    <tr>\n      <th>2</th>\n      <td>20202021</td>\n      <td>2021-02-01</td>\n      <td>True</td>\n      <td>0</td>\n      <td>8478048</td>\n    </tr>\n    <tr>\n      <th>3</th>\n      <td>20202021</td>\n      <td>2021-01-28</td>\n      <td>True</td>\n      <td>0</td>\n      <td>8478048</td>\n    </tr>\n    <tr>\n      <th>4</th>\n      <td>20202021</td>\n      <td>2021-01-24</td>\n      <td>False</td>\n      <td>0</td>\n      <td>8478048</td>\n    </tr>\n    <tr>\n      <th>5</th>\n      <td>20202021</td>\n      <td>2021-01-22</td>\n      <td>False</td>\n      <td>0</td>\n      <td>8478048</td>\n    </tr>\n    <tr>\n      <th>6</th>\n      <td>20202021</td>\n      <td>2021-01-19</td>\n      <td>False</td>\n      <td>0</td>\n      <td>8478048</td>\n    </tr>\n    <tr>\n      <th>7</th>\n      <td>20202021</td>\n      <td>2021-01-14</td>\n      <td>False</td>\n      <td>0</td>\n      <td>8478048</td>\n    </tr>\n  </tbody>\n</table>\n</div>"
     },
     "metadata": {},
     "execution_count": 1
    }
   ],
   "source": [
    "conn = sqlite3.connect('C:/Users/huber/OneDrive/NHL/DbMatchs.db')\n",
    "\n",
    "#fonction qui crée une df du game log d'un gardien\n",
    "def logGardien(idNHL):\n",
    "    jsonJoueur = requests.get(\"https://statsapi.web.nhl.com/api/v1/people/\" + idNHL + \"/stats?stats=gameLog&season=20202021\").json()\n",
    "    df = pd.json_normalize(jsonJoueur[\"stats\"][0][\"splits\"])\n",
    "    gardienLogs = df[[\"season\", \"date\", \"isWin\", \"stat.shutouts\"]]\n",
    "    gardienLogs[\"gardien\"] = idNHL\n",
    "    return gardienLogs\n",
    "\n",
    "#générer la liste de tous les gardiens de la table JOUEURS \n",
    "dfGardiens = pd.read_sql(\"SELECT idNHL FROM JOUEURS WHERE position == 'G'\", conn)\n",
    "gardiens = dfGardiens[\"idNHL\"].apply(str)\n",
    "listGardiens = gardiens.values.tolist()\n",
    "\n",
    "#créer une df vide pour plus tard append le return de logGardien(idNHL) \n",
    "vraisCol = [\"season\", \"date\", \"isWin\", \"stat.shutouts\", \"gardien\"]\n",
    "gameLogsG = pd.DataFrame(columns=vraisCol)\n",
    "gameLogsG = gameLogsG.fillna(0)\n",
    "\n",
    "#itérer logGardien(idNHL) à la liste des gardiens de la table JOUEURS et sauvegarder les résultats à gameLogsG\n",
    "for i in listGardiens:\n",
    "    try:\n",
    "        gardienLogs = logGardien(i)\n",
    "    except:\n",
    "        print(\"fausse alarme (espoir) \" + i)\n",
    "    gameLogsG = gameLogsG.append(gardienLogs)\n",
    "gameLogsG"
   ]
  },
  {
   "cell_type": "code",
   "execution_count": 16,
   "metadata": {},
   "outputs": [
    {
     "output_type": "error",
     "ename": "NameError",
     "evalue": "name 'sqlalchemy' is not defined",
     "traceback": [
      "\u001b[1;31m---------------------------------------------------------------------------\u001b[0m",
      "\u001b[1;31mNameError\u001b[0m                                 Traceback (most recent call last)",
      "\u001b[1;32m<ipython-input-16-45f5f88199de>\u001b[0m in \u001b[0;36m<module>\u001b[1;34m\u001b[0m\n\u001b[0;32m      1\u001b[0m \u001b[1;31m# save la df des game logs en une table SQL\u001b[0m\u001b[1;33m\u001b[0m\u001b[1;33m\u001b[0m\u001b[1;33m\u001b[0m\u001b[0m\n\u001b[1;32m----> 2\u001b[1;33m \u001b[0mgameLogsG\u001b[0m\u001b[1;33m.\u001b[0m\u001b[0mto_sql\u001b[0m\u001b[1;33m(\u001b[0m\u001b[1;34m\"GARDIENS\"\u001b[0m\u001b[1;33m,\u001b[0m \u001b[0mconn\u001b[0m\u001b[1;33m,\u001b[0m \u001b[0mif_exists\u001b[0m\u001b[1;33m=\u001b[0m\u001b[1;34m\"replace\"\u001b[0m\u001b[1;33m,\u001b[0m \u001b[0mindex\u001b[0m\u001b[1;33m=\u001b[0m\u001b[1;32mFalse\u001b[0m\u001b[1;33m,\u001b[0m \u001b[0mdtype\u001b[0m\u001b[1;33m=\u001b[0m\u001b[1;33m{\u001b[0m\u001b[1;34m\"date\"\u001b[0m\u001b[1;33m:\u001b[0m \u001b[0msqlalchemy\u001b[0m\u001b[1;33m.\u001b[0m\u001b[0mDateTime\u001b[0m\u001b[1;33m(\u001b[0m\u001b[1;33m)\u001b[0m\u001b[1;33m}\u001b[0m\u001b[1;33m)\u001b[0m\u001b[1;33m\u001b[0m\u001b[1;33m\u001b[0m\u001b[0m\n\u001b[0m\u001b[0;32m      3\u001b[0m \u001b[1;31m# faire le update SQL\u001b[0m\u001b[1;33m\u001b[0m\u001b[1;33m\u001b[0m\u001b[1;33m\u001b[0m\u001b[0m\n",
      "\u001b[1;31mNameError\u001b[0m: name 'sqlalchemy' is not defined"
     ]
    }
   ],
   "source": [
    "# save la df des game logs en une table SQL\n",
    "gameLogsG.to_sql(\"GARDIENS\", conn, if_exists=\"replace\", index=False, dtype={\"date\": sqlalchemy.DateTime()})\n",
    "# faire le update SQL"
   ]
  },
  {
   "cell_type": "code",
   "execution_count": null,
   "metadata": {},
   "outputs": [],
   "source": []
  }
 ]
}