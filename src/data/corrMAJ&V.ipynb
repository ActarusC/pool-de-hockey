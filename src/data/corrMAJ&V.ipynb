{
 "metadata": {
  "language_info": {
   "codemirror_mode": {
    "name": "ipython",
    "version": 3
   },
   "file_extension": ".py",
   "mimetype": "text/x-python",
   "name": "python",
   "nbconvert_exporter": "python",
   "pygments_lexer": "ipython3",
   "version": "3.8.2-final"
  },
  "orig_nbformat": 2,
  "kernelspec": {
   "name": "python3",
   "display_name": "Python 3",
   "language": "python"
  }
 },
 "nbformat": 4,
 "nbformat_minor": 2,
 "cells": [
  {
   "cell_type": "code",
   "execution_count": 15,
   "metadata": {},
   "outputs": [],
   "source": [
    "conn = sqlite3.connect('C:/Users/huber/OneDrive/NHL/DbMatchs.db')\n",
    "dfFac = pd.read_sql(\"SELECT Game_Id, Date, Description FROM PBP WHERE Event == 'FAC' AND Period == '1' AND Seconds_Elapsed == '0'\", conn)\n",
    "dfFac[['gagneMAJ', 'Reste']] = dfFac.Description.str.split(\" won\",expand=True,)\n",
    "dfFac[['Année', 'Reste', 'Reste2']] = dfFac.Date.str.split(\"-\",expand=True)\n",
    "dfFac = dfFac.drop([\"Description\", \"Reste2\"], axis=1)\n",
    "s = pd.to_numeric(dfFac[\"Année\"])\n",
    "dfFac[\"Année\"] = s\n",
    "r = pd.to_numeric(dfFac[\"Reste\"])\n",
    "dfFac[\"Reste\"] = r\n",
    "dfFac[\"debutSaison\"] = r.ge(9)\n",
    "dfFac[\"SaisonTempo\"] = s * dfFac[\"debutSaison\"]\n",
    "st = dfFac[\"SaisonTempo\"]\n",
    "dfFac[\"finSaison\"] = st.eq(0)\n",
    "dfFac[\"SaisonTempo2\"] = (s - 1) * dfFac[\"finSaison\"]\n",
    "dfFac[\"Saison\"] = dfFac[\"SaisonTempo\"] + dfFac[\"SaisonTempo2\"]\n",
    "dfFac[\"Saison\"] = dfFac[\"Saison\"].apply(str)\n",
    "dfFac = dfFac.drop([\"Reste\", \"Année\", \"debutSaison\", \"SaisonTempo\", \"finSaison\", \"SaisonTempo2\"], axis=1)\n",
    "dfFac[\"IdMatch\"] = dfFac[\"Saison\"] + \"0\" + dfFac[\"Game_Id\"]\n",
    "\n",
    "df = pd.read_csv(\"C:\\dev\\pool-de-hockey\\src\\data\\scoreMatchs.csv\", sep=\";\")\n",
    "df[['Année', 'Reste', 'Reste2']] = df.Date.str.split(\"-\",expand=True)\n",
    "df = df.drop([\"Reste2\"], axis=1)\n",
    "s = pd.to_numeric(df[\"Année\"])\n",
    "df[\"Année\"] = s\n",
    "r = pd.to_numeric(df[\"Reste\"])\n",
    "df[\"Reste\"] = r\n",
    "df[\"debutSaison\"] = r.ge(9)\n",
    "df[\"SaisonTempo\"] = s * df[\"debutSaison\"]\n",
    "st = df[\"SaisonTempo\"]\n",
    "df[\"finSaison\"] = st.eq(0)\n",
    "df[\"SaisonTempo2\"] = (s - 1) * df[\"finSaison\"]\n",
    "df[\"Saison\"] = df[\"SaisonTempo\"] + df[\"SaisonTempo2\"]\n",
    "df[\"Saison\"] = df[\"Saison\"].apply(str)\n",
    "df[\"Game_Id\"] = df[\"Game_Id\"].apply(str)\n",
    "df = df.drop([\"Reste\", \"Année\", \"debutSaison\", \"SaisonTempo\", \"finSaison\", \"SaisonTempo2\"], axis=1)\n",
    "df[\"IdMatch\"] = df[\"Saison\"] + \"0\" + df[\"Game_Id\"]\n",
    "\n",
    "dfFinale = dfFac.merge(df, on = \"IdMatch\")\n",
    "dfFinale = dfFinale[[\"Date_x\", \"gagneMAJ\", \"gagnant\"]]\n",
    "#dfFinale.to_csv(\"C:\\dev\\pool-de-hockey\\src\\data\\corr.csv\")"
   ]
  },
  {
   "cell_type": "code",
   "execution_count": null,
   "metadata": {},
   "outputs": [],
   "source": [
    "df."
   ]
  },
  {
   "cell_type": "code",
   "execution_count": 4,
   "metadata": {},
   "outputs": [],
   "source": [
    "#dfVic = pd.read_sql(\"SELECT Game_Id, Date, Event, Away_Team, Home_Team, Away_Score, Home_Score FROM PBP WHERE Event == 'GEND'\", conn)\n",
    "#dfVic.to_csv(\"C:\\dev\\pool-de-hockey\\src\\data\\scoreMatchs.csv\")"
   ]
  },
  {
   "cell_type": "code",
   "execution_count": 73,
   "metadata": {},
   "outputs": [],
   "source": [
    "from math import *\n",
    "import math\n",
    "from pandas import DataFrame\n",
    "\n",
    "\n",
    "def loiBinom(p, n, x):\n",
    "    pre = math.factorial(n)/(math.factorial(x)*math.factorial(n - x))\n",
    "    mid = pow(p, x)\n",
    "    end = pow((1 - p), (n - x))\n",
    "    return pre * mid * end\n",
    "\n",
    "def probGagnerPari(p, n):\n",
    "    mi = ceil(n/2)\n",
    "    tot = 0\n",
    "    for i in range (mi, n+1):\n",
    "        f = loiBinom(p, n, i)\n",
    "        tot = tot + f\n",
    "    return tot\n",
    "\n",
    "def mettreDf(p, n):\n",
    "    lis = list(range(1, n+1))\n",
    "    df = DataFrame (lis, columns=[\"n\"])\n",
    "    vec = []\n",
    "    p = 0.5075\n",
    "    for i in lis:\n",
    "        probGagner = probGagnerPari(p, i)\n",
    "        vec.append(probGagner)\n",
    "    df[\"probGagner\"] = vec\n",
    "    return df"
   ]
  },
  {
   "cell_type": "code",
   "execution_count": 77,
   "metadata": {},
   "outputs": [
    {
     "output_type": "execute_result",
     "data": {
      "text/plain": [
       "       n  probGagner\n",
       "1      2    0.757444\n",
       "3      4    0.698665\n",
       "5      6    0.670205\n",
       "7      8    0.652998\n",
       "499  500    0.648143\n",
       "..   ...         ...\n",
       "8      9    0.518451\n",
       "6      7    0.516403\n",
       "4      5    0.514060\n",
       "2      3    0.511249\n",
       "0      1    0.507500\n",
       "\n",
       "[500 rows x 2 columns]"
      ],
      "text/html": "<div>\n<style scoped>\n    .dataframe tbody tr th:only-of-type {\n        vertical-align: middle;\n    }\n\n    .dataframe tbody tr th {\n        vertical-align: top;\n    }\n\n    .dataframe thead th {\n        text-align: right;\n    }\n</style>\n<table border=\"1\" class=\"dataframe\">\n  <thead>\n    <tr style=\"text-align: right;\">\n      <th></th>\n      <th>n</th>\n      <th>probGagner</th>\n    </tr>\n  </thead>\n  <tbody>\n    <tr>\n      <th>1</th>\n      <td>2</td>\n      <td>0.757444</td>\n    </tr>\n    <tr>\n      <th>3</th>\n      <td>4</td>\n      <td>0.698665</td>\n    </tr>\n    <tr>\n      <th>5</th>\n      <td>6</td>\n      <td>0.670205</td>\n    </tr>\n    <tr>\n      <th>7</th>\n      <td>8</td>\n      <td>0.652998</td>\n    </tr>\n    <tr>\n      <th>499</th>\n      <td>500</td>\n      <td>0.648143</td>\n    </tr>\n    <tr>\n      <th>...</th>\n      <td>...</td>\n      <td>...</td>\n    </tr>\n    <tr>\n      <th>8</th>\n      <td>9</td>\n      <td>0.518451</td>\n    </tr>\n    <tr>\n      <th>6</th>\n      <td>7</td>\n      <td>0.516403</td>\n    </tr>\n    <tr>\n      <th>4</th>\n      <td>5</td>\n      <td>0.514060</td>\n    </tr>\n    <tr>\n      <th>2</th>\n      <td>3</td>\n      <td>0.511249</td>\n    </tr>\n    <tr>\n      <th>0</th>\n      <td>1</td>\n      <td>0.507500</td>\n    </tr>\n  </tbody>\n</table>\n<p>500 rows × 2 columns</p>\n</div>"
     },
     "metadata": {},
     "execution_count": 77
    }
   ],
   "source": [
    "lis = []\n",
    "mettreDf(0.5075, 501)\n",
    "df = df.sort_values(by=\"probGagner\", ascending=False)\n",
    "df"
   ]
  },
  {
   "cell_type": "code",
   "execution_count": null,
   "metadata": {},
   "outputs": [],
   "source": []
  }
 ]
}