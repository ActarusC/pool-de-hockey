{
 "metadata": {
  "language_info": {
   "codemirror_mode": {
    "name": "ipython",
    "version": 3
   },
   "file_extension": ".py",
   "mimetype": "text/x-python",
   "name": "python",
   "nbconvert_exporter": "python",
   "pygments_lexer": "ipython3",
   "version": "3.8.2-final"
  },
  "orig_nbformat": 2,
  "kernelspec": {
   "name": "python3",
   "display_name": "Python 3",
   "language": "python"
  }
 },
 "nbformat": 4,
 "nbformat_minor": 2,
 "cells": [
  {
   "cell_type": "code",
   "execution_count": 109,
   "metadata": {},
   "outputs": [
    {
     "output_type": "execute_result",
     "data": {
      "text/plain": [
       "     Game_Id        Date gagneMAJ Saison     IdMatch\n",
       "0      20001  2019-10-02      TOR   2019  2019020001\n",
       "1      20002  2019-10-02      WSH   2019  2019020002\n",
       "2      20003  2019-10-02      VAN   2019  2019020003\n",
       "3      20004  2019-10-02      VGK   2019  2019020004\n",
       "4      20005  2019-10-03      FLA   2019  2019020005\n",
       "...      ...         ...      ...    ...         ...\n",
       "4065   20154  2021-02-02      STL   2020  2020020154\n",
       "4066   20156  2021-02-02      CGY   2020  2020020156\n",
       "4067   20158  2021-02-02      MIN   2020  2020020158\n",
       "4068   20161  2021-02-02      ANA   2020  2020020161\n",
       "4069   20157  2021-02-02      EDM   2020  2020020157\n",
       "\n",
       "[4070 rows x 5 columns]"
      ],
      "text/html": "<div>\n<style scoped>\n    .dataframe tbody tr th:only-of-type {\n        vertical-align: middle;\n    }\n\n    .dataframe tbody tr th {\n        vertical-align: top;\n    }\n\n    .dataframe thead th {\n        text-align: right;\n    }\n</style>\n<table border=\"1\" class=\"dataframe\">\n  <thead>\n    <tr style=\"text-align: right;\">\n      <th></th>\n      <th>Game_Id</th>\n      <th>Date</th>\n      <th>gagneMAJ</th>\n      <th>Saison</th>\n      <th>IdMatch</th>\n    </tr>\n  </thead>\n  <tbody>\n    <tr>\n      <th>0</th>\n      <td>20001</td>\n      <td>2019-10-02</td>\n      <td>TOR</td>\n      <td>2019</td>\n      <td>2019020001</td>\n    </tr>\n    <tr>\n      <th>1</th>\n      <td>20002</td>\n      <td>2019-10-02</td>\n      <td>WSH</td>\n      <td>2019</td>\n      <td>2019020002</td>\n    </tr>\n    <tr>\n      <th>2</th>\n      <td>20003</td>\n      <td>2019-10-02</td>\n      <td>VAN</td>\n      <td>2019</td>\n      <td>2019020003</td>\n    </tr>\n    <tr>\n      <th>3</th>\n      <td>20004</td>\n      <td>2019-10-02</td>\n      <td>VGK</td>\n      <td>2019</td>\n      <td>2019020004</td>\n    </tr>\n    <tr>\n      <th>4</th>\n      <td>20005</td>\n      <td>2019-10-03</td>\n      <td>FLA</td>\n      <td>2019</td>\n      <td>2019020005</td>\n    </tr>\n    <tr>\n      <th>...</th>\n      <td>...</td>\n      <td>...</td>\n      <td>...</td>\n      <td>...</td>\n      <td>...</td>\n    </tr>\n    <tr>\n      <th>4065</th>\n      <td>20154</td>\n      <td>2021-02-02</td>\n      <td>STL</td>\n      <td>2020</td>\n      <td>2020020154</td>\n    </tr>\n    <tr>\n      <th>4066</th>\n      <td>20156</td>\n      <td>2021-02-02</td>\n      <td>CGY</td>\n      <td>2020</td>\n      <td>2020020156</td>\n    </tr>\n    <tr>\n      <th>4067</th>\n      <td>20158</td>\n      <td>2021-02-02</td>\n      <td>MIN</td>\n      <td>2020</td>\n      <td>2020020158</td>\n    </tr>\n    <tr>\n      <th>4068</th>\n      <td>20161</td>\n      <td>2021-02-02</td>\n      <td>ANA</td>\n      <td>2020</td>\n      <td>2020020161</td>\n    </tr>\n    <tr>\n      <th>4069</th>\n      <td>20157</td>\n      <td>2021-02-02</td>\n      <td>EDM</td>\n      <td>2020</td>\n      <td>2020020157</td>\n    </tr>\n  </tbody>\n</table>\n<p>4070 rows × 5 columns</p>\n</div>"
     },
     "metadata": {},
     "execution_count": 109
    }
   ],
   "source": [
    "conn = sqlite3.connect('C:/Users/huber/OneDrive/NHL/DbMatchs.db')\n",
    "dfFac = pd.read_sql(\"SELECT Game_Id, Date, Description FROM PBP WHERE Event == 'FAC' AND Period == '1' AND Seconds_Elapsed == '0'\", conn)\n",
    "dfFac[['gagneMAJ', 'Reste']] = dfFac.Description.str.split(\" won\",expand=True,)\n",
    "dfFac[['Année', 'Reste', 'Reste2']] = dfFac.Date.str.split(\"-\",expand=True)\n",
    "dfFac = dfFac.drop([\"Description\", \"Reste2\"], axis=1)\n",
    "s = pd.to_numeric(dfFac[\"Année\"])\n",
    "dfFac[\"Année\"] = s\n",
    "r = pd.to_numeric(dfFac[\"Reste\"])\n",
    "dfFac[\"Reste\"] = r\n",
    "dfFac[\"debutSaison\"] = r.ge(9)\n",
    "dfFac[\"SaisonTempo\"] = s * dfFac[\"debutSaison\"]\n",
    "st = dfFac[\"SaisonTempo\"]\n",
    "dfFac[\"finSaison\"] = st.eq(0)\n",
    "dfFac[\"SaisonTempo2\"] = (s - 1) * dfFac[\"finSaison\"]\n",
    "dfFac[\"Saison\"] = dfFac[\"SaisonTempo\"] + dfFac[\"SaisonTempo2\"]\n",
    "dfFac[\"Saison\"] = dfFac[\"Saison\"].apply(str)\n",
    "dfFac = dfFac.drop([\"Reste\", \"Année\", \"debutSaison\", \"SaisonTempo\", \"finSaison\", \"SaisonTempo2\"], axis=1)\n",
    "dfFac[\"IdMatch\"] = dfFac[\"Saison\"] + \"0\" + dfFac[\"Game_Id\"] \n",
    "dfFac"
   ]
  },
  {
   "cell_type": "code",
   "execution_count": 122,
   "metadata": {},
   "outputs": [
    {
     "output_type": "execute_result",
     "data": {
      "text/plain": [
       "     Game_Id        Date Event Away_Team Home_Team  Away_Score  Home_Score  \\\n",
       "0      20001  2019-10-02  GEND       OTT       TOR           3           5   \n",
       "1      20002  2019-10-02  GEND       WSH       STL           3           2   \n",
       "2      20003  2019-10-02  GEND       VAN       EDM           2           3   \n",
       "3      20004  2019-10-02  GEND       S.J       VGK           1           4   \n",
       "4      20005  2019-10-03  GEND       FLA       T.B           2           5   \n",
       "...      ...         ...   ...       ...       ...         ...         ...   \n",
       "4063   20154  2021-02-02  GEND       ARI       STL           3           4   \n",
       "4064   20156  2021-02-02  GEND       CGY       WPG           2           3   \n",
       "4065   20158  2021-02-02  GEND       MIN       COL           1           2   \n",
       "4066   20161  2021-02-02  GEND       ANA       L.A           3           1   \n",
       "4067   20157  2021-02-02  GEND       OTT       EDM           2           4   \n",
       "\n",
       "      diff  awayVic  \n",
       "0       -2    False  \n",
       "1        1     True  \n",
       "2       -1    False  \n",
       "3       -3    False  \n",
       "4       -3    False  \n",
       "...    ...      ...  \n",
       "4063    -1    False  \n",
       "4064    -1    False  \n",
       "4065    -1    False  \n",
       "4066     2     True  \n",
       "4067    -2    False  \n",
       "\n",
       "[4068 rows x 9 columns]"
      ],
      "text/html": "<div>\n<style scoped>\n    .dataframe tbody tr th:only-of-type {\n        vertical-align: middle;\n    }\n\n    .dataframe tbody tr th {\n        vertical-align: top;\n    }\n\n    .dataframe thead th {\n        text-align: right;\n    }\n</style>\n<table border=\"1\" class=\"dataframe\">\n  <thead>\n    <tr style=\"text-align: right;\">\n      <th></th>\n      <th>Game_Id</th>\n      <th>Date</th>\n      <th>Event</th>\n      <th>Away_Team</th>\n      <th>Home_Team</th>\n      <th>Away_Score</th>\n      <th>Home_Score</th>\n      <th>diff</th>\n      <th>awayVic</th>\n    </tr>\n  </thead>\n  <tbody>\n    <tr>\n      <th>0</th>\n      <td>20001</td>\n      <td>2019-10-02</td>\n      <td>GEND</td>\n      <td>OTT</td>\n      <td>TOR</td>\n      <td>3</td>\n      <td>5</td>\n      <td>-2</td>\n      <td>False</td>\n    </tr>\n    <tr>\n      <th>1</th>\n      <td>20002</td>\n      <td>2019-10-02</td>\n      <td>GEND</td>\n      <td>WSH</td>\n      <td>STL</td>\n      <td>3</td>\n      <td>2</td>\n      <td>1</td>\n      <td>True</td>\n    </tr>\n    <tr>\n      <th>2</th>\n      <td>20003</td>\n      <td>2019-10-02</td>\n      <td>GEND</td>\n      <td>VAN</td>\n      <td>EDM</td>\n      <td>2</td>\n      <td>3</td>\n      <td>-1</td>\n      <td>False</td>\n    </tr>\n    <tr>\n      <th>3</th>\n      <td>20004</td>\n      <td>2019-10-02</td>\n      <td>GEND</td>\n      <td>S.J</td>\n      <td>VGK</td>\n      <td>1</td>\n      <td>4</td>\n      <td>-3</td>\n      <td>False</td>\n    </tr>\n    <tr>\n      <th>4</th>\n      <td>20005</td>\n      <td>2019-10-03</td>\n      <td>GEND</td>\n      <td>FLA</td>\n      <td>T.B</td>\n      <td>2</td>\n      <td>5</td>\n      <td>-3</td>\n      <td>False</td>\n    </tr>\n    <tr>\n      <th>...</th>\n      <td>...</td>\n      <td>...</td>\n      <td>...</td>\n      <td>...</td>\n      <td>...</td>\n      <td>...</td>\n      <td>...</td>\n      <td>...</td>\n      <td>...</td>\n    </tr>\n    <tr>\n      <th>4063</th>\n      <td>20154</td>\n      <td>2021-02-02</td>\n      <td>GEND</td>\n      <td>ARI</td>\n      <td>STL</td>\n      <td>3</td>\n      <td>4</td>\n      <td>-1</td>\n      <td>False</td>\n    </tr>\n    <tr>\n      <th>4064</th>\n      <td>20156</td>\n      <td>2021-02-02</td>\n      <td>GEND</td>\n      <td>CGY</td>\n      <td>WPG</td>\n      <td>2</td>\n      <td>3</td>\n      <td>-1</td>\n      <td>False</td>\n    </tr>\n    <tr>\n      <th>4065</th>\n      <td>20158</td>\n      <td>2021-02-02</td>\n      <td>GEND</td>\n      <td>MIN</td>\n      <td>COL</td>\n      <td>1</td>\n      <td>2</td>\n      <td>-1</td>\n      <td>False</td>\n    </tr>\n    <tr>\n      <th>4066</th>\n      <td>20161</td>\n      <td>2021-02-02</td>\n      <td>GEND</td>\n      <td>ANA</td>\n      <td>L.A</td>\n      <td>3</td>\n      <td>1</td>\n      <td>2</td>\n      <td>True</td>\n    </tr>\n    <tr>\n      <th>4067</th>\n      <td>20157</td>\n      <td>2021-02-02</td>\n      <td>GEND</td>\n      <td>OTT</td>\n      <td>EDM</td>\n      <td>2</td>\n      <td>4</td>\n      <td>-2</td>\n      <td>False</td>\n    </tr>\n  </tbody>\n</table>\n<p>4068 rows × 9 columns</p>\n</div>"
     },
     "metadata": {},
     "execution_count": 122
    }
   ],
   "source": [
    "dfVic = pd.read_sql(\"SELECT Game_Id, Date, Event, Away_Team, Home_Team, Away_Score, Home_Score FROM PBP WHERE Event == 'GEND'\", conn)\n",
    "dfVic[\"diff\"] = dfVic[\"Away_Score\"] - dfVic[\"Home_Score\"]\n",
    "w = dfVic[\"diff\"]\n",
    "dfVic[\"awayVic\"] = w.ge(0)\n",
    "dfVic"
   ]
  },
  {
   "cell_type": "code",
   "execution_count": 124,
   "metadata": {},
   "outputs": [
    {
     "output_type": "error",
     "ename": "NameError",
     "evalue": "name 'df' is not defined",
     "traceback": [
      "\u001b[1;31m---------------------------------------------------------------------------\u001b[0m",
      "\u001b[1;31mNameError\u001b[0m                                 Traceback (most recent call last)",
      "\u001b[1;32m<ipython-input-124-9a2a8dd34d9b>\u001b[0m in \u001b[0;36m<module>\u001b[1;34m\u001b[0m\n\u001b[0;32m      5\u001b[0m         \u001b[1;32mreturn\u001b[0m \u001b[0mdf\u001b[0m\u001b[1;33m[\u001b[0m\u001b[1;34m\"Home_Team\"\u001b[0m\u001b[1;33m]\u001b[0m\u001b[1;33m\u001b[0m\u001b[1;33m\u001b[0m\u001b[0m\n\u001b[0;32m      6\u001b[0m \u001b[1;33m\u001b[0m\u001b[0m\n\u001b[1;32m----> 7\u001b[1;33m \u001b[0mdfVic\u001b[0m\u001b[1;33m.\u001b[0m\u001b[0massign\u001b[0m\u001b[1;33m(\u001b[0m\u001b[0mgetGagnant\u001b[0m\u001b[1;33m(\u001b[0m\u001b[1;33m)\u001b[0m\u001b[1;33m)\u001b[0m\u001b[1;33m\u001b[0m\u001b[1;33m\u001b[0m\u001b[0m\n\u001b[0m\u001b[0;32m      8\u001b[0m \u001b[0mdfVic\u001b[0m\u001b[1;33m\u001b[0m\u001b[1;33m\u001b[0m\u001b[0m\n",
      "\u001b[1;32m<ipython-input-124-9a2a8dd34d9b>\u001b[0m in \u001b[0;36mgetGagnant\u001b[1;34m()\u001b[0m\n\u001b[0;32m      1\u001b[0m \u001b[1;32mdef\u001b[0m \u001b[0mgetGagnant\u001b[0m\u001b[1;33m(\u001b[0m\u001b[1;33m)\u001b[0m\u001b[1;33m:\u001b[0m\u001b[1;33m\u001b[0m\u001b[1;33m\u001b[0m\u001b[0m\n\u001b[1;32m----> 2\u001b[1;33m     \u001b[1;32mif\u001b[0m \u001b[0mdf\u001b[0m\u001b[1;33m[\u001b[0m\u001b[1;34m\"awayVic\"\u001b[0m\u001b[1;33m]\u001b[0m\u001b[1;33m:\u001b[0m\u001b[1;33m\u001b[0m\u001b[1;33m\u001b[0m\u001b[0m\n\u001b[0m\u001b[0;32m      3\u001b[0m         \u001b[1;32mreturn\u001b[0m \u001b[0mdf\u001b[0m\u001b[1;33m[\u001b[0m\u001b[1;34m\"Away_Team\"\u001b[0m\u001b[1;33m]\u001b[0m\u001b[1;33m\u001b[0m\u001b[1;33m\u001b[0m\u001b[0m\n\u001b[0;32m      4\u001b[0m     \u001b[1;32melse\u001b[0m\u001b[1;33m:\u001b[0m\u001b[1;33m\u001b[0m\u001b[1;33m\u001b[0m\u001b[0m\n\u001b[0;32m      5\u001b[0m         \u001b[1;32mreturn\u001b[0m \u001b[0mdf\u001b[0m\u001b[1;33m[\u001b[0m\u001b[1;34m\"Home_Team\"\u001b[0m\u001b[1;33m]\u001b[0m\u001b[1;33m\u001b[0m\u001b[1;33m\u001b[0m\u001b[0m\n",
      "\u001b[1;31mNameError\u001b[0m: name 'df' is not defined"
     ]
    }
   ],
   "source": [
    "def getGagnant():\n",
    "    if df[\"awayVic\"]:\n",
    "        return df[\"Away_Team\"]\n",
    "    else:\n",
    "        return df[\"Home_Team\"]\n",
    "\n",
    "dfVic.assign(getGagnant())\n",
    "dfVic"
   ]
  },
  {
   "cell_type": "code",
   "execution_count": null,
   "metadata": {},
   "outputs": [],
   "source": []
  }
 ]
}