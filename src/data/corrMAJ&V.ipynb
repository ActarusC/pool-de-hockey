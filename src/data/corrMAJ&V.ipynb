{
 "metadata": {
  "language_info": {
   "codemirror_mode": {
    "name": "ipython",
    "version": 3
   },
   "file_extension": ".py",
   "mimetype": "text/x-python",
   "name": "python",
   "nbconvert_exporter": "python",
   "pygments_lexer": "ipython3",
   "version": "3.8.2-final"
  },
  "orig_nbformat": 2,
  "kernelspec": {
   "name": "python3",
   "display_name": "Python 3",
   "language": "python"
  }
 },
 "nbformat": 4,
 "nbformat_minor": 2,
 "cells": [
  {
   "cell_type": "code",
   "execution_count": 15,
   "metadata": {},
   "outputs": [],
   "source": [
    "conn = sqlite3.connect('C:/Users/huber/OneDrive/NHL/DbMatchs.db')\n",
    "dfFac = pd.read_sql(\"SELECT Game_Id, Date, Description FROM PBP WHERE Event == 'FAC' AND Period == '1' AND Seconds_Elapsed == '0'\", conn)\n",
    "dfFac[['gagneMAJ', 'Reste']] = dfFac.Description.str.split(\" won\",expand=True,)\n",
    "dfFac[['Année', 'Reste', 'Reste2']] = dfFac.Date.str.split(\"-\",expand=True)\n",
    "dfFac = dfFac.drop([\"Description\", \"Reste2\"], axis=1)\n",
    "s = pd.to_numeric(dfFac[\"Année\"])\n",
    "dfFac[\"Année\"] = s\n",
    "r = pd.to_numeric(dfFac[\"Reste\"])\n",
    "dfFac[\"Reste\"] = r\n",
    "dfFac[\"debutSaison\"] = r.ge(9)\n",
    "dfFac[\"SaisonTempo\"] = s * dfFac[\"debutSaison\"]\n",
    "st = dfFac[\"SaisonTempo\"]\n",
    "dfFac[\"finSaison\"] = st.eq(0)\n",
    "dfFac[\"SaisonTempo2\"] = (s - 1) * dfFac[\"finSaison\"]\n",
    "dfFac[\"Saison\"] = dfFac[\"SaisonTempo\"] + dfFac[\"SaisonTempo2\"]\n",
    "dfFac[\"Saison\"] = dfFac[\"Saison\"].apply(str)\n",
    "dfFac = dfFac.drop([\"Reste\", \"Année\", \"debutSaison\", \"SaisonTempo\", \"finSaison\", \"SaisonTempo2\"], axis=1)\n",
    "dfFac[\"IdMatch\"] = dfFac[\"Saison\"] + \"0\" + dfFac[\"Game_Id\"]\n",
    "\n",
    "df = pd.read_csv(\"C:\\dev\\pool-de-hockey\\src\\data\\scoreMatchs.csv\", sep=\";\")\n",
    "df[['Année', 'Reste', 'Reste2']] = df.Date.str.split(\"-\",expand=True)\n",
    "df = df.drop([\"Reste2\"], axis=1)\n",
    "s = pd.to_numeric(df[\"Année\"])\n",
    "df[\"Année\"] = s\n",
    "r = pd.to_numeric(df[\"Reste\"])\n",
    "df[\"Reste\"] = r\n",
    "df[\"debutSaison\"] = r.ge(9)\n",
    "df[\"SaisonTempo\"] = s * df[\"debutSaison\"]\n",
    "st = df[\"SaisonTempo\"]\n",
    "df[\"finSaison\"] = st.eq(0)\n",
    "df[\"SaisonTempo2\"] = (s - 1) * df[\"finSaison\"]\n",
    "df[\"Saison\"] = df[\"SaisonTempo\"] + df[\"SaisonTempo2\"]\n",
    "df[\"Saison\"] = df[\"Saison\"].apply(str)\n",
    "df[\"Game_Id\"] = df[\"Game_Id\"].apply(str)\n",
    "df = df.drop([\"Reste\", \"Année\", \"debutSaison\", \"SaisonTempo\", \"finSaison\", \"SaisonTempo2\"], axis=1)\n",
    "df[\"IdMatch\"] = df[\"Saison\"] + \"0\" + df[\"Game_Id\"]\n",
    "\n",
    "dfFinale = dfFac.merge(df, on = \"IdMatch\")\n",
    "dfFinale = dfFinale[[\"Date_x\", \"gagneMAJ\", \"gagnant\"]]\n",
    "dfFinale.to_csv(\"C:\\dev\\pool-de-hockey\\src\\data\\corr.csv\")"
   ]
  },
  {
   "cell_type": "code",
   "execution_count": null,
   "metadata": {},
   "outputs": [],
   "source": [
    "df."
   ]
  },
  {
   "cell_type": "code",
   "execution_count": 4,
   "metadata": {},
   "outputs": [],
   "source": [
    "#dfVic = pd.read_sql(\"SELECT Game_Id, Date, Event, Away_Team, Home_Team, Away_Score, Home_Score FROM PBP WHERE Event == 'GEND'\", conn)\n",
    "#dfVic.to_csv(\"C:\\dev\\pool-de-hockey\\src\\data\\scoreMatchs.csv\")"
   ]
  }
 ]
}