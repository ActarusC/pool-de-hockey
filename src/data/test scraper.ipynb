{
 "metadata": {
  "language_info": {
   "codemirror_mode": {
    "name": "ipython",
    "version": 3
   },
   "file_extension": ".py",
   "mimetype": "text/x-python",
   "name": "python",
   "nbconvert_exporter": "python",
   "pygments_lexer": "ipython3",
   "version": "3.8.2-final"
  },
  "orig_nbformat": 2,
  "kernelspec": {
   "name": "python3",
   "display_name": "Python 3",
   "language": "python"
  }
 },
 "nbformat": 4,
 "nbformat_minor": 2,
 "cells": [
  {
   "cell_type": "code",
   "execution_count": 1,
   "metadata": {},
   "outputs": [],
   "source": [
    "import hockey_scraper"
   ]
  },
  {
   "cell_type": "code",
   "execution_count": 7,
   "metadata": {},
   "outputs": [
    {
     "output_type": "stream",
     "name": "stdout",
     "text": [
      "Scraping Game  2018021019 2019-03-05\n",
      "Scraping Game  2018021020 2019-03-05\n",
      "Scraping Game  2018021021 2019-03-05\n",
      "Scraping Game  2018021022 2019-03-05\n",
      "Scraping Game  2018021023 2019-03-05\n",
      "Scraping Game  2018021024 2019-03-05\n",
      "Scraping Game  2018021025 2019-03-05\n",
      "Scraping Game  2018021026 2019-03-05\n",
      "Scraping Game  2018021027 2019-03-05\n",
      "Scraping Game  2018021028 2019-03-05\n",
      "Scraping Game  2018021029 2019-03-06\n",
      "Scraping Game  2018021030 2019-03-06\n",
      "Scraping Game  2018021031 2019-03-06\n",
      "Scraping Game  2018021032 2019-03-06\n",
      "\n"
     ]
    }
   ],
   "source": [
    "scrape = hockey_scraper.nhl.scrape_functions.scrape_date_range(\"2019-03-05\", \"2019-03-06\", if_scrape_shifts=False, data_format='pandas', preseason=False, rescrape=False, docs_dir=True)"
   ]
  },
  {
   "cell_type": "code",
   "execution_count": 21,
   "metadata": {},
   "outputs": [
    {
     "output_type": "execute_result",
     "data": {
      "text/plain": [
       "    Game_Id        Date  Period Event  \\\n",
       "265   21019  2019-03-05       3  GOAL   \n",
       "\n",
       "                                           Description Time_Elapsed  \\\n",
       "265  BOS #37 BERGERON(23), Snap, Off. Zone, 32 ft.A...         2:45   \n",
       "\n",
       "     Seconds_Elapsed Strength Ev_Zone       Type  ... Away_Score Home_Score  \\\n",
       "265            165.0      4x5     Off  SNAP SHOT  ...          2          2   \n",
       "\n",
       "           Away_Goalie Away_Goalie_Id     Home_Goalie  Home_Goalie_Id    xC  \\\n",
       "265  CURTIS MCELHINNEY      8470147.0  JAROSLAV HALAK       8470860.0  62.0   \n",
       "\n",
       "       yC     Home_Coach       Away_Coach  \n",
       "265  16.0  BRUCE CASSIDY  ROD BRIND'AMOUR  \n",
       "\n",
       "[1 rows x 56 columns]"
      ],
      "text/html": "<div>\n<style scoped>\n    .dataframe tbody tr th:only-of-type {\n        vertical-align: middle;\n    }\n\n    .dataframe tbody tr th {\n        vertical-align: top;\n    }\n\n    .dataframe thead th {\n        text-align: right;\n    }\n</style>\n<table border=\"1\" class=\"dataframe\">\n  <thead>\n    <tr style=\"text-align: right;\">\n      <th></th>\n      <th>Game_Id</th>\n      <th>Date</th>\n      <th>Period</th>\n      <th>Event</th>\n      <th>Description</th>\n      <th>Time_Elapsed</th>\n      <th>Seconds_Elapsed</th>\n      <th>Strength</th>\n      <th>Ev_Zone</th>\n      <th>Type</th>\n      <th>...</th>\n      <th>Away_Score</th>\n      <th>Home_Score</th>\n      <th>Away_Goalie</th>\n      <th>Away_Goalie_Id</th>\n      <th>Home_Goalie</th>\n      <th>Home_Goalie_Id</th>\n      <th>xC</th>\n      <th>yC</th>\n      <th>Home_Coach</th>\n      <th>Away_Coach</th>\n    </tr>\n  </thead>\n  <tbody>\n    <tr>\n      <th>265</th>\n      <td>21019</td>\n      <td>2019-03-05</td>\n      <td>3</td>\n      <td>GOAL</td>\n      <td>BOS #37 BERGERON(23), Snap, Off. Zone, 32 ft.A...</td>\n      <td>2:45</td>\n      <td>165.0</td>\n      <td>4x5</td>\n      <td>Off</td>\n      <td>SNAP SHOT</td>\n      <td>...</td>\n      <td>2</td>\n      <td>2</td>\n      <td>CURTIS MCELHINNEY</td>\n      <td>8470147.0</td>\n      <td>JAROSLAV HALAK</td>\n      <td>8470860.0</td>\n      <td>62.0</td>\n      <td>16.0</td>\n      <td>BRUCE CASSIDY</td>\n      <td>ROD BRIND'AMOUR</td>\n    </tr>\n  </tbody>\n</table>\n<p>1 rows × 56 columns</p>\n</div>"
     },
     "metadata": {},
     "execution_count": 21
    }
   ],
   "source": [
    "#aller chercher une df qui est le pbp\n",
    "playbp = scrape[\"pbp\"]\n",
    "\n",
    "#aller chercher seulement les buts\n",
    "is_buts = playbp[\"Event\"]==\"GOAL\"\n",
    "buts = playbp[is_buts]\n",
    "\n",
    "#aller chercher seulement les buts où Brad Marchand est le marqueur\n",
    "is_marchand = buts[\"p2_name\"]==\"BRAD MARCHAND\"\n",
    "marchand = buts[is_marchand]\n",
    "marchand"
   ]
  },
  {
   "cell_type": "code",
   "execution_count": null,
   "metadata": {},
   "outputs": [],
   "source": []
  }
 ]
}