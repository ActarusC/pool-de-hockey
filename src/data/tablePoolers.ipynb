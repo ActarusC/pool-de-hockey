{
 "metadata": {
  "language_info": {
   "codemirror_mode": {
    "name": "ipython",
    "version": 3
   },
   "file_extension": ".py",
   "mimetype": "text/x-python",
   "name": "python",
   "nbconvert_exporter": "python",
   "pygments_lexer": "ipython3",
   "version": "3.8.2-final"
  },
  "orig_nbformat": 2,
  "kernelspec": {
   "name": "python3",
   "display_name": "Python 3",
   "language": "python"
  }
 },
 "nbformat": 4,
 "nbformat_minor": 2,
 "cells": [
  {
   "cell_type": "code",
   "execution_count": 4,
   "metadata": {},
   "outputs": [
    {
     "output_type": "execute_result",
     "data": {
      "text/plain": [
       "Id              object\n",
       "Nom             object\n",
       "Équipe          object\n",
       "Abbréviation    object\n",
       "Score            int64\n",
       "dtype: object"
      ]
     },
     "metadata": {},
     "execution_count": 4
    }
   ],
   "source": [
    "d = {\"Id\" : [\"gab\", \"cle\", \"hub\"], \"Nom\" : [\"Gabriel\", \"Clément\", \"Hubert\"], \"Équipe\" : [\"Tropics\", \"Rocket\", \"Patriotes\"], \"Abbréviation\" : [\"TRO\", \"ROC\", \"PAT\"], \"Score\" : [0, 0, 0]}\n",
    "poolers = pd.DataFrame(data=d)\n",
    "poolers.dtypes"
   ]
  },
  {
   "cell_type": "code",
   "execution_count": 6,
   "metadata": {},
   "outputs": [],
   "source": [
    "conn = sqlite3.connect('C:/Users/huber/OneDrive/NHL/DbMatchs.db')\n",
    "poolers.to_sql('POOLERS', conn, if_exists='append', index = False)"
   ]
  }
 ]
}