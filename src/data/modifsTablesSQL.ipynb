{
 "metadata": {
  "language_info": {
   "codemirror_mode": {
    "name": "ipython",
    "version": 3
   },
   "file_extension": ".py",
   "mimetype": "text/x-python",
   "name": "python",
   "nbconvert_exporter": "python",
   "pygments_lexer": "ipython3",
   "version": "3.8.2-final"
  },
  "orig_nbformat": 2,
  "kernelspec": {
   "name": "python3",
   "display_name": "Python 3",
   "language": "python"
  }
 },
 "nbformat": 4,
 "nbformat_minor": 2,
 "cells": [
  {
   "cell_type": "code",
   "execution_count": 4,
   "metadata": {},
   "outputs": [
    {
     "output_type": "execute_result",
     "data": {
      "text/plain": [
       "Id              object\n",
       "Nom             object\n",
       "Équipe          object\n",
       "Abbréviation    object\n",
       "Score            int64\n",
       "dtype: object"
      ]
     },
     "metadata": {},
     "execution_count": 4
    }
   ],
   "source": [
    "d = {\"Id\" : [\"gab\", \"cle\", \"hub\"], \"Nom\" : [\"Gabriel\", \"Clément\", \"Hubert\"], \"Équipe\" : [\"Tropics\", \"Rocket\", \"Patriotes\"], \"Abbréviation\" : [\"TRO\", \"ROC\", \"PAT\"], \"Score\" : [0, 0, 0]}\n",
    "poolers = pd.DataFrame(data=d)\n",
    "poolers.dtypes"
   ]
  },
  {
   "cell_type": "code",
   "execution_count": 6,
   "metadata": {},
   "outputs": [],
   "source": [
    "conn = sqlite3.connect('C:/Users/huber/OneDrive/NHL/DbMatchs.db')\n",
    "poolers.to_sql('POOLERS', conn, if_exists='append', index = False)"
   ]
  },
  {
   "cell_type": "code",
   "execution_count": 3,
   "metadata": {},
   "outputs": [],
   "source": [
    "joueurs = pd.read_csv(\"joueurs.csv\", sep=\";\")\n",
    "conn = sqlite3.connect('C:/Users/huber/OneDrive/NHL/DbMatchs.db')\n",
    "joueurs.to_sql('JOUEURS', conn, if_exists='replace', index = False)"
   ]
  },
  {
   "cell_type": "code",
   "execution_count": 5,
   "metadata": {},
   "outputs": [],
   "source": [
    "#faire cette requête sql pour avoir la date d'ajd. Il faut que ce soit \"temporaire\" pour que ça s'actualise à chaque jour\n",
    "#aussi, dateFin et dateDebut seront inclues, donc: si un joueur passe de la réserve à l'alignement le 4 février, la dateFin de sa ligne réserve deviendra 3 février et la dateDébut de sa nouvelle ligne alignement sera 4 février\n",
    "#\"UPDATE ALIGNEMENTS SET dateFin = REPLACE(dateFin, \"ajd\", date(\"now\"))\""
   ]
  },
  {
   "cell_type": "code",
   "execution_count": 4,
   "metadata": {},
   "outputs": [],
   "source": [
    "alignements = pd.read_csv(\"alignements.csv\", sep=\";\")\n",
    "conn = sqlite3.connect('C:/Users/huber/OneDrive/NHL/DbMatchs.db')\n",
    "alignements.to_sql('ALIGNEMENTS', conn, if_exists='replace', index = False)"
   ]
  }
 ]
}