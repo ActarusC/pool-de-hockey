{
 "metadata": {
  "language_info": {
   "codemirror_mode": {
    "name": "ipython",
    "version": 3
   },
   "file_extension": ".py",
   "mimetype": "text/x-python",
   "name": "python",
   "nbconvert_exporter": "python",
   "pygments_lexer": "ipython3",
   "version": "3.8.2-final"
  },
  "orig_nbformat": 2,
  "kernelspec": {
   "name": "python3",
   "display_name": "Python 3",
   "language": "python"
  }
 },
 "nbformat": 4,
 "nbformat_minor": 2,
 "cells": [
  {
   "cell_type": "code",
   "execution_count": 2,
   "metadata": {},
   "outputs": [],
   "source": [
    "import hockey_scraper as hs"
   ]
  },
  {
   "cell_type": "code",
   "execution_count": 3,
   "metadata": {},
   "outputs": [
    {
     "output_type": "stream",
     "name": "stdout",
     "text": [
      "Scraping Game  2018021019 2019-03-05\n",
      "Scraping Game  2018021020 2019-03-05\n",
      "Scraping Game  2018021021 2019-03-05\n",
      "Scraping Game  2018021022 2019-03-05\n",
      "Scraping Game  2018021023 2019-03-05\n",
      "Scraping Game  2018021024 2019-03-05\n",
      "Scraping Game  2018021025 2019-03-05\n",
      "Scraping Game  2018021026 2019-03-05\n",
      "Scraping Game  2018021027 2019-03-05\n",
      "Scraping Game  2018021028 2019-03-05\n",
      "Scraping Game  2018021029 2019-03-06\n",
      "Scraping Game  2018021030 2019-03-06\n",
      "Scraping Game  2018021031 2019-03-06\n",
      "Scraping Game  2018021032 2019-03-06\n",
      "\n"
     ]
    }
   ],
   "source": [
    "scrape = hs.nhl.scrape_functions.scrape_date_range(\"2021-01-13\", \"2021-02-03\", if_scrape_shifts=False, data_format='pandas', preseason=False, rescrape=False, docs_dir=True)"
   ]
  },
  {
   "cell_type": "code",
   "execution_count": null,
   "metadata": {},
   "outputs": [],
   "source": [
    "conn = sqlite3.connect('C:/Users/huber/OneDrive/NHL/DbMatchs.db')\n",
    "scrape.to_sql('PBP', conn, if_exists='append', index = False)"
   ]
  }
 ]
}