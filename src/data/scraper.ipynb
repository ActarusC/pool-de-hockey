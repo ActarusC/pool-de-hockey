{
 "metadata": {
  "language_info": {
   "codemirror_mode": {
    "name": "ipython",
    "version": 3
   },
   "file_extension": ".py",
   "mimetype": "text/x-python",
   "name": "python",
   "nbconvert_exporter": "python",
   "pygments_lexer": "ipython3",
   "version": "3.8.2-final"
  },
  "orig_nbformat": 2,
  "kernelspec": {
   "name": "python3",
   "display_name": "Python 3",
   "language": "python"
  }
 },
 "nbformat": 4,
 "nbformat_minor": 2,
 "cells": [
  {
   "cell_type": "code",
   "execution_count": 13,
   "metadata": {},
   "outputs": [],
   "source": [
    "import hockey_scraper as hs\n",
    "from datetime import date, timedelta"
   ]
  },
  {
   "cell_type": "code",
   "execution_count": 18,
   "metadata": {},
   "outputs": [
    {
     "output_type": "stream",
     "name": "stdout",
     "text": [
      "Scraping Game  2020020160 2021-02-03\n",
      "Scraping Game  2020020159 2021-02-03\n",
      "Scraping Game  2020020164 2021-02-04\n",
      "Scraping Game  2020020165 2021-02-04\n",
      "Scraping Game  2020020167 2021-02-04\n",
      "Scraping Game  2020020170 2021-02-04\n",
      "Scraping Game  2020020171 2021-02-04\n",
      "Scraping Game  2020020168 2021-02-04\n",
      "Scraping Game  2020020169 2021-02-04\n",
      "Scraping Game  2020020172 2021-02-04\n",
      "Scraping Game  2020020174 2021-02-05\n",
      "Scraping Game  2020020175 2021-02-05\n",
      "Scraping Game  2020020176 2021-02-05\n",
      "Scraping Game  2020020177 2021-02-05\n",
      "Scraping Game  2020020178 2021-02-05\n",
      "Scraping Game  2020020183 2021-02-06\n",
      "Scraping Game  2020020550 2021-02-06\n",
      "Scraping Game  2020020181 2021-02-06\n",
      "Scraping Game  2020020184 2021-02-06\n",
      "Scraping Game  2020020187 2021-02-06\n",
      "Scraping Game  2020020185 2021-02-06\n",
      "Scraping Game  2020020188 2021-02-07\n",
      "Scraping Game  2020020194 2021-02-07\n",
      "Scraping Game  2020020193 2021-02-07\n",
      "Scraping Game  2020020189 2021-02-07\n",
      "Scraping Game  2020020190 2021-02-07\n",
      "Scraping Game  2020020196 2021-02-08\n",
      "Scraping Game  2020020197 2021-02-08\n",
      "Scraping Game  2020020199 2021-02-08\n",
      "Scraping Game  2020020200 2021-02-08\n",
      "Scraping Game  2020020198 2021-02-08\n",
      "Scraping Game  2020020565 2021-02-08\n",
      "Scraping Game  2020020203 2021-02-09\n",
      "Scraping Game  2020020205 2021-02-09\n",
      "Scraping Game  2020020204 2021-02-09\n",
      "Scraping Game  2020020208 2021-02-09\n",
      "Scraping Game  2020020210 2021-02-09\n",
      "Scraping Game  2020020211 2021-02-09\n",
      "Scraping Game  2020020206 2021-02-09\n",
      "Scraping Game  2020020212 2021-02-10\n",
      "Scraping Game  2020020213 2021-02-10\n",
      "Scraping Game  2020020215 2021-02-11\n",
      "Scraping Game  2020020217 2021-02-11\n",
      "Scraping Game  2020020218 2021-02-11\n",
      "Scraping Game  2020020219 2021-02-11\n",
      "Scraping Game  2020020221 2021-02-11\n",
      "Scraping Game  2020020220 2021-02-11\n",
      "Scraping Game  2020020224 2021-02-11\n",
      "Scraping Game  2020020222 2021-02-11\n",
      "Scraping Game  2020020226 2021-02-11\n",
      "Scraping Game  2020020227 2021-02-11\n",
      "Scraping Game  2020020228 2021-02-12\n",
      "\n",
      "Players missing IDs:\n",
      "  - CALLAN FOOTE 2020020160\n",
      "  - CALLAN FOOTE 2020020160\n",
      "  - CALLAN FOOTE 2020020175\n",
      "\n"
     ]
    }
   ],
   "source": [
    "conn = sqlite3.connect('C:/Users/huber/OneDrive/NHL/DbMatchs.db')\n",
    "\n",
    "pbpDates = pd.read_sql(\"SELECT MAX(Date) FROM PBP\", conn)\n",
    "maxDate = pbpDates.iloc[0][\"MAX(Date)\"]\n",
    "maxDate = pd.to_datetime(maxDate) + timedelta(days=1)\n",
    "maxDate = maxDate.strftime(\"%Y-%m-%d\")\n",
    "ajd = date.today()\n",
    "ajd = ajd.strftime(\"%Y-%m-%d\")\n",
    "\n",
    "scrape = hs.nhl.scrape_functions.scrape_date_range(maxDate, ajd, if_scrape_shifts=True, data_format='pandas', preseason=False, rescrape=False, docs_dir=True)"
   ]
  },
  {
   "cell_type": "code",
   "execution_count": 20,
   "metadata": {},
   "outputs": [],
   "source": [
    "#pbp\n",
    "dfPBP = scrape[\"pbp\"]\n",
    "dfPBP.to_sql('PBP', conn, if_exists='append', index = False)\n",
    "#shifts\n",
    "dfshifts = scrape[\"shifts\"]\n",
    "dfshifts.to_sql('SHIFTS', conn, if_exists='append', index = False)"
   ]
  },
  {
   "cell_type": "code",
   "execution_count": 17,
   "metadata": {},
   "outputs": [
    {
     "output_type": "execute_result",
     "data": {
      "text/plain": [
       "'2021-02-03'"
      ]
     },
     "metadata": {},
     "execution_count": 17
    }
   ],
   "source": [
    "pbpDates = pd.read_sql(\"SELECT MAX(Date) FROM PBP\", conn)\n",
    "maxDate = pbpDates.iloc[0][\"MAX(Date)\"]\n",
    "maxDate = pd.to_datetime(maxDate) + timedelta(days=1)\n",
    "maxDate = maxDate.strftime(\"%Y-%m-%d\")\n",
    "maxDate"
   ]
  }
 ]
}