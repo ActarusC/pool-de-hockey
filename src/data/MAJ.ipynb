{
 "metadata": {
  "language_info": {
   "codemirror_mode": {
    "name": "ipython",
    "version": 3
   },
   "file_extension": ".py",
   "mimetype": "text/x-python",
   "name": "python",
   "nbconvert_exporter": "python",
   "pygments_lexer": "ipython3",
   "version": "3.8.2-final"
  },
  "orig_nbformat": 2,
  "kernelspec": {
   "name": "python3",
   "display_name": "Python 3",
   "language": "python"
  }
 },
 "nbformat": 4,
 "nbformat_minor": 2,
 "cells": [
  {
   "source": [
    "``` SQL\n",
    "UPDATE ALIGNEMENTS\n",
    "SET pointsActuels = (SELECT COUNT(Event) AS NbPTS     \n",
    "  FROM PBP\n",
    "       INNER JOIN\n",
    "       ALIGNEMENTS ON (PBP.p1_ID = ALIGNEMENTS.idNHL) OR \n",
    "                      (PBP.p2_ID = ALIGNEMENTS.idNHL) OR \n",
    "                      (PBP.p3_ID = ALIGNEMENTS.idNHL) \n",
    " WHERE EVENT = \"GOAL\" AND \n",
    "       statutJoueur = \"Alignement\" AND \n",
    "       PBP.Date > ALIGNEMENTS.dateDebut AND\n",
    "       PBP.Date <= ALIGNEMENTS.dateFin\n",
    "GROUP BY idAlignement)\n",
    " ```"
   ],
   "cell_type": "markdown",
   "metadata": {}
  },
  {
   "source": [
    "Une cellule qui:\n",
    "\n",
    "    - (DONE) (majPoints) qui met à jour les buts, passes et PJ des joueurs selon la période donnée dans Alignements\n",
    "    - (DONE) qui met à jour le nombre de points de chaque pooler\n",
    "    - qui met à jour la masse salariale de chaque pooler\n",
    "    - (majJson) qui met à jour les json\n",
    "    - (testPierre) exécute le sync avec GitHub"
   ],
   "cell_type": "markdown",
   "metadata": {}
  },
  {
   "cell_type": "code",
   "execution_count": 10,
   "metadata": {},
   "outputs": [],
   "source": [
    "#variables globales\n",
    "\n",
    "conn = sqlite3.connect('C:/Users/huber/OneDrive/NHL/DbMatchs.db')\n",
    "fin = \" WHERE EVENT = 'GOAL' AND PBP.Date > ALIGNEMENTS.dateDebut AND PBP.Date <= ALIGNEMENTS.dateFin AND PBP.Date > '2019-08-25' GROUP BY idAlignement)) WHERE idAlignement = ALIGNEMENTS.idAlignement)\"\n",
    "\n",
    "#fonctions\n",
    "def execSQL(sql, conn, write=False):\n",
    "    c = conn.cursor()\n",
    "    print(c.execute(sql))\n",
    "    if write:\n",
    "        conn.commit()\n",
    "    else:\n",
    "        print(c.fetchall())\n",
    "    c.close()\n",
    "\n",
    "def writeUpdateDebut(typeScore):\n",
    "    updateDebut = \"UPDATE ALIGNEMENTS SET \" + typeScore + \"Actuels = (SELECT Nb\" + typeScore + \" FROM ((SELECT idAlignement, COUNT(Event) AS Nb\" + typeScore + \" FROM PBP INNER JOIN ALIGNEMENTS ON\"\n",
    "    return updateDebut\n",
    "    \n",
    "def majInterne(typeScore):\n",
    "    debut = writeUpdateDebut(typeScore)\n",
    "    if typeScore == \"buts\":\n",
    "        milieu = \" (PBP.p1_ID = ALIGNEMENTS.idNHL)\"\n",
    "    elif typeScore == \"assist\":\n",
    "        milieu = \" (PBP.p2_ID = ALIGNEMENTS.idNHL) OR (PBP.p3_ID = ALIGNEMENTS.idNHL)\"\n",
    "    sqlUpdate = debut + milieu + fin\n",
    "    execSQL(sqlUpdate, conn, write = True)\n",
    "\n",
    "def majPointsAlignements():\n",
    "    sqlUpdate = \"UPDATE ALIGNEMENTS SET pointsActuels = (butsActuels + assistActuels)\"\n",
    "    execSQL(sqlUpdate, conn, write = True)\n",
    "\n",
    "def majPJ():\n",
    "    sqlUpdate = \"UPDATE ALIGNEMENTS SET pjActuels = (SELECT NbPJ FROM (SELECT idAlignement, COUNT(DISTINCT Game_Id) AS NbPJ FROM SHIFTS INNER JOIN ALIGNEMENTS ON (SHIFTS.Player_Id = ALIGNEMENTS.idNHL) AND SHIFTS.Date > ALIGNEMENTS.dateDebut AND SHIFTS.Date <= ALIGNEMENTS.dateFin AND SHIFTS.Date > '2019-08-25' GROUP BY idAlignement) WHERE idAlignement = ALIGNEMENTS.idAlignement)\"\n",
    "    execSQL(sqlUpdate, conn, write = True)\n",
    "\n",
    "def majPJBPPAlign():\n",
    "    majInterne(\"buts\")\n",
    "    majInterne(\"assist\")\n",
    "    majPointsAlignements()\n",
    "    majPJ()\n",
    "\n",
    "def majScorePoolers():\n",
    "    sqlUpdate = \"UPDATE POOLERS SET PJ = (SELECT NbPJ FROM (SELECT idPooler, SUM(pjActuels) AS NbPJ FROM ALIGNEMENTS GROUP BY idPooler) WHERE Id = idPooler), B = (SELECT NbB FROM (SELECT idPooler, SUM(butsActuels) AS NbB FROM ALIGNEMENTS GROUP BY idPooler) WHERE Id = idPooler), A = (SELECT NbA FROM (SELECT idPooler, SUM(assistActuels) AS NbA FROM ALIGNEMENTS GROUP BY idPooler) WHERE Id = idPooler)\"\n",
    "    sqlUpdate2 = \"UPDATE POOLERS SET Score = (POOLERS.B + POOLERS.A)\"\n",
    "    execSQL(sqlUpdate, conn, write = True)\n",
    "    execSQL(sqlUpdate2, conn, write = True)"
   ]
  },
  {
   "cell_type": "code",
   "execution_count": 3,
   "metadata": {},
   "outputs": [
    {
     "output_type": "stream",
     "name": "stdout",
     "text": [
      "<sqlite3.Cursor object at 0x0000017A5A4913B0>\n",
      "<sqlite3.Cursor object at 0x0000017A5A4913B0>\n",
      "<sqlite3.Cursor object at 0x0000017A5A4913B0>\n",
      "<sqlite3.Cursor object at 0x0000017A5A4913B0>\n"
     ]
    }
   ],
   "source": [
    "majPJBPPAlign()"
   ]
  },
  {
   "cell_type": "code",
   "execution_count": 11,
   "metadata": {},
   "outputs": [
    {
     "output_type": "stream",
     "name": "stdout",
     "text": [
      "<sqlite3.Cursor object at 0x0000017A5B6CECE0>\n<sqlite3.Cursor object at 0x0000017A5B6CECE0>\n"
     ]
    }
   ],
   "source": [
    "majScorePoolers()"
   ]
  },
  {
   "cell_type": "code",
   "execution_count": null,
   "metadata": {},
   "outputs": [],
   "source": []
  }
 ]
}