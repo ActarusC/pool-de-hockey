{
 "metadata": {
  "language_info": {
   "codemirror_mode": {
    "name": "ipython",
    "version": 3
   },
   "file_extension": ".py",
   "mimetype": "text/x-python",
   "name": "python",
   "nbconvert_exporter": "python",
   "pygments_lexer": "ipython3",
   "version": "3.8.2-final"
  },
  "orig_nbformat": 2,
  "kernelspec": {
   "name": "python3",
   "display_name": "Python 3",
   "language": "python"
  }
 },
 "nbformat": 4,
 "nbformat_minor": 2,
 "cells": [
  {
   "source": [
    "``` SQL\n",
    "UPDATE ALIGNEMENTS\n",
    "SET pointsActuels = (SELECT COUNT(Event) AS NbPTS     \n",
    "  FROM PBP\n",
    "       INNER JOIN\n",
    "       ALIGNEMENTS ON (PBP.p1_ID = ALIGNEMENTS.idNHL) OR \n",
    "                      (PBP.p2_ID = ALIGNEMENTS.idNHL) OR \n",
    "                      (PBP.p3_ID = ALIGNEMENTS.idNHL) \n",
    " WHERE EVENT = \"GOAL\" AND \n",
    "       statutJoueur = \"Alignement\" AND \n",
    "       PBP.Date > ALIGNEMENTS.dateDebut AND\n",
    "       PBP.Date <= ALIGNEMENTS.dateFin\n",
    "GROUP BY idAlignement)\n",
    " ```"
   ],
   "cell_type": "markdown",
   "metadata": {}
  },
  {
   "source": [
    "Une cellule qui:\n",
    "\n",
    "    - (DONE) (majPoints) qui met à jour les buts, passes et PJ des joueurs selon la période donnée dans Alignements\n",
    "    - (DONE) qui met à jour le nombre de points de chaque pooler\n",
    "    - (DONE) qui met à jour la masse salariale de chaque pooler\n",
    "    - (DONE) qui met à jour les json\n",
    "    - (testPierre) exécute le sync avec GitHub"
   ],
   "cell_type": "markdown",
   "metadata": {}
  },
  {
   "cell_type": "code",
   "execution_count": 9,
   "metadata": {},
   "outputs": [],
   "source": [
    "#variables globales\n",
    "\n",
    "conn = sqlite3.connect('C:/Users/huber/OneDrive/NHL/DbMatchs.db')\n",
    "fin = \" WHERE EVENT = 'GOAL' AND Period <> '5' AND PBP.Date >= ALIGNEMENTS.dateDebut AND PBP.Date <= ALIGNEMENTS.dateFin AND PBP.Date >= '2021-01-13' GROUP BY idAlignement)) WHERE idAlignement = ALIGNEMENTS.idAlignement)\"\n",
    "\n",
    "#fonctions\n",
    "def execSQL(sql, conn, write=False):\n",
    "    c = conn.cursor()\n",
    "    print(c.execute(sql))\n",
    "    if write:\n",
    "        conn.commit()\n",
    "    else:\n",
    "        print(c.fetchall())\n",
    "    c.close()\n",
    "\n",
    "def writeUpdateDebut(typeScore):\n",
    "    updateDebut = \"UPDATE ALIGNEMENTS SET \" + typeScore + \"Actuels = (SELECT Nb\" + typeScore + \" FROM ((SELECT idAlignement, COUNT(Event) AS Nb\" + typeScore + \" FROM PBP INNER JOIN ALIGNEMENTS ON\"\n",
    "    return updateDebut\n",
    "    \n",
    "def majInterne(typeScore):\n",
    "    debut = writeUpdateDebut(typeScore)\n",
    "    if typeScore == \"buts\":\n",
    "        milieu = \" (PBP.p1_ID = ALIGNEMENTS.idNHL)\"\n",
    "    elif typeScore == \"assist\":\n",
    "        milieu = \" (PBP.p2_ID = ALIGNEMENTS.idNHL) OR (PBP.p3_ID = ALIGNEMENTS.idNHL)\"\n",
    "    sqlUpdate = debut + milieu + fin\n",
    "    execSQL(sqlUpdate, conn, write = True)\n",
    "\n",
    "def writeSetZero(typeScore):\n",
    "    setZero = \"UPDATE ALIGNEMENTS SET \" + typeScore + \"Actuels = 0 WHERE \" + typeScore + \"Actuels IS NULL\"\n",
    "    return setZero\n",
    "\n",
    "def majPointsAlignements():\n",
    "    setButsZero = writeSetZero(\"buts\")\n",
    "    setAssistZero = writeSetZero(\"assist\")\n",
    "    setPtsZero = writeSetZero(\"points\")\n",
    "    sqlUpdate = \"UPDATE ALIGNEMENTS SET pointsActuels = (butsActuels + assistActuels)\"\n",
    "    execSQL(setButsZero, conn, write = True)\n",
    "    execSQL(setAssistZero, conn, write = True)\n",
    "    execSQL(setPtsZero, conn, write = True)\n",
    "    execSQL(sqlUpdate, conn, write = True)\n",
    "\n",
    "def majPJ():\n",
    "    sqlUpdate = \"UPDATE ALIGNEMENTS SET pjActuels = (SELECT NbPJ FROM (SELECT idAlignement, COUNT(DISTINCT Game_Id) AS NbPJ FROM SHIFTS INNER JOIN ALIGNEMENTS ON (SHIFTS.Player_Id = ALIGNEMENTS.idNHL) AND SHIFTS.Date >= ALIGNEMENTS.dateDebut AND SHIFTS.Date <= ALIGNEMENTS.dateFin AND SHIFTS.Date >= '2021-01-13' GROUP BY idAlignement) WHERE idAlignement = ALIGNEMENTS.idAlignement)\"\n",
    "    updateNull = \"UPDATE ALIGNEMENTS SET pjActuels = 0 WHERE pjActuels IS NULL\"\n",
    "    execSQL(sqlUpdate, conn, write = True)\n",
    "    execSQL(updateNull, conn, write = True)\n",
    "\n",
    "def majPJBPPAlign():\n",
    "    majInterne(\"buts\")\n",
    "    majInterne(\"assist\")\n",
    "    majPointsAlignements()\n",
    "    majPJ()\n",
    "\n",
    "def majScorePoolers():\n",
    "    sqlUpdate = \"UPDATE POOLERS SET PJ = (SELECT NbPJ FROM (SELECT idPooler, SUM(pjActuels) AS NbPJ FROM ALIGNEMENTS WHERE statutJoueur = 'Alignement' GROUP BY idPooler) WHERE Id = idPooler), B = (SELECT NbB FROM (SELECT idPooler, SUM(butsActuels) AS NbB FROM ALIGNEMENTS WHERE statutJoueur = 'Alignement' GROUP BY idPooler) WHERE Id = idPooler), A = (SELECT NbA FROM (SELECT idPooler, SUM(assistActuels) AS NbA FROM ALIGNEMENTS WHERE statutJoueur = 'Alignement' GROUP BY idPooler) WHERE Id = idPooler)\"\n",
    "    sqlUpdate2 = \"UPDATE POOLERS SET Score = (POOLERS.B + POOLERS.A)\"\n",
    "    execSQL(sqlUpdate, conn, write = True)\n",
    "    execSQL(sqlUpdate2, conn, write = True)\n",
    "\n",
    "#majMasseSalariale()\n",
    "def majMasseSalariale():\n",
    "    sqlUpdate = \"UPDATE POOLERS SET MasseSalariale = (SELECT masseActuelle FROM (SELECT idPooler, SUM(salaireActuel) AS masseActuelle FROM ALIGNEMENTS INNER JOIN JOUEURS ON ALIGNEMENTS.idNHL = JOUEURS.idNHL WHERE date('now') BETWEEN ALIGNEMENTS.dateDebut AND ALIGNEMENTS.dateFin AND (statutJoueur = 'Alignement' OR statutJoueur = 'Réserve') GROUP BY idPooler) WHERE Poolers.Id = idPooler)\"\n",
    "    execSQL(sqlUpdate, conn, write = True)\n",
    "\n",
    "#maj des json\n",
    "def majTables():\n",
    "    conn = sqlite3.connect('C:/Users/huber/OneDrive/NHL/DbMatchs.db')\n",
    "    var = 'OK'\n",
    "    try:\n",
    "        #maj Poolers\n",
    "        dfPoolers = pd.read_sql(\"SELECT * FROM POOLERS\", conn)\n",
    "        jsonPoolers = dfPoolers.to_json(\"C:/dev/pool-de-hockey/src/data/poolers.json\", orient = \"table\", index =    False, indent = 4)\n",
    "    except Exception as ex:\n",
    "        print(\"Erreur : poolers\")\n",
    "        var = \"Erreur poolers\"\n",
    "\n",
    "    try:\n",
    "        #maj Alignements\n",
    "        requete = \"SELECT * FROM ALIGNEMENTS INNER JOIN JOUEURS ON JOUEURS.idNHL = ALIGNEMENTS.idNHL\"\n",
    "        dfTempo = pd.read_sql(requete, conn)\n",
    "        dfAlignements = dfTempo.T.drop_duplicates().T\n",
    "        jsonAlignements = dfAlignements.to_json(\"C:/dev/pool-de-hockey/src/data/alignements.json\", orient = \"table\", index = False, indent = 4)\n",
    "    except Exception as ex2:\n",
    "        print(\"Erreur : alignements\")\n",
    "        var = \"Erreur alignements\"\n",
    "\n",
    "    try:\n",
    "        #maj Joueurs\n",
    "        dfJoueurs = pd.read_sql(\"SELECT * FROM JOUEURS\", conn)\n",
    "        jsonJoueurs = dfJoueurs.to_json(\"C:/dev/pool-de-hockey/src/data/joueurs.json\", orient = \"table\", index = False, indent = 4)\n",
    "    except Exception as ex3:\n",
    "        print(\"Erreur : joueurs\")\n",
    "        var = \"Erreur joueurs\"\n",
    "\n",
    "    return var\n"
   ]
  },
  {
   "cell_type": "code",
   "execution_count": 10,
   "metadata": {},
   "outputs": [
    {
     "output_type": "stream",
     "name": "stdout",
     "text": [
      "<sqlite3.Cursor object at 0x0000024E5F067F80>\n",
      "<sqlite3.Cursor object at 0x0000024E5F067F80>\n",
      "<sqlite3.Cursor object at 0x0000024E5EF56F10>\n",
      "<sqlite3.Cursor object at 0x0000024E5EF56F10>\n",
      "<sqlite3.Cursor object at 0x0000024E5EF56F10>\n",
      "<sqlite3.Cursor object at 0x0000024E5EF56F10>\n",
      "<sqlite3.Cursor object at 0x0000024E5EF56F10>\n",
      "<sqlite3.Cursor object at 0x0000024E5EF56F10>\n",
      "<sqlite3.Cursor object at 0x0000024E5EF56F10>\n",
      "<sqlite3.Cursor object at 0x0000024E5EF56F10>\n",
      "<sqlite3.Cursor object at 0x0000024E5EF56F10>\n"
     ]
    },
    {
     "output_type": "execute_result",
     "data": {
      "text/plain": [
       "'OK'"
      ]
     },
     "metadata": {},
     "execution_count": 10
    }
   ],
   "source": [
    "majPJBPPAlign()\n",
    "majScorePoolers()\n",
    "majMasseSalariale()\n",
    "majTables()"
   ]
  },
  {
   "cell_type": "code",
   "execution_count": null,
   "metadata": {},
   "outputs": [],
   "source": []
  }
 ]
}