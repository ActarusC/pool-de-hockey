{
 "metadata": {
  "language_info": {
   "codemirror_mode": {
    "name": "ipython",
    "version": 3
   },
   "file_extension": ".py",
   "mimetype": "text/x-python",
   "name": "python",
   "nbconvert_exporter": "python",
   "pygments_lexer": "ipython3",
   "version": "3.9.1-final"
  },
  "orig_nbformat": 2,
  "kernelspec": {
   "name": "python3",
   "display_name": "Python 3.9.1 32-bit",
   "metadata": {
    "interpreter": {
     "hash": "63fd5069d213b44bf678585dea6b12cceca9941eaf7f819626cde1f2670de90d"
    }
   }
  }
 },
 "nbformat": 4,
 "nbformat_minor": 2,
 "cells": [
  {
   "cell_type": "code",
   "execution_count": 3,
   "metadata": {},
   "outputs": [],
   "source": [
    "import pandas as pd"
   ]
  },
  {
   "cell_type": "code",
   "execution_count": 4,
   "metadata": {},
   "outputs": [
    {
     "output_type": "execute_result",
     "data": {
      "text/plain": [
       "Id              object\n",
       "Nom             object\n",
       "Équipe          object\n",
       "Abbréviation    object\n",
       "Score            int64\n",
       "dtype: object"
      ]
     },
     "metadata": {},
     "execution_count": 4
    }
   ],
   "source": [
    "d = {\"Id\" : [\"gab\", \"cle\", \"hub\"], \"Nom\" : [\"Gabriel\", \"Clément\", \"Hubert\"], \"Équipe\" : [\"Tropics\", \"Rocket\", \"Patriotes\"], \"Abbréviation\" : [\"TRO\", \"ROC\", \"PAT\"], \"Score\" : [0, 0, 0]}\n",
    "poolers = pd.DataFrame(data=d)\n",
    "poolers.dtypes"
   ]
  },
  {
   "cell_type": "code",
   "execution_count": 7,
   "metadata": {},
   "outputs": [
    {
     "output_type": "execute_result",
     "data": {
      "text/plain": [
       "    Id      Nom     Équipe Abbréviation  Score\n",
       "0  gab  Gabriel    Tropics          TRO      0\n",
       "1  cle  Clément     Rocket          ROC      0\n",
       "2  hub   Hubert  Patriotes          PAT      0"
      ],
      "text/html": "<div>\n<style scoped>\n    .dataframe tbody tr th:only-of-type {\n        vertical-align: middle;\n    }\n\n    .dataframe tbody tr th {\n        vertical-align: top;\n    }\n\n    .dataframe thead th {\n        text-align: right;\n    }\n</style>\n<table border=\"1\" class=\"dataframe\">\n  <thead>\n    <tr style=\"text-align: right;\">\n      <th></th>\n      <th>Id</th>\n      <th>Nom</th>\n      <th>Équipe</th>\n      <th>Abbréviation</th>\n      <th>Score</th>\n    </tr>\n  </thead>\n  <tbody>\n    <tr>\n      <th>0</th>\n      <td>gab</td>\n      <td>Gabriel</td>\n      <td>Tropics</td>\n      <td>TRO</td>\n      <td>0</td>\n    </tr>\n    <tr>\n      <th>1</th>\n      <td>cle</td>\n      <td>Clément</td>\n      <td>Rocket</td>\n      <td>ROC</td>\n      <td>0</td>\n    </tr>\n    <tr>\n      <th>2</th>\n      <td>hub</td>\n      <td>Hubert</td>\n      <td>Patriotes</td>\n      <td>PAT</td>\n      <td>0</td>\n    </tr>\n  </tbody>\n</table>\n</div>"
     },
     "metadata": {},
     "execution_count": 7
    }
   ],
   "source": [
    "poolers"
   ]
  },
  {
   "cell_type": "code",
   "execution_count": null,
   "metadata": {},
   "outputs": [],
   "source": []
  }
 ]
}