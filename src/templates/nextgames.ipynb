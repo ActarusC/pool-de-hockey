{
 "cells": [
  {
   "cell_type": "code",
   "execution_count": 1,
   "metadata": {},
   "outputs": [],
   "source": [
    "import pandas as pd, sqlite3, requests\n",
    "import hockey_scraper as hs\n",
    "import numpy as np\n",
    "from datetime import date, timedelta, datetime"
   ]
  },
  {
   "cell_type": "code",
   "execution_count": 76,
   "metadata": {},
   "outputs": [
    {
     "data": {
      "text/html": [
       "<div>\n",
       "<style scoped>\n",
       "    .dataframe tbody tr th:only-of-type {\n",
       "        vertical-align: middle;\n",
       "    }\n",
       "\n",
       "    .dataframe tbody tr th {\n",
       "        vertical-align: top;\n",
       "    }\n",
       "\n",
       "    .dataframe thead th {\n",
       "        text-align: right;\n",
       "    }\n",
       "</style>\n",
       "<table border=\"1\" class=\"dataframe\">\n",
       "  <thead>\n",
       "    <tr style=\"text-align: right;\">\n",
       "      <th></th>\n",
       "      <th>Date</th>\n",
       "      <th>Adversaire</th>\n",
       "    </tr>\n",
       "  </thead>\n",
       "  <tbody>\n",
       "    <tr>\n",
       "      <th>0</th>\n",
       "      <td>2021-10-12</td>\n",
       "      <td>Pittsburgh Penguins</td>\n",
       "    </tr>\n",
       "    <tr>\n",
       "      <th>1</th>\n",
       "      <td>2021-10-14</td>\n",
       "      <td>Detroit Red Wings</td>\n",
       "    </tr>\n",
       "    <tr>\n",
       "      <th>2</th>\n",
       "      <td>2021-10-16</td>\n",
       "      <td>Washington Capitals</td>\n",
       "    </tr>\n",
       "    <tr>\n",
       "      <th>3</th>\n",
       "      <td>2021-10-19</td>\n",
       "      <td>Florida Panthers</td>\n",
       "    </tr>\n",
       "    <tr>\n",
       "      <th>4</th>\n",
       "      <td>2021-10-23</td>\n",
       "      <td>Colorado Avalanche</td>\n",
       "    </tr>\n",
       "    <tr>\n",
       "      <th>5</th>\n",
       "      <td>2021-10-25</td>\n",
       "      <td>Buffalo Sabres</td>\n",
       "    </tr>\n",
       "    <tr>\n",
       "      <th>6</th>\n",
       "      <td>2021-10-26</td>\n",
       "      <td>Pittsburgh Penguins</td>\n",
       "    </tr>\n",
       "    <tr>\n",
       "      <th>7</th>\n",
       "      <td>2021-10-28</td>\n",
       "      <td>Arizona Coyotes</td>\n",
       "    </tr>\n",
       "  </tbody>\n",
       "</table>\n",
       "</div>"
      ],
      "text/plain": [
       "         Date           Adversaire\n",
       "0  2021-10-12  Pittsburgh Penguins\n",
       "1  2021-10-14    Detroit Red Wings\n",
       "2  2021-10-16  Washington Capitals\n",
       "3  2021-10-19     Florida Panthers\n",
       "4  2021-10-23   Colorado Avalanche\n",
       "5  2021-10-25       Buffalo Sabres\n",
       "6  2021-10-26  Pittsburgh Penguins\n",
       "7  2021-10-28      Arizona Coyotes"
      ]
     },
     "execution_count": 76,
     "metadata": {},
     "output_type": "execute_result"
    }
   ],
   "source": [
    "idNHL = \"8478010\"\n",
    "jsonJoueur = requests.get(\"https://statsapi.web.nhl.com/api/v1/people/\" + idNHL).json()\n",
    "df = pd.json_normalize(jsonJoueur[\"people\"])\n",
    "tmID = str(df.at[0, \"currentTeam.id\"])\n",
    "jsonEquipe = requests.get(\"https://statsapi.web.nhl.com/api/v1/schedule?teamId=\" + tmID + \"&season=20212022&gameType=R\").json()\n",
    "df = pd.json_normalize(jsonEquipe[\"dates\"])\n",
    "dates = df[\"date\"]\n",
    "df = pd.json_normalize(jsonEquipe[\"dates\"])\n",
    "n = len(df)\n",
    "opps = []\n",
    "for i in range(0, n):\n",
    "    awayname = df[\"games\"][i][0][\"teams\"][\"away\"][\"team\"][\"name\"]\n",
    "    homename = df[\"games\"][i][0][\"teams\"][\"home\"][\"team\"][\"name\"]\n",
    "    awayid = df[\"games\"][i][0][\"teams\"][\"away\"][\"team\"][\"id\"]\n",
    "    tmID = int(tmID)\n",
    "    if awayid == tmID:\n",
    "        oppname = homename\n",
    "    else:\n",
    "        oppname = awayname\n",
    "    opps.append(oppname)\n",
    "schedule = pd.DataFrame({'Date':dates, 'Adversaire':opps}).head(8)\n",
    "schedule"
   ]
  },
  {
   "cell_type": "code",
   "execution_count": 79,
   "metadata": {},
   "outputs": [
    {
     "data": {
      "text/plain": [
       "'<table border=\"1\" class=\"dataframe\">\\n  <thead>\\n    <tr style=\"text-align: right;\">\\n      <th></th>\\n      <th>Date</th>\\n      <th>Adversaire</th>\\n    </tr>\\n  </thead>\\n  <tbody>\\n    <tr>\\n      <th>0</th>\\n      <td>2021-10-12</td>\\n      <td>Pittsburgh Penguins</td>\\n    </tr>\\n    <tr>\\n      <th>1</th>\\n      <td>2021-10-14</td>\\n      <td>Detroit Red Wings</td>\\n    </tr>\\n    <tr>\\n      <th>2</th>\\n      <td>2021-10-16</td>\\n      <td>Washington Capitals</td>\\n    </tr>\\n    <tr>\\n      <th>3</th>\\n      <td>2021-10-19</td>\\n      <td>Florida Panthers</td>\\n    </tr>\\n    <tr>\\n      <th>4</th>\\n      <td>2021-10-23</td>\\n      <td>Colorado Avalanche</td>\\n    </tr>\\n    <tr>\\n      <th>5</th>\\n      <td>2021-10-25</td>\\n      <td>Buffalo Sabres</td>\\n    </tr>\\n    <tr>\\n      <th>6</th>\\n      <td>2021-10-26</td>\\n      <td>Pittsburgh Penguins</td>\\n    </tr>\\n    <tr>\\n      <th>7</th>\\n      <td>2021-10-28</td>\\n      <td>Arizona Coyotes</td>\\n    </tr>\\n  </tbody>\\n</table>'"
      ]
     },
     "execution_count": 79,
     "metadata": {},
     "output_type": "execute_result"
    }
   ],
   "source": [
    "test = pd.DataFrame.to_html(schedule)\n",
    "test"
   ]
  }
 ],
 "metadata": {
  "interpreter": {
   "hash": "38740d3277777e2cd7c6c2cc9d8addf5118fdf3f82b1b39231fd12aeac8aee8b"
  },
  "kernelspec": {
   "display_name": "Python 3.9.7 64-bit",
   "name": "python3"
  },
  "language_info": {
   "codemirror_mode": {
    "name": "ipython",
    "version": 3
   },
   "file_extension": ".py",
   "mimetype": "text/x-python",
   "name": "python",
   "nbconvert_exporter": "python",
   "pygments_lexer": "ipython3",
   "version": "3.9.7"
  },
  "orig_nbformat": 4
 },
 "nbformat": 4,
 "nbformat_minor": 2
}
